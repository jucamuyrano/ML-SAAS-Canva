{
 "cells": [
  {
   "cell_type": "markdown",
   "id": "a16f265d",
   "metadata": {},
   "source": [
    "## Import Libraries"
   ]
  },
  {
   "cell_type": "code",
   "execution_count": 1,
   "id": "3e4acf23",
   "metadata": {},
   "outputs": [
    {
     "name": "stdout",
     "output_type": "stream",
     "text": [
      "Requirement already satisfied: awswrangler in /home/ec2-user/anaconda3/envs/python3/lib/python3.6/site-packages (2.13.0)\n",
      "Requirement already satisfied: numpy<2.0.0,>=1.18.0 in /home/ec2-user/anaconda3/envs/python3/lib/python3.6/site-packages (from awswrangler) (1.19.5)\n",
      "Requirement already satisfied: pandas<1.2.0,>=1.1.0 in /home/ec2-user/anaconda3/envs/python3/lib/python3.6/site-packages (from awswrangler) (1.1.5)\n",
      "Requirement already satisfied: boto3<2.0.0,>=1.20.17 in /home/ec2-user/anaconda3/envs/python3/lib/python3.6/site-packages (from awswrangler) (1.20.25)\n",
      "Requirement already satisfied: pg8000<1.23.0,>=1.16.0 in /home/ec2-user/anaconda3/envs/python3/lib/python3.6/site-packages (from awswrangler) (1.22.1)\n",
      "Requirement already satisfied: progressbar2<4.0.0,>=3.53.3 in /home/ec2-user/anaconda3/envs/python3/lib/python3.6/site-packages (from awswrangler) (3.55.0)\n",
      "Requirement already satisfied: pymysql<1.1.0,>=0.9.0 in /home/ec2-user/anaconda3/envs/python3/lib/python3.6/site-packages (from awswrangler) (1.0.2)\n",
      "Requirement already satisfied: xlwt<2.0.0,>=1.3.0 in /home/ec2-user/anaconda3/envs/python3/lib/python3.6/site-packages (from awswrangler) (1.3.0)\n",
      "Requirement already satisfied: jsonpath-ng<2.0.0,>=1.5.3 in /home/ec2-user/anaconda3/envs/python3/lib/python3.6/site-packages (from awswrangler) (1.5.3)\n",
      "Requirement already satisfied: botocore<2.0.0,>=1.23.17 in /home/ec2-user/anaconda3/envs/python3/lib/python3.6/site-packages (from awswrangler) (1.23.25)\n",
      "Requirement already satisfied: openpyxl<3.1.0,>=3.0.0 in /home/ec2-user/anaconda3/envs/python3/lib/python3.6/site-packages (from awswrangler) (3.0.6)\n",
      "Requirement already satisfied: redshift-connector<2.1.0,>=2.0.889 in /home/ec2-user/anaconda3/envs/python3/lib/python3.6/site-packages (from awswrangler) (2.0.902)\n",
      "Requirement already satisfied: xlrd<3.0.0,>=2.0.1 in /home/ec2-user/anaconda3/envs/python3/lib/python3.6/site-packages (from awswrangler) (2.0.1)\n",
      "Requirement already satisfied: pyarrow<6.1.0,>=2.0.0 in /home/ec2-user/anaconda3/envs/python3/lib/python3.6/site-packages (from awswrangler) (6.0.1)\n",
      "Requirement already satisfied: opensearch-py<2.0.0,>=1.0.0 in /home/ec2-user/anaconda3/envs/python3/lib/python3.6/site-packages (from awswrangler) (1.0.0)\n",
      "Requirement already satisfied: requests-aws4auth<2.0.0,>=1.1.1 in /home/ec2-user/anaconda3/envs/python3/lib/python3.6/site-packages (from awswrangler) (1.1.1)\n",
      "Requirement already satisfied: jmespath<1.0.0,>=0.7.1 in /home/ec2-user/anaconda3/envs/python3/lib/python3.6/site-packages (from boto3<2.0.0,>=1.20.17->awswrangler) (0.10.0)\n",
      "Requirement already satisfied: s3transfer<0.6.0,>=0.5.0 in /home/ec2-user/anaconda3/envs/python3/lib/python3.6/site-packages (from boto3<2.0.0,>=1.20.17->awswrangler) (0.5.0)\n",
      "Requirement already satisfied: urllib3<1.27,>=1.25.4 in /home/ec2-user/anaconda3/envs/python3/lib/python3.6/site-packages (from botocore<2.0.0,>=1.23.17->awswrangler) (1.26.7)\n",
      "Requirement already satisfied: python-dateutil<3.0.0,>=2.1 in /home/ec2-user/anaconda3/envs/python3/lib/python3.6/site-packages (from botocore<2.0.0,>=1.23.17->awswrangler) (2.8.1)\n",
      "Requirement already satisfied: six in /home/ec2-user/anaconda3/envs/python3/lib/python3.6/site-packages (from jsonpath-ng<2.0.0,>=1.5.3->awswrangler) (1.15.0)\n",
      "Requirement already satisfied: decorator in /home/ec2-user/anaconda3/envs/python3/lib/python3.6/site-packages (from jsonpath-ng<2.0.0,>=1.5.3->awswrangler) (4.4.2)\n",
      "Requirement already satisfied: ply in /home/ec2-user/anaconda3/envs/python3/lib/python3.6/site-packages (from jsonpath-ng<2.0.0,>=1.5.3->awswrangler) (3.11)\n",
      "Requirement already satisfied: et-xmlfile in /home/ec2-user/anaconda3/envs/python3/lib/python3.6/site-packages (from openpyxl<3.1.0,>=3.0.0->awswrangler) (1.0.1)\n",
      "Requirement already satisfied: jdcal in /home/ec2-user/anaconda3/envs/python3/lib/python3.6/site-packages (from openpyxl<3.1.0,>=3.0.0->awswrangler) (1.4.1)\n",
      "Requirement already satisfied: certifi in /home/ec2-user/anaconda3/envs/python3/lib/python3.6/site-packages (from opensearch-py<2.0.0,>=1.0.0->awswrangler) (2021.5.30)\n",
      "Requirement already satisfied: pytz>=2017.2 in /home/ec2-user/anaconda3/envs/python3/lib/python3.6/site-packages (from pandas<1.2.0,>=1.1.0->awswrangler) (2021.1)\n",
      "Requirement already satisfied: scramp>=1.4.1 in /home/ec2-user/anaconda3/envs/python3/lib/python3.6/site-packages (from pg8000<1.23.0,>=1.16.0->awswrangler) (1.4.1)\n",
      "Requirement already satisfied: python-utils>=2.3.0 in /home/ec2-user/anaconda3/envs/python3/lib/python3.6/site-packages (from progressbar2<4.0.0,>=3.53.3->awswrangler) (3.0.0)\n",
      "Requirement already satisfied: beautifulsoup4<5.0.0,>=4.7.0 in /home/ec2-user/anaconda3/envs/python3/lib/python3.6/site-packages (from redshift-connector<2.1.0,>=2.0.889->awswrangler) (4.9.3)\n",
      "Requirement already satisfied: lxml>=4.6.5 in /home/ec2-user/anaconda3/envs/python3/lib/python3.6/site-packages (from redshift-connector<2.1.0,>=2.0.889->awswrangler) (4.7.1)\n",
      "Requirement already satisfied: packaging in /home/ec2-user/anaconda3/envs/python3/lib/python3.6/site-packages (from redshift-connector<2.1.0,>=2.0.889->awswrangler) (21.3)\n",
      "Requirement already satisfied: requests<2.26.1,>=2.23.0 in /home/ec2-user/anaconda3/envs/python3/lib/python3.6/site-packages (from redshift-connector<2.1.0,>=2.0.889->awswrangler) (2.26.0)\n",
      "Requirement already satisfied: soupsieve>1.2 in /home/ec2-user/anaconda3/envs/python3/lib/python3.6/site-packages (from beautifulsoup4<5.0.0,>=4.7.0->redshift-connector<2.1.0,>=2.0.889->awswrangler) (2.0.1)\n",
      "Requirement already satisfied: idna<4,>=2.5 in /home/ec2-user/anaconda3/envs/python3/lib/python3.6/site-packages (from requests<2.26.1,>=2.23.0->redshift-connector<2.1.0,>=2.0.889->awswrangler) (3.1)\n",
      "Requirement already satisfied: charset-normalizer~=2.0.0 in /home/ec2-user/anaconda3/envs/python3/lib/python3.6/site-packages (from requests<2.26.1,>=2.23.0->redshift-connector<2.1.0,>=2.0.889->awswrangler) (2.0.9)\n",
      "Requirement already satisfied: asn1crypto>=1.4.0 in /home/ec2-user/anaconda3/envs/python3/lib/python3.6/site-packages (from scramp>=1.4.1->pg8000<1.23.0,>=1.16.0->awswrangler) (1.4.0)\n",
      "Requirement already satisfied: pyparsing!=3.0.5,>=2.0.2 in /home/ec2-user/anaconda3/envs/python3/lib/python3.6/site-packages (from packaging->redshift-connector<2.1.0,>=2.0.889->awswrangler) (2.4.7)\n"
     ]
    }
   ],
   "source": [
    "!pip install awswrangler"
   ]
  },
  {
   "cell_type": "code",
   "execution_count": 2,
   "id": "ed5c628c",
   "metadata": {},
   "outputs": [],
   "source": [
    "import awswrangler as wr\n",
    "import boto3\n",
    "\n",
    "mybucket = 'dlocal-eu1-office-live-sagemaker-aons'"
   ]
  },
  {
   "cell_type": "code",
   "execution_count": 3,
   "id": "2b5089a7",
   "metadata": {},
   "outputs": [],
   "source": [
    "import pandas as pd\n",
    "import numpy as np\n",
    "import matplotlib.pyplot as plt\n",
    "import seaborn as sns\n",
    "import warnings\n",
    "import decimal\n",
    "import math\n",
    "\n",
    "pd.set_option('display.max_columns', None)\n",
    "pd.set_option('display.max_rows', None)\n",
    "warnings.filterwarnings('ignore')\n",
    "pd.set_option('precision', 2)\n",
    "pd.set_option('display.float_format', lambda x: f'{x:,.2f}')"
   ]
  },
  {
   "cell_type": "markdown",
   "id": "a3e6de6d",
   "metadata": {},
   "source": [
    "## Upload Data Base"
   ]
  },
  {
   "cell_type": "code",
   "execution_count": 4,
   "id": "bfea59cc",
   "metadata": {},
   "outputs": [],
   "source": [
    "query = '''\n",
    "\n",
    "select\n",
    "    ml.case_id,\n",
    "    ca.bin,\n",
    "    ca.brand,\n",
    "    ca.category,\n",
    "    rc.usd_amount,\n",
    "    rc.online_verdict,\n",
    "    cc.result,\n",
    "    case\n",
    "        when rc.online_verdict_reason like '%Positive%'then 1\n",
    "        else 0\n",
    "    end as flag_PU,\n",
    "    case\n",
    "        when id_chargeback is not null then 1\n",
    "        else 0\n",
    "    end as flag_cbk,\n",
    "    ml.pred_score,\n",
    "    (array_max(transform(siv.same_card.same_card.approved.transaction_hours, x -> cast(x as int))))/24 card_age_days\n",
    "\n",
    "from risk.risk_risk_case rc\n",
    "\n",
    "join \"dlocal-eu1-office-live-machine-learning\".\"saas_test_dataset_new_merchants_20211004\" ml\n",
    "    on ml.case_id = rc.case_id\n",
    "    \n",
    "left join risk.risk_card ca\n",
    "    on ca.card_id = rc.card_id\n",
    "\n",
    "left join risk.risk_risk_case_collect cc\n",
    "    on cc.case_id = rc.case_id\n",
    "\n",
    "left join default.merchant_data_pf md\n",
    "    on rc.merchant_reference = md.merchant_reference\n",
    "    and rc.country_code = md.country_code\n",
    "\n",
    "left join dl_db_master.unipay_chargebacks cbk \n",
    "    on rc.ticket_id = cbk.id_boleto\n",
    "    and cc.result='ACCEPT'\n",
    "\n",
    "left join \"datalake_lookout\".\"sherlock_initial\" si \n",
    "    on cast(rc.case_id as varchar) = si.\"data.input.transaction.case_id\"\n",
    "\n",
    "left join \"datalake_lookout\".\"sherlock_initial_velocities\" siv\n",
    "    on siv.sherlock_initial_id = si.id\n",
    "\n",
    "where rc.merchant_reference = '30630'\n",
    "    and rc.operation_type in('WITH_CVV', 'WITHOUT_CVV', 'TOKEN')\n",
    "    and rc.created_date between date '2021-04-17' and date '2021-09-15'\n",
    ";\n",
    "\n",
    "'''"
   ]
  },
  {
   "cell_type": "code",
   "execution_count": 5,
   "id": "f0c758a6",
   "metadata": {},
   "outputs": [
    {
     "name": "stdout",
     "output_type": "stream",
     "text": [
      "CPU times: user 42 s, sys: 1.58 s, total: 43.6 s\n",
      "Wall time: 8min 59s\n"
     ]
    }
   ],
   "source": [
    "%%time\n",
    "\n",
    "df_original = wr.athena.read_sql_query(\n",
    "    sql=query,\n",
    "    database = 'risk',\n",
    "    ctas_approach=False,\n",
    "    encryption = 'SSE_KMS',\n",
    "    kms_key = 'arn:aws:kms:eu-west-1:671054319719:key/38274908-aebb-4807-8d53-bb6d7a475090',\n",
    "    workgroup = 'dlocal-eu1-office-live-sagemaker-workgroup',\n",
    "    s3_output = 's3://dlocal-eu1-office-live-sagemaker-aons/dev'\n",
    ")"
   ]
  },
  {
   "cell_type": "code",
   "execution_count": 6,
   "id": "5e654da2",
   "metadata": {},
   "outputs": [
    {
     "name": "stdout",
     "output_type": "stream",
     "text": [
      "shape ---> (1818507, 11)\n",
      "\n",
      "<class 'pandas.core.frame.DataFrame'>\n",
      "RangeIndex: 1818507 entries, 0 to 1818506\n",
      "Data columns (total 11 columns):\n",
      " #   Column          Dtype  \n",
      "---  ------          -----  \n",
      " 0   case_id         object \n",
      " 1   bin             string \n",
      " 2   brand           string \n",
      " 3   category        string \n",
      " 4   card_age_days   Int32  \n",
      " 5   usd_amount      object \n",
      " 6   online_verdict  string \n",
      " 7   result          string \n",
      " 8   flag_PU         Int32  \n",
      " 9   flag_cbk        Int32  \n",
      " 10  pred_score      float32\n",
      "dtypes: Int32(3), float32(1), object(2), string(5)\n",
      "memory usage: 130.1+ MB\n",
      "None\n"
     ]
    }
   ],
   "source": [
    "df_original['case_id'] = df_original.case_id.astype(str)\n",
    "\n",
    "print('shape --->', df_original.shape)\n",
    "print('')\n",
    "print(df_original.info())"
   ]
  },
  {
   "cell_type": "code",
   "execution_count": 7,
   "id": "37241cb1",
   "metadata": {},
   "outputs": [
    {
     "data": {
      "text/html": [
       "<div>\n",
       "<style scoped>\n",
       "    .dataframe tbody tr th:only-of-type {\n",
       "        vertical-align: middle;\n",
       "    }\n",
       "\n",
       "    .dataframe tbody tr th {\n",
       "        vertical-align: top;\n",
       "    }\n",
       "\n",
       "    .dataframe thead th {\n",
       "        text-align: right;\n",
       "    }\n",
       "</style>\n",
       "<table border=\"1\" class=\"dataframe\">\n",
       "  <thead>\n",
       "    <tr style=\"text-align: right;\">\n",
       "      <th></th>\n",
       "      <th>case_id</th>\n",
       "      <th>bin</th>\n",
       "      <th>brand</th>\n",
       "      <th>category</th>\n",
       "      <th>card_age_days</th>\n",
       "      <th>usd_amount</th>\n",
       "      <th>online_verdict</th>\n",
       "      <th>result</th>\n",
       "      <th>flag_PU</th>\n",
       "      <th>flag_cbk</th>\n",
       "      <th>pred_score</th>\n",
       "    </tr>\n",
       "  </thead>\n",
       "  <tbody>\n",
       "    <tr>\n",
       "      <th>1366844</th>\n",
       "      <td>659752995</td>\n",
       "      <td>516292</td>\n",
       "      <td>MC</td>\n",
       "      <td>PLATINUM</td>\n",
       "      <td>36</td>\n",
       "      <td>6.84</td>\n",
       "      <td>ACCEPT</td>\n",
       "      <td>ACCEPT</td>\n",
       "      <td>0</td>\n",
       "      <td>0</td>\n",
       "      <td>0.05</td>\n",
       "    </tr>\n",
       "    <tr>\n",
       "      <th>242568</th>\n",
       "      <td>801397991</td>\n",
       "      <td>511781</td>\n",
       "      <td>MC</td>\n",
       "      <td>GOLD</td>\n",
       "      <td>&lt;NA&gt;</td>\n",
       "      <td>1.16</td>\n",
       "      <td>ACCEPT</td>\n",
       "      <td>REJECT</td>\n",
       "      <td>0</td>\n",
       "      <td>0</td>\n",
       "      <td>196.80</td>\n",
       "    </tr>\n",
       "    <tr>\n",
       "      <th>183908</th>\n",
       "      <td>719578468</td>\n",
       "      <td>423154</td>\n",
       "      <td>VI</td>\n",
       "      <td>PLATINUM</td>\n",
       "      <td>&lt;NA&gt;</td>\n",
       "      <td>6.94</td>\n",
       "      <td>ACCEPT</td>\n",
       "      <td>REJECT</td>\n",
       "      <td>0</td>\n",
       "      <td>0</td>\n",
       "      <td>852.29</td>\n",
       "    </tr>\n",
       "    <tr>\n",
       "      <th>1478218</th>\n",
       "      <td>883277872</td>\n",
       "      <td>544731</td>\n",
       "      <td>MC</td>\n",
       "      <td>GOLD</td>\n",
       "      <td>&lt;NA&gt;</td>\n",
       "      <td>17.20</td>\n",
       "      <td>ACCEPT</td>\n",
       "      <td>REJECT</td>\n",
       "      <td>0</td>\n",
       "      <td>0</td>\n",
       "      <td>299.56</td>\n",
       "    </tr>\n",
       "    <tr>\n",
       "      <th>1096248</th>\n",
       "      <td>1007530380</td>\n",
       "      <td>417401</td>\n",
       "      <td>VI</td>\n",
       "      <td>CLASSIC</td>\n",
       "      <td>92</td>\n",
       "      <td>6.54</td>\n",
       "      <td>ACCEPT</td>\n",
       "      <td>ACCEPT</td>\n",
       "      <td>1</td>\n",
       "      <td>0</td>\n",
       "      <td>0.14</td>\n",
       "    </tr>\n",
       "    <tr>\n",
       "      <th>852950</th>\n",
       "      <td>840375339</td>\n",
       "      <td>516292</td>\n",
       "      <td>MC</td>\n",
       "      <td>PLATINUM</td>\n",
       "      <td>33</td>\n",
       "      <td>6.69</td>\n",
       "      <td>ACCEPT</td>\n",
       "      <td>REJECT</td>\n",
       "      <td>1</td>\n",
       "      <td>0</td>\n",
       "      <td>558.69</td>\n",
       "    </tr>\n",
       "    <tr>\n",
       "      <th>1547362</th>\n",
       "      <td>912305703</td>\n",
       "      <td>466079</td>\n",
       "      <td>VI</td>\n",
       "      <td>PLATINUM</td>\n",
       "      <td>&lt;NA&gt;</td>\n",
       "      <td>1.14</td>\n",
       "      <td>ACCEPT</td>\n",
       "      <td>REJECT</td>\n",
       "      <td>0</td>\n",
       "      <td>0</td>\n",
       "      <td>400.52</td>\n",
       "    </tr>\n",
       "    <tr>\n",
       "      <th>1368012</th>\n",
       "      <td>887142707</td>\n",
       "      <td>549622</td>\n",
       "      <td>MC</td>\n",
       "      <td>PREPAID</td>\n",
       "      <td>492</td>\n",
       "      <td>6.68</td>\n",
       "      <td>ACCEPT</td>\n",
       "      <td>REJECT</td>\n",
       "      <td>1</td>\n",
       "      <td>0</td>\n",
       "      <td>711.23</td>\n",
       "    </tr>\n",
       "    <tr>\n",
       "      <th>518114</th>\n",
       "      <td>698476669</td>\n",
       "      <td>230650</td>\n",
       "      <td>MC</td>\n",
       "      <td>GOLD</td>\n",
       "      <td>13</td>\n",
       "      <td>1.19</td>\n",
       "      <td>ACCEPT</td>\n",
       "      <td>REJECT</td>\n",
       "      <td>0</td>\n",
       "      <td>0</td>\n",
       "      <td>85.64</td>\n",
       "    </tr>\n",
       "    <tr>\n",
       "      <th>338967</th>\n",
       "      <td>910718648</td>\n",
       "      <td>512707</td>\n",
       "      <td>MC</td>\n",
       "      <td>STANDARD</td>\n",
       "      <td>18</td>\n",
       "      <td>6.62</td>\n",
       "      <td>ACCEPT</td>\n",
       "      <td>ACCEPT</td>\n",
       "      <td>0</td>\n",
       "      <td>0</td>\n",
       "      <td>882.59</td>\n",
       "    </tr>\n",
       "  </tbody>\n",
       "</table>\n",
       "</div>"
      ],
      "text/plain": [
       "            case_id     bin brand  category  card_age_days usd_amount  \\\n",
       "1366844   659752995  516292    MC  PLATINUM             36       6.84   \n",
       "242568    801397991  511781    MC      GOLD           <NA>       1.16   \n",
       "183908    719578468  423154    VI  PLATINUM           <NA>       6.94   \n",
       "1478218   883277872  544731    MC      GOLD           <NA>      17.20   \n",
       "1096248  1007530380  417401    VI   CLASSIC             92       6.54   \n",
       "852950    840375339  516292    MC  PLATINUM             33       6.69   \n",
       "1547362   912305703  466079    VI  PLATINUM           <NA>       1.14   \n",
       "1368012   887142707  549622    MC   PREPAID            492       6.68   \n",
       "518114    698476669  230650    MC      GOLD             13       1.19   \n",
       "338967    910718648  512707    MC  STANDARD             18       6.62   \n",
       "\n",
       "        online_verdict  result  flag_PU  flag_cbk  pred_score  \n",
       "1366844         ACCEPT  ACCEPT        0         0        0.05  \n",
       "242568          ACCEPT  REJECT        0         0      196.80  \n",
       "183908          ACCEPT  REJECT        0         0      852.29  \n",
       "1478218         ACCEPT  REJECT        0         0      299.56  \n",
       "1096248         ACCEPT  ACCEPT        1         0        0.14  \n",
       "852950          ACCEPT  REJECT        1         0      558.69  \n",
       "1547362         ACCEPT  REJECT        0         0      400.52  \n",
       "1368012         ACCEPT  REJECT        1         0      711.23  \n",
       "518114          ACCEPT  REJECT        0         0       85.64  \n",
       "338967          ACCEPT  ACCEPT        0         0      882.59  "
      ]
     },
     "execution_count": 7,
     "metadata": {},
     "output_type": "execute_result"
    }
   ],
   "source": [
    "df_original.sample(10)"
   ]
  },
  {
   "cell_type": "code",
   "execution_count": 8,
   "id": "e8a414d6",
   "metadata": {},
   "outputs": [
    {
     "data": {
      "text/plain": [
       "online_verdict\n",
       "ACCEPT    1780333\n",
       "REJECT      38143\n",
       "dtype: int64"
      ]
     },
     "execution_count": 8,
     "metadata": {},
     "output_type": "execute_result"
    }
   ],
   "source": [
    "df_original.value_counts('online_verdict')"
   ]
  },
  {
   "cell_type": "code",
   "execution_count": 9,
   "id": "4ef2525c",
   "metadata": {},
   "outputs": [
    {
     "data": {
      "text/plain": [
       "result\n",
       "REJECT       1025460\n",
       "ACCEPT        788766\n",
       "AUTHORIZE       4257\n",
       "dtype: int64"
      ]
     },
     "execution_count": 9,
     "metadata": {},
     "output_type": "execute_result"
    }
   ],
   "source": [
    "df_original.value_counts('result')"
   ]
  },
  {
   "cell_type": "code",
   "execution_count": 10,
   "id": "23e6fecc",
   "metadata": {},
   "outputs": [
    {
     "data": {
      "text/plain": [
       "flag_cbk\n",
       "0    1814190\n",
       "1       4317\n",
       "dtype: int64"
      ]
     },
     "execution_count": 10,
     "metadata": {},
     "output_type": "execute_result"
    }
   ],
   "source": [
    "df_original.value_counts('flag_cbk')"
   ]
  },
  {
   "cell_type": "code",
   "execution_count": 11,
   "id": "94bb88b7",
   "metadata": {},
   "outputs": [
    {
     "data": {
      "text/plain": [
       "flag_PU\n",
       "0    1411495\n",
       "1     407012\n",
       "dtype: int64"
      ]
     },
     "execution_count": 11,
     "metadata": {},
     "output_type": "execute_result"
    }
   ],
   "source": [
    "df_original.value_counts('flag_PU')"
   ]
  },
  {
   "cell_type": "markdown",
   "id": "78701d88",
   "metadata": {},
   "source": [
    "## Cast usd_amount"
   ]
  },
  {
   "cell_type": "code",
   "execution_count": 12,
   "id": "6181d159",
   "metadata": {},
   "outputs": [
    {
     "data": {
      "text/plain": [
       "case_id            object\n",
       "bin                string\n",
       "brand              string\n",
       "category           string\n",
       "card_age_days       Int32\n",
       "usd_amount         object\n",
       "online_verdict     string\n",
       "result             string\n",
       "flag_PU             Int32\n",
       "flag_cbk            Int32\n",
       "pred_score        float32\n",
       "dtype: object"
      ]
     },
     "execution_count": 12,
     "metadata": {},
     "output_type": "execute_result"
    }
   ],
   "source": [
    "df_original.dtypes"
   ]
  },
  {
   "cell_type": "code",
   "execution_count": 13,
   "id": "cc79db95",
   "metadata": {},
   "outputs": [],
   "source": [
    "df_original=df_original.astype({'usd_amount': 'float32'})"
   ]
  },
  {
   "cell_type": "code",
   "execution_count": 14,
   "id": "6c8c7e44",
   "metadata": {},
   "outputs": [
    {
     "data": {
      "text/plain": [
       "case_id            object\n",
       "bin                string\n",
       "brand              string\n",
       "category           string\n",
       "card_age_days       Int32\n",
       "usd_amount        float32\n",
       "online_verdict     string\n",
       "result             string\n",
       "flag_PU             Int32\n",
       "flag_cbk            Int32\n",
       "pred_score        float32\n",
       "dtype: object"
      ]
     },
     "execution_count": 14,
     "metadata": {},
     "output_type": "execute_result"
    }
   ],
   "source": [
    "df_original.dtypes"
   ]
  },
  {
   "cell_type": "markdown",
   "id": "0a7ede72",
   "metadata": {},
   "source": [
    "## Score Ranges"
   ]
  },
  {
   "cell_type": "code",
   "execution_count": 146,
   "id": "676365d8",
   "metadata": {},
   "outputs": [
    {
     "data": {
      "text/plain": [
       "Index(['case_id', 'bin', 'brand', 'category', 'card_age_days', 'usd_amount',\n",
       "       'online_verdict', 'result', 'flag_PU', 'flag_cbk', 'pred_score'],\n",
       "      dtype='object')"
      ]
     },
     "execution_count": 146,
     "metadata": {},
     "output_type": "execute_result"
    }
   ],
   "source": [
    "df_original.columns"
   ]
  },
  {
   "cell_type": "code",
   "execution_count": 147,
   "id": "2e5d1db0",
   "metadata": {},
   "outputs": [],
   "source": [
    "df = df_original[['case_id', 'bin', 'brand', 'category', 'card_age_days', 'usd_amount', 'online_verdict',\n",
    "       'result', 'flag_PU', 'flag_cbk', 'pred_score']]"
   ]
  },
  {
   "cell_type": "code",
   "execution_count": 148,
   "id": "0e1063f1",
   "metadata": {},
   "outputs": [],
   "source": [
    "def agrupar_score_inhouse():\n",
    "    \n",
    "    values_list_inhouse = [0, 25, 50, 75, 100, 125, 150, 175, 200, 225, 250, 275, 300, 325, 350, 375, 400, 425, 450, 475, \n",
    "                           500, 525, 550, 575, 600, 625, 650, 675, 700, 725, 750, 775, 800, 825, 850, 875, 900, 925, 950, 975, 1000]\n",
    "\n",
    "    conditions_inhouse = []\n",
    "\n",
    "    for i in values_list_inhouse:\n",
    "        if i == 0:\n",
    "            condicion = (df['pred_score'] == 0)\n",
    "            conditions_inhouse.append(condicion)\n",
    "        else:\n",
    "            condicion = (df['pred_score'] < i)\n",
    "            conditions_inhouse.append(condicion)\n",
    "            \n",
    "    df['score_group'] = np.select(conditions_inhouse, values_list_inhouse)\n",
    "    \n",
    "agrupar_score_inhouse()"
   ]
  },
  {
   "cell_type": "code",
   "execution_count": 149,
   "id": "2fcb8c27",
   "metadata": {},
   "outputs": [
    {
     "data": {
      "text/html": [
       "<div>\n",
       "<style scoped>\n",
       "    .dataframe tbody tr th:only-of-type {\n",
       "        vertical-align: middle;\n",
       "    }\n",
       "\n",
       "    .dataframe tbody tr th {\n",
       "        vertical-align: top;\n",
       "    }\n",
       "\n",
       "    .dataframe thead th {\n",
       "        text-align: right;\n",
       "    }\n",
       "</style>\n",
       "<table border=\"1\" class=\"dataframe\">\n",
       "  <thead>\n",
       "    <tr style=\"text-align: right;\">\n",
       "      <th></th>\n",
       "      <th>case_id</th>\n",
       "      <th>bin</th>\n",
       "      <th>brand</th>\n",
       "      <th>category</th>\n",
       "      <th>card_age_days</th>\n",
       "      <th>usd_amount</th>\n",
       "      <th>online_verdict</th>\n",
       "      <th>result</th>\n",
       "      <th>flag_PU</th>\n",
       "      <th>flag_cbk</th>\n",
       "      <th>pred_score</th>\n",
       "      <th>score_group</th>\n",
       "    </tr>\n",
       "  </thead>\n",
       "  <tbody>\n",
       "    <tr>\n",
       "      <th>0</th>\n",
       "      <td>780983337</td>\n",
       "      <td>485464</td>\n",
       "      <td>VI</td>\n",
       "      <td>CLASSIC</td>\n",
       "      <td>&lt;NA&gt;</td>\n",
       "      <td>1.14</td>\n",
       "      <td>ACCEPT</td>\n",
       "      <td>REJECT</td>\n",
       "      <td>0</td>\n",
       "      <td>0</td>\n",
       "      <td>256.68</td>\n",
       "      <td>275</td>\n",
       "    </tr>\n",
       "    <tr>\n",
       "      <th>1</th>\n",
       "      <td>782805770</td>\n",
       "      <td>550209</td>\n",
       "      <td>MC</td>\n",
       "      <td>GOLD</td>\n",
       "      <td>&lt;NA&gt;</td>\n",
       "      <td>1.14</td>\n",
       "      <td>ACCEPT</td>\n",
       "      <td>REJECT</td>\n",
       "      <td>0</td>\n",
       "      <td>0</td>\n",
       "      <td>440.17</td>\n",
       "      <td>450</td>\n",
       "    </tr>\n",
       "    <tr>\n",
       "      <th>2</th>\n",
       "      <td>809437932</td>\n",
       "      <td>542820</td>\n",
       "      <td>MC</td>\n",
       "      <td>STANDARD</td>\n",
       "      <td>&lt;NA&gt;</td>\n",
       "      <td>1.17</td>\n",
       "      <td>ACCEPT</td>\n",
       "      <td>REJECT</td>\n",
       "      <td>0</td>\n",
       "      <td>0</td>\n",
       "      <td>186.23</td>\n",
       "      <td>200</td>\n",
       "    </tr>\n",
       "    <tr>\n",
       "      <th>3</th>\n",
       "      <td>773955281</td>\n",
       "      <td>550209</td>\n",
       "      <td>MC</td>\n",
       "      <td>GOLD</td>\n",
       "      <td>&lt;NA&gt;</td>\n",
       "      <td>6.69</td>\n",
       "      <td>ACCEPT</td>\n",
       "      <td>ACCEPT</td>\n",
       "      <td>0</td>\n",
       "      <td>0</td>\n",
       "      <td>752.65</td>\n",
       "      <td>775</td>\n",
       "    </tr>\n",
       "    <tr>\n",
       "      <th>4</th>\n",
       "      <td>880124039</td>\n",
       "      <td>534520</td>\n",
       "      <td>MC</td>\n",
       "      <td>STANDARD</td>\n",
       "      <td>&lt;NA&gt;</td>\n",
       "      <td>6.67</td>\n",
       "      <td>ACCEPT</td>\n",
       "      <td>ACCEPT</td>\n",
       "      <td>0</td>\n",
       "      <td>0</td>\n",
       "      <td>0.10</td>\n",
       "      <td>25</td>\n",
       "    </tr>\n",
       "  </tbody>\n",
       "</table>\n",
       "</div>"
      ],
      "text/plain": [
       "     case_id     bin brand  category  card_age_days  usd_amount  \\\n",
       "0  780983337  485464    VI   CLASSIC           <NA>        1.14   \n",
       "1  782805770  550209    MC      GOLD           <NA>        1.14   \n",
       "2  809437932  542820    MC  STANDARD           <NA>        1.17   \n",
       "3  773955281  550209    MC      GOLD           <NA>        6.69   \n",
       "4  880124039  534520    MC  STANDARD           <NA>        6.67   \n",
       "\n",
       "  online_verdict  result  flag_PU  flag_cbk  pred_score  score_group  \n",
       "0         ACCEPT  REJECT        0         0      256.68          275  \n",
       "1         ACCEPT  REJECT        0         0      440.17          450  \n",
       "2         ACCEPT  REJECT        0         0      186.23          200  \n",
       "3         ACCEPT  ACCEPT        0         0      752.65          775  \n",
       "4         ACCEPT  ACCEPT        0         0        0.10           25  "
      ]
     },
     "execution_count": 149,
     "metadata": {},
     "output_type": "execute_result"
    }
   ],
   "source": [
    "df.head()"
   ]
  },
  {
   "cell_type": "markdown",
   "id": "57307aef",
   "metadata": {},
   "source": [
    "## Card Age Ranges"
   ]
  },
  {
   "cell_type": "code",
   "execution_count": 150,
   "id": "d5342f4b",
   "metadata": {},
   "outputs": [],
   "source": [
    "df['card_age_days'].fillna(0, inplace=True)"
   ]
  },
  {
   "cell_type": "code",
   "execution_count": 151,
   "id": "3ce0d244",
   "metadata": {},
   "outputs": [],
   "source": [
    "df['card_age_range'] = df.apply(lambda x:'>90' if x['card_age_days']>= 90 else('>30' if  x['card_age_days']>=30 else('>10' if  x['card_age_days']>=10 else('>2' if  x['card_age_days']>=2 else('<2' if  x['card_age_days']>0 else '0')))),axis=1)\n"
   ]
  },
  {
   "cell_type": "code",
   "execution_count": 152,
   "id": "fafa0d15",
   "metadata": {},
   "outputs": [
    {
     "data": {
      "text/plain": [
       "card_age_range\n",
       "0      1066716\n",
       ">30     339634\n",
       ">90     330587\n",
       ">10      68207\n",
       ">2       11608\n",
       "<2        1755\n",
       "dtype: int64"
      ]
     },
     "execution_count": 152,
     "metadata": {},
     "output_type": "execute_result"
    }
   ],
   "source": [
    "df.value_counts('card_age_range')"
   ]
  },
  {
   "cell_type": "markdown",
   "id": "9b6f9ca7",
   "metadata": {},
   "source": [
    "## Filter Positive Users"
   ]
  },
  {
   "cell_type": "code",
   "execution_count": 153,
   "id": "5d92424f",
   "metadata": {},
   "outputs": [
    {
     "data": {
      "text/plain": [
       "flag_PU\n",
       "0    1411495\n",
       "dtype: int64"
      ]
     },
     "execution_count": 153,
     "metadata": {},
     "output_type": "execute_result"
    }
   ],
   "source": [
    "df=df[df['flag_PU']==0]\n",
    "df.value_counts('flag_PU')"
   ]
  },
  {
   "cell_type": "code",
   "execution_count": 154,
   "id": "bacbb4a5",
   "metadata": {},
   "outputs": [],
   "source": [
    "df.drop(columns=['flag_PU'], inplace=True)"
   ]
  },
  {
   "cell_type": "code",
   "execution_count": 155,
   "id": "51f118da",
   "metadata": {},
   "outputs": [
    {
     "data": {
      "text/html": [
       "<div>\n",
       "<style scoped>\n",
       "    .dataframe tbody tr th:only-of-type {\n",
       "        vertical-align: middle;\n",
       "    }\n",
       "\n",
       "    .dataframe tbody tr th {\n",
       "        vertical-align: top;\n",
       "    }\n",
       "\n",
       "    .dataframe thead th {\n",
       "        text-align: right;\n",
       "    }\n",
       "</style>\n",
       "<table border=\"1\" class=\"dataframe\">\n",
       "  <thead>\n",
       "    <tr style=\"text-align: right;\">\n",
       "      <th></th>\n",
       "      <th>case_id</th>\n",
       "      <th>bin</th>\n",
       "      <th>brand</th>\n",
       "      <th>category</th>\n",
       "      <th>card_age_days</th>\n",
       "      <th>usd_amount</th>\n",
       "      <th>online_verdict</th>\n",
       "      <th>result</th>\n",
       "      <th>flag_cbk</th>\n",
       "      <th>pred_score</th>\n",
       "      <th>score_group</th>\n",
       "      <th>card_age_range</th>\n",
       "    </tr>\n",
       "  </thead>\n",
       "  <tbody>\n",
       "    <tr>\n",
       "      <th>604394</th>\n",
       "      <td>614922531</td>\n",
       "      <td>453211</td>\n",
       "      <td>VI</td>\n",
       "      <td>GOLD</td>\n",
       "      <td>0</td>\n",
       "      <td>6.58</td>\n",
       "      <td>ACCEPT</td>\n",
       "      <td>ACCEPT</td>\n",
       "      <td>0</td>\n",
       "      <td>773.49</td>\n",
       "      <td>775</td>\n",
       "      <td>0</td>\n",
       "    </tr>\n",
       "    <tr>\n",
       "      <th>1173467</th>\n",
       "      <td>699546515</td>\n",
       "      <td>510168</td>\n",
       "      <td>MC</td>\n",
       "      <td>STANDARD</td>\n",
       "      <td>0</td>\n",
       "      <td>6.89</td>\n",
       "      <td>ACCEPT</td>\n",
       "      <td>ACCEPT</td>\n",
       "      <td>0</td>\n",
       "      <td>848.60</td>\n",
       "      <td>850</td>\n",
       "      <td>0</td>\n",
       "    </tr>\n",
       "    <tr>\n",
       "      <th>643371</th>\n",
       "      <td>853789446</td>\n",
       "      <td>410863</td>\n",
       "      <td>VI</td>\n",
       "      <td>GOLD</td>\n",
       "      <td>0</td>\n",
       "      <td>1.16</td>\n",
       "      <td>ACCEPT</td>\n",
       "      <td>REJECT</td>\n",
       "      <td>0</td>\n",
       "      <td>229.53</td>\n",
       "      <td>250</td>\n",
       "      <td>0</td>\n",
       "    </tr>\n",
       "    <tr>\n",
       "      <th>227094</th>\n",
       "      <td>806897375</td>\n",
       "      <td>550209</td>\n",
       "      <td>MC</td>\n",
       "      <td>GOLD</td>\n",
       "      <td>0</td>\n",
       "      <td>6.86</td>\n",
       "      <td>ACCEPT</td>\n",
       "      <td>ACCEPT</td>\n",
       "      <td>0</td>\n",
       "      <td>0.06</td>\n",
       "      <td>25</td>\n",
       "      <td>0</td>\n",
       "    </tr>\n",
       "    <tr>\n",
       "      <th>566731</th>\n",
       "      <td>884199719</td>\n",
       "      <td>523284</td>\n",
       "      <td>MC</td>\n",
       "      <td>STANDARD</td>\n",
       "      <td>0</td>\n",
       "      <td>1.16</td>\n",
       "      <td>ACCEPT</td>\n",
       "      <td>REJECT</td>\n",
       "      <td>0</td>\n",
       "      <td>215.44</td>\n",
       "      <td>225</td>\n",
       "      <td>0</td>\n",
       "    </tr>\n",
       "  </tbody>\n",
       "</table>\n",
       "</div>"
      ],
      "text/plain": [
       "           case_id     bin brand  category  card_age_days  usd_amount  \\\n",
       "604394   614922531  453211    VI      GOLD              0        6.58   \n",
       "1173467  699546515  510168    MC  STANDARD              0        6.89   \n",
       "643371   853789446  410863    VI      GOLD              0        1.16   \n",
       "227094   806897375  550209    MC      GOLD              0        6.86   \n",
       "566731   884199719  523284    MC  STANDARD              0        1.16   \n",
       "\n",
       "        online_verdict  result  flag_cbk  pred_score  score_group  \\\n",
       "604394          ACCEPT  ACCEPT         0      773.49          775   \n",
       "1173467         ACCEPT  ACCEPT         0      848.60          850   \n",
       "643371          ACCEPT  REJECT         0      229.53          250   \n",
       "227094          ACCEPT  ACCEPT         0        0.06           25   \n",
       "566731          ACCEPT  REJECT         0      215.44          225   \n",
       "\n",
       "        card_age_range  \n",
       "604394               0  \n",
       "1173467              0  \n",
       "643371               0  \n",
       "227094               0  \n",
       "566731               0  "
      ]
     },
     "execution_count": 155,
     "metadata": {},
     "output_type": "execute_result"
    }
   ],
   "source": [
    "df.sample(5)"
   ]
  },
  {
   "cell_type": "markdown",
   "id": "5730c990",
   "metadata": {},
   "source": [
    "## Filter dlocal REJECT"
   ]
  },
  {
   "cell_type": "code",
   "execution_count": 156,
   "id": "ab26c4f9",
   "metadata": {},
   "outputs": [
    {
     "data": {
      "text/plain": [
       "online_verdict\n",
       "ACCEPT    1373321\n",
       "dtype: int64"
      ]
     },
     "execution_count": 156,
     "metadata": {},
     "output_type": "execute_result"
    }
   ],
   "source": [
    "df_1=df[df['online_verdict']=='ACCEPT']\n",
    "df_1.value_counts('online_verdict')"
   ]
  },
  {
   "cell_type": "code",
   "execution_count": 157,
   "id": "b6321c68",
   "metadata": {},
   "outputs": [],
   "source": [
    "df.drop(columns=['online_verdict'], inplace=True)"
   ]
  },
  {
   "cell_type": "code",
   "execution_count": 158,
   "id": "03ad6a27",
   "metadata": {},
   "outputs": [
    {
     "data": {
      "text/plain": [
       "Index(['case_id', 'bin', 'brand', 'category', 'card_age_days', 'usd_amount',\n",
       "       'result', 'flag_cbk', 'pred_score', 'score_group', 'card_age_range'],\n",
       "      dtype='object')"
      ]
     },
     "execution_count": 158,
     "metadata": {},
     "output_type": "execute_result"
    }
   ],
   "source": [
    "df.columns"
   ]
  },
  {
   "cell_type": "markdown",
   "id": "9a362e3b",
   "metadata": {},
   "source": [
    "## Card Age"
   ]
  },
  {
   "cell_type": "code",
   "execution_count": 275,
   "id": "37d9a598",
   "metadata": {},
   "outputs": [],
   "source": [
    "df_1=df[['card_age_range','result','usd_amount']]"
   ]
  },
  {
   "cell_type": "code",
   "execution_count": 276,
   "id": "ba68b983",
   "metadata": {},
   "outputs": [],
   "source": [
    "card_age = pd.pivot_table(df_1, values='usd_amount', index=['card_age_range'],\n",
    "                    columns=['result'], aggfunc=np.sum, fill_value=0)"
   ]
  },
  {
   "cell_type": "code",
   "execution_count": 277,
   "id": "cec9cf5b",
   "metadata": {},
   "outputs": [
    {
     "data": {
      "text/html": [
       "<div>\n",
       "<style scoped>\n",
       "    .dataframe tbody tr th:only-of-type {\n",
       "        vertical-align: middle;\n",
       "    }\n",
       "\n",
       "    .dataframe tbody tr th {\n",
       "        vertical-align: top;\n",
       "    }\n",
       "\n",
       "    .dataframe thead th {\n",
       "        text-align: right;\n",
       "    }\n",
       "</style>\n",
       "<table border=\"1\" class=\"dataframe\">\n",
       "  <thead>\n",
       "    <tr style=\"text-align: right;\">\n",
       "      <th>result</th>\n",
       "      <th>ACCEPT</th>\n",
       "      <th>AUTHORIZE</th>\n",
       "      <th>REJECT</th>\n",
       "    </tr>\n",
       "    <tr>\n",
       "      <th>card_age_range</th>\n",
       "      <th></th>\n",
       "      <th></th>\n",
       "      <th></th>\n",
       "    </tr>\n",
       "  </thead>\n",
       "  <tbody>\n",
       "    <tr>\n",
       "      <th>0</th>\n",
       "      <td>4,983,215.50</td>\n",
       "      <td>19,199.34</td>\n",
       "      <td>9,011,740.00</td>\n",
       "    </tr>\n",
       "    <tr>\n",
       "      <th>&lt;2</th>\n",
       "      <td>8,880.96</td>\n",
       "      <td>12.49</td>\n",
       "      <td>6,732.50</td>\n",
       "    </tr>\n",
       "    <tr>\n",
       "      <th>&gt;10</th>\n",
       "      <td>297,211.38</td>\n",
       "      <td>1,071.77</td>\n",
       "      <td>252,782.17</td>\n",
       "    </tr>\n",
       "  </tbody>\n",
       "</table>\n",
       "</div>"
      ],
      "text/plain": [
       "result               ACCEPT  AUTHORIZE       REJECT\n",
       "card_age_range                                     \n",
       "0              4,983,215.50  19,199.34 9,011,740.00\n",
       "<2                 8,880.96      12.49     6,732.50\n",
       ">10              297,211.38   1,071.77   252,782.17"
      ]
     },
     "execution_count": 277,
     "metadata": {},
     "output_type": "execute_result"
    }
   ],
   "source": [
    "card_age.head(3)"
   ]
  },
  {
   "cell_type": "code",
   "execution_count": 278,
   "id": "5b031f95",
   "metadata": {},
   "outputs": [
    {
     "data": {
      "text/plain": [
       "<AxesSubplot:title={'center':'Score vs Others'}, xlabel='card_age_range', ylabel='USD [MM]'>"
      ]
     },
     "execution_count": 278,
     "metadata": {},
     "output_type": "execute_result"
    },
    {
     "data": {
      "image/png": "[encoded data removed]",
      "text/plain": [
       "<Figure size 720x360 with 1 Axes>"
      ]
     },
     "metadata": {
      "needs_background": "light"
     },
     "output_type": "display_data"
    }
   ],
   "source": [
    "card_age.plot(kind='bar',\n",
    "        title = 'Score vs Others',\n",
    "        ylabel = 'USD [MM]',\n",
    "        figsize = (10,5),\n",
    "        grid = True,\n",
    "        stacked = True)"
   ]
  },
  {
   "cell_type": "markdown",
   "id": "c279d96e",
   "metadata": {},
   "source": [
    "## Filter Card Age Range"
   ]
  },
  {
   "cell_type": "code",
   "execution_count": 279,
   "id": "f659e8dd",
   "metadata": {},
   "outputs": [
    {
     "data": {
      "text/plain": [
       "card_age_range\n",
       "0    946349\n",
       "dtype: int64"
      ]
     },
     "execution_count": 279,
     "metadata": {},
     "output_type": "execute_result"
    }
   ],
   "source": [
    "df_0=df[df['card_age_range']=='0']\n",
    "df_0.value_counts('card_age_range')"
   ]
  },
  {
   "cell_type": "markdown",
   "id": "ed1d6d6b",
   "metadata": {},
   "source": [
    "## Score vs Fianl Result"
   ]
  },
  {
   "cell_type": "code",
   "execution_count": 280,
   "id": "16ddb928",
   "metadata": {},
   "outputs": [],
   "source": [
    "df_1=df[['score_group','result','usd_amount']]"
   ]
  },
  {
   "cell_type": "code",
   "execution_count": 281,
   "id": "6b6692c3",
   "metadata": {},
   "outputs": [],
   "source": [
    "score_result = pd.pivot_table(df_1, values='usd_amount', index=['score_group'],\n",
    "                    columns=['result'], aggfunc=np.sum, fill_value=0)"
   ]
  },
  {
   "cell_type": "code",
   "execution_count": 282,
   "id": "bee89cfe",
   "metadata": {},
   "outputs": [
    {
     "data": {
      "text/html": [
       "<div>\n",
       "<style scoped>\n",
       "    .dataframe tbody tr th:only-of-type {\n",
       "        vertical-align: middle;\n",
       "    }\n",
       "\n",
       "    .dataframe tbody tr th {\n",
       "        vertical-align: top;\n",
       "    }\n",
       "\n",
       "    .dataframe thead th {\n",
       "        text-align: right;\n",
       "    }\n",
       "</style>\n",
       "<table border=\"1\" class=\"dataframe\">\n",
       "  <thead>\n",
       "    <tr style=\"text-align: right;\">\n",
       "      <th>result</th>\n",
       "      <th>ACCEPT</th>\n",
       "      <th>AUTHORIZE</th>\n",
       "      <th>REJECT</th>\n",
       "    </tr>\n",
       "    <tr>\n",
       "      <th>score_group</th>\n",
       "      <th></th>\n",
       "      <th></th>\n",
       "      <th></th>\n",
       "    </tr>\n",
       "  </thead>\n",
       "  <tbody>\n",
       "    <tr>\n",
       "      <th>25</th>\n",
       "      <td>3,134,057.50</td>\n",
       "      <td>9,780.90</td>\n",
       "      <td>2,899,557.25</td>\n",
       "    </tr>\n",
       "    <tr>\n",
       "      <th>50</th>\n",
       "      <td>610.81</td>\n",
       "      <td>4.62</td>\n",
       "      <td>2,886.21</td>\n",
       "    </tr>\n",
       "    <tr>\n",
       "      <th>75</th>\n",
       "      <td>1,016.55</td>\n",
       "      <td>15.45</td>\n",
       "      <td>6,134.04</td>\n",
       "    </tr>\n",
       "    <tr>\n",
       "      <th>100</th>\n",
       "      <td>1,973.96</td>\n",
       "      <td>47.06</td>\n",
       "      <td>12,316.74</td>\n",
       "    </tr>\n",
       "  </tbody>\n",
       "</table>\n",
       "</div>"
      ],
      "text/plain": [
       "result            ACCEPT  AUTHORIZE       REJECT\n",
       "score_group                                     \n",
       "25          3,134,057.50   9,780.90 2,899,557.25\n",
       "50                610.81       4.62     2,886.21\n",
       "75              1,016.55      15.45     6,134.04\n",
       "100             1,973.96      47.06    12,316.74"
      ]
     },
     "execution_count": 282,
     "metadata": {},
     "output_type": "execute_result"
    }
   ],
   "source": [
    "score_result.head(4)"
   ]
  },
  {
   "cell_type": "code",
   "execution_count": 283,
   "id": "32a981c8",
   "metadata": {},
   "outputs": [],
   "source": [
    "df0=df_0[['score_group','result','usd_amount']]\n",
    "\n",
    "score_result_0 = pd.pivot_table(df0, values='usd_amount', index=['score_group'],\n",
    "                    columns=['result'], aggfunc=np.sum, fill_value=0)"
   ]
  },
  {
   "cell_type": "code",
   "execution_count": 284,
   "id": "1be4c4cf",
   "metadata": {},
   "outputs": [
    {
     "data": {
      "text/plain": [
       "<AxesSubplot:title={'center':'Scores vs App Fianl [0]'}, xlabel='score_group', ylabel='USD [MM]'>"
      ]
     },
     "execution_count": 284,
     "metadata": {},
     "output_type": "execute_result"
    },
    {
     "data": {
      "image/png": "[encoded data removed]",
      "text/plain": [
       "<Figure size 1080x360 with 1 Axes>"
      ]
     },
     "metadata": {
      "needs_background": "light"
     },
     "output_type": "display_data"
    },
    {
     "data": {
      "image/png": "[encoded data removed]",
      "text/plain": [
       "<Figure size 1080x360 with 1 Axes>"
      ]
     },
     "metadata": {
      "needs_background": "light"
     },
     "output_type": "display_data"
    }
   ],
   "source": [
    "score_result.plot(kind='bar',\n",
    "        title = 'Scores vs App Fianl',\n",
    "        ylabel = 'USD [MM]',\n",
    "        figsize = (15,5),\n",
    "        grid = True,\n",
    "        stacked = True)\n",
    "\n",
    "score_result_0.plot(kind='bar',\n",
    "        title = 'Scores vs App Fianl [0]',\n",
    "        ylabel = 'USD [MM]',\n",
    "        figsize = (15,5),\n",
    "        grid = True,\n",
    "        stacked = True)"
   ]
  },
  {
   "cell_type": "markdown",
   "id": "ae1fb8d4",
   "metadata": {},
   "source": [
    "## Card Brand"
   ]
  },
  {
   "cell_type": "code",
   "execution_count": 288,
   "id": "f23ebf7b",
   "metadata": {},
   "outputs": [],
   "source": [
    "df_1=df[['brand','result','usd_amount']]"
   ]
  },
  {
   "cell_type": "code",
   "execution_count": 289,
   "id": "871caa02",
   "metadata": {},
   "outputs": [],
   "source": [
    "card_brand = pd.pivot_table(df_1, values='usd_amount', index=['brand'],\n",
    "                    columns=['result'], aggfunc=np.sum, fill_value=0)"
   ]
  },
  {
   "cell_type": "code",
   "execution_count": 290,
   "id": "a3429885",
   "metadata": {
    "scrolled": false
   },
   "outputs": [
    {
     "data": {
      "text/html": [
       "<div>\n",
       "<style scoped>\n",
       "    .dataframe tbody tr th:only-of-type {\n",
       "        vertical-align: middle;\n",
       "    }\n",
       "\n",
       "    .dataframe tbody tr th {\n",
       "        vertical-align: top;\n",
       "    }\n",
       "\n",
       "    .dataframe thead th {\n",
       "        text-align: right;\n",
       "    }\n",
       "</style>\n",
       "<table border=\"1\" class=\"dataframe\">\n",
       "  <thead>\n",
       "    <tr style=\"text-align: right;\">\n",
       "      <th>result</th>\n",
       "      <th>ACCEPT</th>\n",
       "      <th>AUTHORIZE</th>\n",
       "      <th>REJECT</th>\n",
       "    </tr>\n",
       "    <tr>\n",
       "      <th>brand</th>\n",
       "      <th></th>\n",
       "      <th></th>\n",
       "      <th></th>\n",
       "    </tr>\n",
       "  </thead>\n",
       "  <tbody>\n",
       "    <tr>\n",
       "      <th>AE</th>\n",
       "      <td>50,835.25</td>\n",
       "      <td>185.09</td>\n",
       "      <td>53,874.31</td>\n",
       "    </tr>\n",
       "    <tr>\n",
       "      <th>EL</th>\n",
       "      <td>93,598.30</td>\n",
       "      <td>375.43</td>\n",
       "      <td>193,867.34</td>\n",
       "    </tr>\n",
       "    <tr>\n",
       "      <th>HI</th>\n",
       "      <td>211.32</td>\n",
       "      <td>0.00</td>\n",
       "      <td>2,584.18</td>\n",
       "    </tr>\n",
       "    <tr>\n",
       "      <th>MC</th>\n",
       "      <td>4,975,834.00</td>\n",
       "      <td>18,896.54</td>\n",
       "      <td>7,643,346.50</td>\n",
       "    </tr>\n",
       "  </tbody>\n",
       "</table>\n",
       "</div>"
      ],
      "text/plain": [
       "result       ACCEPT  AUTHORIZE       REJECT\n",
       "brand                                      \n",
       "AE        50,835.25     185.09    53,874.31\n",
       "EL        93,598.30     375.43   193,867.34\n",
       "HI           211.32       0.00     2,584.18\n",
       "MC     4,975,834.00  18,896.54 7,643,346.50"
      ]
     },
     "execution_count": 290,
     "metadata": {},
     "output_type": "execute_result"
    }
   ],
   "source": [
    "card_brand.head(4)"
   ]
  },
  {
   "cell_type": "code",
   "execution_count": 292,
   "id": "933631fc",
   "metadata": {},
   "outputs": [],
   "source": [
    "df0=df_0[['brand','result','usd_amount']]\n",
    "\n",
    "card_brand_0 = pd.pivot_table(df0, values='usd_amount', index=['brand'],\n",
    "                    columns=['result'], aggfunc=np.sum, fill_value=0)"
   ]
  },
  {
   "cell_type": "code",
   "execution_count": 293,
   "id": "5c17135f",
   "metadata": {},
   "outputs": [
    {
     "data": {
      "text/plain": [
       "<AxesSubplot:title={'center':'App Final vs Brand [0]'}, xlabel='brand', ylabel='USD [MM]'>"
      ]
     },
     "execution_count": 293,
     "metadata": {},
     "output_type": "execute_result"
    },
    {
     "data": {
      "image/png": "[encoded data removed]",
      "text/plain": [
       "<Figure size 720x360 with 1 Axes>"
      ]
     },
     "metadata": {
      "needs_background": "light"
     },
     "output_type": "display_data"
    },
    {
     "data": {
      "image/png": "[encoded data removed]",
      "text/plain": [
       "<Figure size 720x360 with 1 Axes>"
      ]
     },
     "metadata": {
      "needs_background": "light"
     },
     "output_type": "display_data"
    }
   ],
   "source": [
    "card_brand.plot(kind='bar',\n",
    "        title = 'App Final vs Brand',\n",
    "        ylabel = 'USD [MM]',\n",
    "        figsize = (10,5),\n",
    "        grid = True,\n",
    "        stacked = True)\n",
    "\n",
    "card_brand_0.plot(kind='bar',\n",
    "        title = 'App Final vs Brand [0]',\n",
    "        ylabel = 'USD [MM]',\n",
    "        figsize = (10,5),\n",
    "        grid = True,\n",
    "        stacked = True)"
   ]
  },
  {
   "cell_type": "markdown",
   "id": "a26af4d3",
   "metadata": {},
   "source": [
    "## Card Category"
   ]
  },
  {
   "cell_type": "code",
   "execution_count": 174,
   "id": "465e5377",
   "metadata": {},
   "outputs": [],
   "source": [
    "df_1=df[['category','result','usd_amount']]"
   ]
  },
  {
   "cell_type": "code",
   "execution_count": 175,
   "id": "c828e7f1",
   "metadata": {},
   "outputs": [
    {
     "data": {
      "text/html": [
       "<div>\n",
       "<style scoped>\n",
       "    .dataframe tbody tr th:only-of-type {\n",
       "        vertical-align: middle;\n",
       "    }\n",
       "\n",
       "    .dataframe tbody tr th {\n",
       "        vertical-align: top;\n",
       "    }\n",
       "\n",
       "    .dataframe thead th {\n",
       "        text-align: right;\n",
       "    }\n",
       "</style>\n",
       "<table border=\"1\" class=\"dataframe\">\n",
       "  <thead>\n",
       "    <tr style=\"text-align: right;\">\n",
       "      <th></th>\n",
       "      <th>category</th>\n",
       "      <th>result</th>\n",
       "      <th>usd_amount</th>\n",
       "    </tr>\n",
       "  </thead>\n",
       "  <tbody>\n",
       "    <tr>\n",
       "      <th>0</th>\n",
       "      <td>CLASSIC</td>\n",
       "      <td>REJECT</td>\n",
       "      <td>1.14</td>\n",
       "    </tr>\n",
       "    <tr>\n",
       "      <th>1</th>\n",
       "      <td>GOLD</td>\n",
       "      <td>REJECT</td>\n",
       "      <td>1.14</td>\n",
       "    </tr>\n",
       "    <tr>\n",
       "      <th>2</th>\n",
       "      <td>STANDARD</td>\n",
       "      <td>REJECT</td>\n",
       "      <td>1.17</td>\n",
       "    </tr>\n",
       "  </tbody>\n",
       "</table>\n",
       "</div>"
      ],
      "text/plain": [
       "   category  result  usd_amount\n",
       "0   CLASSIC  REJECT        1.14\n",
       "1      GOLD  REJECT        1.14\n",
       "2  STANDARD  REJECT        1.17"
      ]
     },
     "execution_count": 175,
     "metadata": {},
     "output_type": "execute_result"
    }
   ],
   "source": [
    "df_1.head(3)"
   ]
  },
  {
   "cell_type": "code",
   "execution_count": 176,
   "id": "eb199e89",
   "metadata": {},
   "outputs": [],
   "source": [
    "table = pd.pivot_table(df_1, values='usd_amount', index=['category'],\n",
    "                    columns=['result'], aggfunc=np.sum, fill_value=0)"
   ]
  },
  {
   "cell_type": "code",
   "execution_count": 177,
   "id": "6ef44135",
   "metadata": {},
   "outputs": [
    {
     "data": {
      "text/html": [
       "<div>\n",
       "<style scoped>\n",
       "    .dataframe tbody tr th:only-of-type {\n",
       "        vertical-align: middle;\n",
       "    }\n",
       "\n",
       "    .dataframe tbody tr th {\n",
       "        vertical-align: top;\n",
       "    }\n",
       "\n",
       "    .dataframe thead th {\n",
       "        text-align: right;\n",
       "    }\n",
       "</style>\n",
       "<table border=\"1\" class=\"dataframe\">\n",
       "  <thead>\n",
       "    <tr style=\"text-align: right;\">\n",
       "      <th>result</th>\n",
       "      <th>ACCEPT</th>\n",
       "      <th>AUTHORIZE</th>\n",
       "      <th>REJECT</th>\n",
       "    </tr>\n",
       "    <tr>\n",
       "      <th>category</th>\n",
       "      <th></th>\n",
       "      <th></th>\n",
       "      <th></th>\n",
       "    </tr>\n",
       "  </thead>\n",
       "  <tbody>\n",
       "    <tr>\n",
       "      <th>ACQUIRER ONLY</th>\n",
       "      <td>0.00</td>\n",
       "      <td>0.00</td>\n",
       "      <td>50.94</td>\n",
       "    </tr>\n",
       "    <tr>\n",
       "      <th>ALIMENTACAO</th>\n",
       "      <td>0.00</td>\n",
       "      <td>0.00</td>\n",
       "      <td>1.15</td>\n",
       "    </tr>\n",
       "    <tr>\n",
       "      <th>B2B</th>\n",
       "      <td>0.00</td>\n",
       "      <td>0.00</td>\n",
       "      <td>6.78</td>\n",
       "    </tr>\n",
       "    <tr>\n",
       "      <th>BASIC</th>\n",
       "      <td>0.00</td>\n",
       "      <td>0.00</td>\n",
       "      <td>2.31</td>\n",
       "    </tr>\n",
       "  </tbody>\n",
       "</table>\n",
       "</div>"
      ],
      "text/plain": [
       "result         ACCEPT  AUTHORIZE  REJECT\n",
       "category                                \n",
       "ACQUIRER ONLY    0.00       0.00   50.94\n",
       "ALIMENTACAO      0.00       0.00    1.15\n",
       "B2B              0.00       0.00    6.78\n",
       "BASIC            0.00       0.00    2.31"
      ]
     },
     "execution_count": 177,
     "metadata": {},
     "output_type": "execute_result"
    }
   ],
   "source": [
    "table.head(4)"
   ]
  },
  {
   "cell_type": "code",
   "execution_count": 178,
   "id": "321df3b0",
   "metadata": {},
   "outputs": [
    {
     "data": {
      "text/plain": [
       "<AxesSubplot:title={'center':'App Final vs Category'}, xlabel='category', ylabel='USD [MM]'>"
      ]
     },
     "execution_count": 178,
     "metadata": {},
     "output_type": "execute_result"
    },
    {
     "data": {
      "image/png": "[encoded data removed]",
      "text/plain": [
       "<Figure size 1440x720 with 1 Axes>"
      ]
     },
     "metadata": {
      "needs_background": "light"
     },
     "output_type": "display_data"
    }
   ],
   "source": [
    "table.plot(kind='bar',\n",
    "        title = 'App Final vs Category',\n",
    "        ylabel = 'USD [MM]',\n",
    "        figsize = (20,10),\n",
    "        grid = True,\n",
    "        stacked = True)"
   ]
  },
  {
   "cell_type": "markdown",
   "id": "b256a02b",
   "metadata": {},
   "source": [
    "## Filter Classic Cards"
   ]
  },
  {
   "cell_type": "code",
   "execution_count": 294,
   "id": "39fcd868",
   "metadata": {},
   "outputs": [
    {
     "data": {
      "text/plain": [
       "Index(['case_id', 'bin', 'brand', 'category', 'card_age_days', 'usd_amount',\n",
       "       'result', 'flag_cbk', 'pred_score', 'score_group', 'card_age_range'],\n",
       "      dtype='object')"
      ]
     },
     "execution_count": 294,
     "metadata": {},
     "output_type": "execute_result"
    }
   ],
   "source": [
    "df.columns"
   ]
  },
  {
   "cell_type": "code",
   "execution_count": 295,
   "id": "2bbcfd31",
   "metadata": {},
   "outputs": [
    {
     "data": {
      "text/plain": [
       "category\n",
       "CLASSIC    189507\n",
       "dtype: int64"
      ]
     },
     "execution_count": 295,
     "metadata": {},
     "output_type": "execute_result"
    }
   ],
   "source": [
    "df_1=df[df['category']=='CLASSIC']\n",
    "df_1.value_counts('category')"
   ]
  },
  {
   "cell_type": "code",
   "execution_count": 296,
   "id": "c667621d",
   "metadata": {},
   "outputs": [],
   "source": [
    "df_1=df_1[['score_group','result','usd_amount']]"
   ]
  },
  {
   "cell_type": "code",
   "execution_count": 297,
   "id": "d3ecc4aa",
   "metadata": {},
   "outputs": [],
   "source": [
    "classic = pd.pivot_table(df_1, values='usd_amount', index=['score_group'],\n",
    "                    columns=['result'], aggfunc=np.sum, fill_value=0)"
   ]
  },
  {
   "cell_type": "code",
   "execution_count": 298,
   "id": "d3681ba7",
   "metadata": {},
   "outputs": [
    {
     "data": {
      "text/html": [
       "<div>\n",
       "<style scoped>\n",
       "    .dataframe tbody tr th:only-of-type {\n",
       "        vertical-align: middle;\n",
       "    }\n",
       "\n",
       "    .dataframe tbody tr th {\n",
       "        vertical-align: top;\n",
       "    }\n",
       "\n",
       "    .dataframe thead th {\n",
       "        text-align: right;\n",
       "    }\n",
       "</style>\n",
       "<table border=\"1\" class=\"dataframe\">\n",
       "  <thead>\n",
       "    <tr style=\"text-align: right;\">\n",
       "      <th>result</th>\n",
       "      <th>ACCEPT</th>\n",
       "      <th>AUTHORIZE</th>\n",
       "      <th>REJECT</th>\n",
       "    </tr>\n",
       "    <tr>\n",
       "      <th>score_group</th>\n",
       "      <th></th>\n",
       "      <th></th>\n",
       "      <th></th>\n",
       "    </tr>\n",
       "  </thead>\n",
       "  <tbody>\n",
       "    <tr>\n",
       "      <th>25</th>\n",
       "      <td>377,102.84</td>\n",
       "      <td>1,171.85</td>\n",
       "      <td>414,058.03</td>\n",
       "    </tr>\n",
       "    <tr>\n",
       "      <th>50</th>\n",
       "      <td>21.22</td>\n",
       "      <td>0.00</td>\n",
       "      <td>400.82</td>\n",
       "    </tr>\n",
       "    <tr>\n",
       "      <th>75</th>\n",
       "      <td>37.18</td>\n",
       "      <td>3.45</td>\n",
       "      <td>1,229.14</td>\n",
       "    </tr>\n",
       "  </tbody>\n",
       "</table>\n",
       "</div>"
      ],
      "text/plain": [
       "result          ACCEPT  AUTHORIZE     REJECT\n",
       "score_group                                 \n",
       "25          377,102.84   1,171.85 414,058.03\n",
       "50               21.22       0.00     400.82\n",
       "75               37.18       3.45   1,229.14"
      ]
     },
     "execution_count": 298,
     "metadata": {},
     "output_type": "execute_result"
    }
   ],
   "source": [
    "classic.head(3)"
   ]
  },
  {
   "cell_type": "code",
   "execution_count": 299,
   "id": "6674b462",
   "metadata": {},
   "outputs": [],
   "source": [
    "df0=df_0[df_0['category']=='CLASSIC']\n",
    "\n",
    "df0=df0[['score_group','result','usd_amount']]\n",
    "\n",
    "classic_0 = pd.pivot_table(df0, values='usd_amount', index=['score_group'],\n",
    "                    columns=['result'], aggfunc=np.sum, fill_value=0)"
   ]
  },
  {
   "cell_type": "code",
   "execution_count": 300,
   "id": "0ccebf6c",
   "metadata": {},
   "outputs": [
    {
     "data": {
      "text/plain": [
       "<AxesSubplot:title={'center':'Score vs Classic [0]'}, xlabel='score_group', ylabel='USD'>"
      ]
     },
     "execution_count": 300,
     "metadata": {},
     "output_type": "execute_result"
    },
    {
     "data": {
      "image/png": "[encoded data removed]",
      "text/plain": [
       "<Figure size 1080x360 with 1 Axes>"
      ]
     },
     "metadata": {
      "needs_background": "light"
     },
     "output_type": "display_data"
    },
    {
     "data": {
      "image/png": "[encoded data removed]",
      "text/plain": [
       "<Figure size 1080x360 with 1 Axes>"
      ]
     },
     "metadata": {
      "needs_background": "light"
     },
     "output_type": "display_data"
    }
   ],
   "source": [
    "classic.plot(kind='bar',\n",
    "        title = 'Score vs Classic',\n",
    "        ylabel = 'USD',\n",
    "        figsize = (15,5),\n",
    "        grid = True,\n",
    "        stacked = True)\n",
    "\n",
    "classic_0.plot(kind='bar',\n",
    "        title = 'Score vs Classic [0]',\n",
    "        ylabel = 'USD',\n",
    "        figsize = (15,5),\n",
    "        grid = True,\n",
    "        stacked = True)"
   ]
  },
  {
   "cell_type": "markdown",
   "id": "fec36302",
   "metadata": {},
   "source": [
    "## Filter Gold Cards"
   ]
  },
  {
   "cell_type": "code",
   "execution_count": 301,
   "id": "754425c7",
   "metadata": {},
   "outputs": [
    {
     "data": {
      "text/plain": [
       "category\n",
       "GOLD    589197\n",
       "dtype: int64"
      ]
     },
     "execution_count": 301,
     "metadata": {},
     "output_type": "execute_result"
    }
   ],
   "source": [
    "df_1=df[df['category']=='GOLD']\n",
    "df_1.value_counts('category')"
   ]
  },
  {
   "cell_type": "code",
   "execution_count": 302,
   "id": "e4875667",
   "metadata": {},
   "outputs": [],
   "source": [
    "df_1=df_1[['score_group','result','usd_amount']]"
   ]
  },
  {
   "cell_type": "code",
   "execution_count": 303,
   "id": "3b752023",
   "metadata": {},
   "outputs": [],
   "source": [
    "gold = pd.pivot_table(df_1, values='usd_amount', index=['score_group'],\n",
    "                    columns=['result'], aggfunc=np.sum, fill_value=0)"
   ]
  },
  {
   "cell_type": "code",
   "execution_count": 304,
   "id": "dfac6dec",
   "metadata": {},
   "outputs": [
    {
     "data": {
      "text/html": [
       "<div>\n",
       "<style scoped>\n",
       "    .dataframe tbody tr th:only-of-type {\n",
       "        vertical-align: middle;\n",
       "    }\n",
       "\n",
       "    .dataframe tbody tr th {\n",
       "        vertical-align: top;\n",
       "    }\n",
       "\n",
       "    .dataframe thead th {\n",
       "        text-align: right;\n",
       "    }\n",
       "</style>\n",
       "<table border=\"1\" class=\"dataframe\">\n",
       "  <thead>\n",
       "    <tr style=\"text-align: right;\">\n",
       "      <th>result</th>\n",
       "      <th>ACCEPT</th>\n",
       "      <th>AUTHORIZE</th>\n",
       "      <th>REJECT</th>\n",
       "    </tr>\n",
       "    <tr>\n",
       "      <th>score_group</th>\n",
       "      <th></th>\n",
       "      <th></th>\n",
       "      <th></th>\n",
       "    </tr>\n",
       "  </thead>\n",
       "  <tbody>\n",
       "    <tr>\n",
       "      <th>25</th>\n",
       "      <td>1,159,979.00</td>\n",
       "      <td>3,890.91</td>\n",
       "      <td>1,236,840.25</td>\n",
       "    </tr>\n",
       "    <tr>\n",
       "      <th>50</th>\n",
       "      <td>323.45</td>\n",
       "      <td>1.15</td>\n",
       "      <td>1,273.64</td>\n",
       "    </tr>\n",
       "    <tr>\n",
       "      <th>75</th>\n",
       "      <td>496.58</td>\n",
       "      <td>5.54</td>\n",
       "      <td>2,372.86</td>\n",
       "    </tr>\n",
       "  </tbody>\n",
       "</table>\n",
       "</div>"
      ],
      "text/plain": [
       "result            ACCEPT  AUTHORIZE       REJECT\n",
       "score_group                                     \n",
       "25          1,159,979.00   3,890.91 1,236,840.25\n",
       "50                323.45       1.15     1,273.64\n",
       "75                496.58       5.54     2,372.86"
      ]
     },
     "execution_count": 304,
     "metadata": {},
     "output_type": "execute_result"
    }
   ],
   "source": [
    "gold.head(3)"
   ]
  },
  {
   "cell_type": "code",
   "execution_count": 305,
   "id": "60f66b0d",
   "metadata": {},
   "outputs": [],
   "source": [
    "df0=df_0[df_0['category']=='GOLD']\n",
    "\n",
    "df0=df0[['score_group','result','usd_amount']]\n",
    "\n",
    "gold_0 = pd.pivot_table(df0, values='usd_amount', index=['score_group'],\n",
    "                    columns=['result'], aggfunc=np.sum, fill_value=0)"
   ]
  },
  {
   "cell_type": "code",
   "execution_count": 306,
   "id": "b907bbf1",
   "metadata": {},
   "outputs": [
    {
     "data": {
      "text/plain": [
       "<AxesSubplot:title={'center':'Score vs Gold [0]'}, xlabel='score_group', ylabel='USD'>"
      ]
     },
     "execution_count": 306,
     "metadata": {},
     "output_type": "execute_result"
    },
    {
     "data": {
      "image/png": "[encoded data removed]",
      "text/plain": [
       "<Figure size 1080x360 with 1 Axes>"
      ]
     },
     "metadata": {
      "needs_background": "light"
     },
     "output_type": "display_data"
    },
    {
     "data": {
      "image/png": "[encoded data removed]",
      "text/plain": [
       "<Figure size 1080x360 with 1 Axes>"
      ]
     },
     "metadata": {
      "needs_background": "light"
     },
     "output_type": "display_data"
    }
   ],
   "source": [
    "gold.plot(kind='bar',\n",
    "        title = 'Score vs Gold',\n",
    "        ylabel = 'USD',\n",
    "        figsize = (15,5),\n",
    "        grid = True,\n",
    "        stacked = True)\n",
    "\n",
    "gold_0.plot(kind='bar',\n",
    "        title = 'Score vs Gold [0]',\n",
    "        ylabel = 'USD',\n",
    "        figsize = (15,5),\n",
    "        grid = True,\n",
    "        stacked = True)"
   ]
  },
  {
   "cell_type": "markdown",
   "id": "99c05bc3",
   "metadata": {},
   "source": [
    "## Filter Standard Cards"
   ]
  },
  {
   "cell_type": "code",
   "execution_count": 191,
   "id": "bf52e71f",
   "metadata": {},
   "outputs": [
    {
     "data": {
      "text/plain": [
       "category\n",
       "STANDARD    178749\n",
       "dtype: int64"
      ]
     },
     "execution_count": 191,
     "metadata": {},
     "output_type": "execute_result"
    }
   ],
   "source": [
    "df_1=df[df['category']=='STANDARD']\n",
    "df_1.value_counts('category')"
   ]
  },
  {
   "cell_type": "code",
   "execution_count": 192,
   "id": "c3b90f4d",
   "metadata": {},
   "outputs": [],
   "source": [
    "df_1=df_1[['score_group','result','usd_amount']]"
   ]
  },
  {
   "cell_type": "code",
   "execution_count": 193,
   "id": "3d16e317",
   "metadata": {},
   "outputs": [],
   "source": [
    "table = pd.pivot_table(df_1, values='usd_amount', index=['score_group'],\n",
    "                    columns=['result'], aggfunc=np.sum, fill_value=0)"
   ]
  },
  {
   "cell_type": "code",
   "execution_count": 194,
   "id": "d29d7d56",
   "metadata": {},
   "outputs": [
    {
     "data": {
      "text/html": [
       "<div>\n",
       "<style scoped>\n",
       "    .dataframe tbody tr th:only-of-type {\n",
       "        vertical-align: middle;\n",
       "    }\n",
       "\n",
       "    .dataframe tbody tr th {\n",
       "        vertical-align: top;\n",
       "    }\n",
       "\n",
       "    .dataframe thead th {\n",
       "        text-align: right;\n",
       "    }\n",
       "</style>\n",
       "<table border=\"1\" class=\"dataframe\">\n",
       "  <thead>\n",
       "    <tr style=\"text-align: right;\">\n",
       "      <th>result</th>\n",
       "      <th>ACCEPT</th>\n",
       "      <th>AUTHORIZE</th>\n",
       "      <th>REJECT</th>\n",
       "    </tr>\n",
       "    <tr>\n",
       "      <th>score_group</th>\n",
       "      <th></th>\n",
       "      <th></th>\n",
       "      <th></th>\n",
       "    </tr>\n",
       "  </thead>\n",
       "  <tbody>\n",
       "    <tr>\n",
       "      <th>25</th>\n",
       "      <td>387,339.84</td>\n",
       "      <td>1,180.98</td>\n",
       "      <td>346,256.78</td>\n",
       "    </tr>\n",
       "    <tr>\n",
       "      <th>50</th>\n",
       "      <td>7.58</td>\n",
       "      <td>1.15</td>\n",
       "      <td>246.51</td>\n",
       "    </tr>\n",
       "    <tr>\n",
       "      <th>75</th>\n",
       "      <td>74.94</td>\n",
       "      <td>0.00</td>\n",
       "      <td>387.82</td>\n",
       "    </tr>\n",
       "  </tbody>\n",
       "</table>\n",
       "</div>"
      ],
      "text/plain": [
       "result          ACCEPT  AUTHORIZE     REJECT\n",
       "score_group                                 \n",
       "25          387,339.84   1,180.98 346,256.78\n",
       "50                7.58       1.15     246.51\n",
       "75               74.94       0.00     387.82"
      ]
     },
     "execution_count": 194,
     "metadata": {},
     "output_type": "execute_result"
    }
   ],
   "source": [
    "table.head(3)"
   ]
  },
  {
   "cell_type": "code",
   "execution_count": 195,
   "id": "75cb8e8e",
   "metadata": {},
   "outputs": [
    {
     "data": {
      "text/plain": [
       "<AxesSubplot:title={'center':'Score vs Standard'}, xlabel='score_group', ylabel='USD'>"
      ]
     },
     "execution_count": 195,
     "metadata": {},
     "output_type": "execute_result"
    },
    {
     "data": {
      "image/png": "[encoded data removed]",
      "text/plain": [
       "<Figure size 1440x720 with 1 Axes>"
      ]
     },
     "metadata": {
      "needs_background": "light"
     },
     "output_type": "display_data"
    }
   ],
   "source": [
    "table.plot(kind='bar',\n",
    "        title = 'Score vs Standard',\n",
    "        ylabel = 'USD',\n",
    "        figsize = (20,10),\n",
    "        grid = True,\n",
    "        stacked = True)"
   ]
  },
  {
   "cell_type": "markdown",
   "id": "51ee094c",
   "metadata": {},
   "source": [
    "## Filter Corporate T&E Cards"
   ]
  },
  {
   "cell_type": "code",
   "execution_count": 196,
   "id": "74686bb8",
   "metadata": {},
   "outputs": [
    {
     "data": {
      "text/plain": [
       "category\n",
       "CORPORATE T&E    39507\n",
       "dtype: int64"
      ]
     },
     "execution_count": 196,
     "metadata": {},
     "output_type": "execute_result"
    }
   ],
   "source": [
    "df_1=df[df['category']=='CORPORATE T&E']\n",
    "df_1.value_counts('category')"
   ]
  },
  {
   "cell_type": "code",
   "execution_count": 197,
   "id": "edececb1",
   "metadata": {},
   "outputs": [],
   "source": [
    "df_1=df_1[['score_group','result','usd_amount']]"
   ]
  },
  {
   "cell_type": "code",
   "execution_count": 198,
   "id": "eac6e6a5",
   "metadata": {},
   "outputs": [],
   "source": [
    "table = pd.pivot_table(df_1, values='usd_amount', index=['score_group'],\n",
    "                    columns=['result'], aggfunc=np.sum, fill_value=0)"
   ]
  },
  {
   "cell_type": "code",
   "execution_count": 199,
   "id": "53de7703",
   "metadata": {},
   "outputs": [
    {
     "data": {
      "text/html": [
       "<div>\n",
       "<style scoped>\n",
       "    .dataframe tbody tr th:only-of-type {\n",
       "        vertical-align: middle;\n",
       "    }\n",
       "\n",
       "    .dataframe tbody tr th {\n",
       "        vertical-align: top;\n",
       "    }\n",
       "\n",
       "    .dataframe thead th {\n",
       "        text-align: right;\n",
       "    }\n",
       "</style>\n",
       "<table border=\"1\" class=\"dataframe\">\n",
       "  <thead>\n",
       "    <tr style=\"text-align: right;\">\n",
       "      <th>result</th>\n",
       "      <th>ACCEPT</th>\n",
       "      <th>AUTHORIZE</th>\n",
       "      <th>REJECT</th>\n",
       "    </tr>\n",
       "    <tr>\n",
       "      <th>score_group</th>\n",
       "      <th></th>\n",
       "      <th></th>\n",
       "      <th></th>\n",
       "    </tr>\n",
       "  </thead>\n",
       "  <tbody>\n",
       "    <tr>\n",
       "      <th>25</th>\n",
       "      <td>31,021.72</td>\n",
       "      <td>74.07</td>\n",
       "      <td>117,068.96</td>\n",
       "    </tr>\n",
       "    <tr>\n",
       "      <th>50</th>\n",
       "      <td>1.85</td>\n",
       "      <td>0.00</td>\n",
       "      <td>151.06</td>\n",
       "    </tr>\n",
       "    <tr>\n",
       "      <th>75</th>\n",
       "      <td>20.26</td>\n",
       "      <td>4.12</td>\n",
       "      <td>576.46</td>\n",
       "    </tr>\n",
       "  </tbody>\n",
       "</table>\n",
       "</div>"
      ],
      "text/plain": [
       "result         ACCEPT  AUTHORIZE     REJECT\n",
       "score_group                                \n",
       "25          31,021.72      74.07 117,068.96\n",
       "50               1.85       0.00     151.06\n",
       "75              20.26       4.12     576.46"
      ]
     },
     "execution_count": 199,
     "metadata": {},
     "output_type": "execute_result"
    }
   ],
   "source": [
    "table.head(3)"
   ]
  },
  {
   "cell_type": "code",
   "execution_count": 200,
   "id": "7325cdea",
   "metadata": {},
   "outputs": [
    {
     "data": {
      "text/plain": [
       "<AxesSubplot:title={'center':'Score vs Corporate T&E'}, xlabel='score_group', ylabel='USD'>"
      ]
     },
     "execution_count": 200,
     "metadata": {},
     "output_type": "execute_result"
    },
    {
     "data": {
      "image/png": "[encoded data removed]",
      "text/plain": [
       "<Figure size 1440x720 with 1 Axes>"
      ]
     },
     "metadata": {
      "needs_background": "light"
     },
     "output_type": "display_data"
    }
   ],
   "source": [
    "table.plot(kind='bar',\n",
    "        title = 'Score vs Corporate T&E',\n",
    "        ylabel = 'USD',\n",
    "        figsize = (20,10),\n",
    "        grid = True,\n",
    "        stacked = True)"
   ]
  },
  {
   "cell_type": "markdown",
   "id": "a68104ad",
   "metadata": {},
   "source": [
    "## Filter Others"
   ]
  },
  {
   "cell_type": "code",
   "execution_count": 201,
   "id": "094cd63f",
   "metadata": {},
   "outputs": [
    {
     "data": {
      "text/plain": [
       "category\n",
       "BUSINESS                              47023\n",
       "CORPORATE T&E                         39507\n",
       "PREPAID                               16995\n",
       "MICRO BUSINESS                         7985\n",
       "MULTIPLE                               6628\n",
       "ELO Mais                               4718\n",
       "PREPAID BUSINESS                       4045\n",
       "Corporate                              2314\n",
       "MIXED PRODUCT                          2123\n",
       "EXECUTIVE BUSINESS                     1968\n",
       "BUSINESS ENHANCED                      1872\n",
       "PERSONAL PLATINUM CHARGE               1781\n",
       "Basic                                  1391\n",
       "Nanquim                                 798\n",
       "CORPORATE                               784\n",
       "Grafite                                 654\n",
       "PERSONAL GOLD CHARGE                    514\n",
       "PERSONAL BLUE REVOLVE                   473\n",
       "PERSONAL GREEN CHARGE                   423\n",
       "CORPORATE PURCHASING                    337\n",
       "CORPORATE EXECUTIVE                     317\n",
       "ELECTRON                                279\n",
       "PERSONAL REVOLVE                        271\n",
       "PERSONAL GREEN REVOLVE                  266\n",
       "PURCHASING                              256\n",
       "PERSONAL GOLD REVOLVE                   217\n",
       "PREPAID RELOADABLE                      173\n",
       "PERSONAL PLATINUM REVOLVE               172\n",
       "ENHANCED                                155\n",
       "WORLD                                   106\n",
       "PREPAID CORPORATE T&E                    90\n",
       "PREPAID PLATINUM TRAVEL                  73\n",
       "PERSONAL                                 66\n",
       "GOVERNMENT CORPORATE T&E                 60\n",
       "CORPORATE GREEN CHARGE                   54\n",
       "ACQUIRER ONLY                            46\n",
       "WORLD ELITE                              34\n",
       "CENTRAL TRAVEL SOLUTIONS LAND            29\n",
       "PREPAID HSA NON-SUBSTANTIATED            28\n",
       "TITANIUM                                 25\n",
       "PURCHASING WITH FLEET                    14\n",
       "WORLD ELITE FOR BUSINESS                 12\n",
       "WORLD BUSINESS                           11\n",
       "CORPORATE FLEET                           9\n",
       "WORLD FOR BUSINESS                        9\n",
       "GIFT                                      8\n",
       "WORLD BLACK                               8\n",
       "UNEMBOSSED                                7\n",
       "FLEET                                     6\n",
       "B2B                                       6\n",
       "COMPANY                                   6\n",
       "OPEN CHARGE                               6\n",
       "PROFESSIONAL                              6\n",
       "ELECTRONIC                                6\n",
       "PREPAID PLATINUM                          5\n",
       "PREPAID PAYROLL                           4\n",
       "GOLD/PLATINUM                             4\n",
       "PREPAID FLEX BENEFIT                      3\n",
       "COMMERCIAL TRANSPORT                      2\n",
       "DISTRIBUTION                              2\n",
       "REWARDS                                   2\n",
       "BASIC                                     2\n",
       "PREFERRED BUSINESS                        2\n",
       "UHNW                                      2\n",
       "PREPAID WORKPLACE B2B                     2\n",
       "PREPAID COMMERCIAL PAYMENT ACCOUNT        2\n",
       "PREPAID GOVERNMENT                        2\n",
       "MIXED BIN                                 2\n",
       "PRIVATE LABEL                             1\n",
       "OTHER                                     1\n",
       "ALIMENTACAO                               1\n",
       "PREMIUM                                   1\n",
       "PREPAID COMMERCIAL TRANSPORT              1\n",
       "BUSINESS SIGNATURE                        1\n",
       "PERSONAL CHARGE                           1\n",
       "CCSG US CONSUMER REVOLVE                  1\n",
       "CENTRAL TRAVEL SOLUTIONS AIR              1\n",
       "PREPAID HEALTHCARE                        1\n",
       "PERSONAL BLACK CHARGE                     1\n",
       "CONSUMER CHARGE                           1\n",
       "GOLD/CORPORATE                            1\n",
       "VIRTUAL                                   1\n",
       "PREPAID HEALTHCARE NON-TAX                1\n",
       "ISIC STUDENT                              1\n",
       "INFINITE/SIGNATURE                        1\n",
       "STANDARD/WORLD                            1\n",
       "PREPAID PRIVATE LABEL STANDARD            1\n",
       "DEFERRED DEBIT                            1\n",
       "GSA PURCHASING                            1\n",
       "PREPAID STUDENT                           1\n",
       "GOVERNMENT COMMERCIAL                     1\n",
       "PLATINUM/WORLD/STANDARD                   1\n",
       "dtype: int64"
      ]
     },
     "execution_count": 201,
     "metadata": {},
     "output_type": "execute_result"
    }
   ],
   "source": [
    "df_1=df[df['category']!='CLASSIC']\n",
    "df_1=df_1[df_1['category']!='GOLD']\n",
    "df_1=df_1[df_1['category']!='STANDARD']\n",
    "df_1=df_1[df_1['category']!='PLATINUM']\n",
    "df_1=df_1[df_1['category']!='BLACK']\n",
    "df_1=df_1[df_1['category']!='INFINITE']\n",
    "df_1=df_1[df_1['category']!='SIGNATURE']\n",
    "df_1.value_counts('category')"
   ]
  },
  {
   "cell_type": "code",
   "execution_count": 202,
   "id": "57cc1ac8",
   "metadata": {},
   "outputs": [],
   "source": [
    "df_1=df_1[['score_group','result','usd_amount']]"
   ]
  },
  {
   "cell_type": "code",
   "execution_count": 203,
   "id": "40f103cc",
   "metadata": {},
   "outputs": [],
   "source": [
    "table = pd.pivot_table(df_1, values='usd_amount', index=['score_group'],\n",
    "                    columns=['result'], aggfunc=np.sum, fill_value=0)"
   ]
  },
  {
   "cell_type": "code",
   "execution_count": 204,
   "id": "8a022482",
   "metadata": {},
   "outputs": [
    {
     "data": {
      "text/html": [
       "<div>\n",
       "<style scoped>\n",
       "    .dataframe tbody tr th:only-of-type {\n",
       "        vertical-align: middle;\n",
       "    }\n",
       "\n",
       "    .dataframe tbody tr th {\n",
       "        vertical-align: top;\n",
       "    }\n",
       "\n",
       "    .dataframe thead th {\n",
       "        text-align: right;\n",
       "    }\n",
       "</style>\n",
       "<table border=\"1\" class=\"dataframe\">\n",
       "  <thead>\n",
       "    <tr style=\"text-align: right;\">\n",
       "      <th>result</th>\n",
       "      <th>ACCEPT</th>\n",
       "      <th>AUTHORIZE</th>\n",
       "      <th>REJECT</th>\n",
       "    </tr>\n",
       "    <tr>\n",
       "      <th>score_group</th>\n",
       "      <th></th>\n",
       "      <th></th>\n",
       "      <th></th>\n",
       "    </tr>\n",
       "  </thead>\n",
       "  <tbody>\n",
       "    <tr>\n",
       "      <th>25</th>\n",
       "      <td>299,482.97</td>\n",
       "      <td>1,162.26</td>\n",
       "      <td>322,791.38</td>\n",
       "    </tr>\n",
       "    <tr>\n",
       "      <th>50</th>\n",
       "      <td>16.18</td>\n",
       "      <td>0.00</td>\n",
       "      <td>319.36</td>\n",
       "    </tr>\n",
       "    <tr>\n",
       "      <th>75</th>\n",
       "      <td>29.13</td>\n",
       "      <td>5.28</td>\n",
       "      <td>687.17</td>\n",
       "    </tr>\n",
       "  </tbody>\n",
       "</table>\n",
       "</div>"
      ],
      "text/plain": [
       "result          ACCEPT  AUTHORIZE     REJECT\n",
       "score_group                                 \n",
       "25          299,482.97   1,162.26 322,791.38\n",
       "50               16.18       0.00     319.36\n",
       "75               29.13       5.28     687.17"
      ]
     },
     "execution_count": 204,
     "metadata": {},
     "output_type": "execute_result"
    }
   ],
   "source": [
    "table.head(3)"
   ]
  },
  {
   "cell_type": "code",
   "execution_count": 205,
   "id": "aef9eb73",
   "metadata": {},
   "outputs": [
    {
     "data": {
      "text/plain": [
       "<AxesSubplot:title={'center':'Score vs Others'}, xlabel='score_group', ylabel='USD'>"
      ]
     },
     "execution_count": 205,
     "metadata": {},
     "output_type": "execute_result"
    },
    {
     "data": {
      "image/png": "[encoded data removed]",
      "text/plain": [
       "<Figure size 1440x720 with 1 Axes>"
      ]
     },
     "metadata": {
      "needs_background": "light"
     },
     "output_type": "display_data"
    }
   ],
   "source": [
    "table.plot(kind='bar',\n",
    "        title = 'Score vs Others',\n",
    "        ylabel = 'USD',\n",
    "        figsize = (20,10),\n",
    "        grid = True,\n",
    "        stacked = True)"
   ]
  },
  {
   "cell_type": "code",
   "execution_count": null,
   "id": "aacf958a",
   "metadata": {},
   "outputs": [],
   "source": []
  },
  {
   "cell_type": "code",
   "execution_count": null,
   "id": "cfc3cfd2",
   "metadata": {},
   "outputs": [],
   "source": []
  },
  {
   "cell_type": "code",
   "execution_count": null,
   "id": "a887ee95",
   "metadata": {},
   "outputs": [],
   "source": []
  },
  {
   "cell_type": "code",
   "execution_count": null,
   "id": "701fe968",
   "metadata": {},
   "outputs": [],
   "source": []
  },
  {
   "cell_type": "markdown",
   "id": "5a962242",
   "metadata": {},
   "source": [
    "## BINs Classic Cards"
   ]
  },
  {
   "cell_type": "code",
   "execution_count": 58,
   "id": "b87f863e",
   "metadata": {},
   "outputs": [
    {
     "data": {
      "text/plain": [
       "Index(['case_id', 'bin', 'brand', 'category', 'usd_amount', 'result',\n",
       "       'flag_cbk', 'pred_score', 'score_group'],\n",
       "      dtype='object')"
      ]
     },
     "execution_count": 58,
     "metadata": {},
     "output_type": "execute_result"
    }
   ],
   "source": [
    "df.columns"
   ]
  },
  {
   "cell_type": "code",
   "execution_count": 60,
   "id": "d2808f45",
   "metadata": {},
   "outputs": [
    {
     "data": {
      "text/plain": [
       "category\n",
       "CLASSIC    189507\n",
       "dtype: int64"
      ]
     },
     "execution_count": 60,
     "metadata": {},
     "output_type": "execute_result"
    }
   ],
   "source": [
    "df_1=df[df['category']=='CLASSIC']\n",
    "df_1.value_counts('category')"
   ]
  },
  {
   "cell_type": "code",
   "execution_count": 61,
   "id": "6262b729",
   "metadata": {},
   "outputs": [],
   "source": [
    "df_1=df[['bin','result','usd_amount']]"
   ]
  },
  {
   "cell_type": "code",
   "execution_count": 62,
   "id": "982f9703",
   "metadata": {},
   "outputs": [],
   "source": [
    "table = pd.pivot_table(df_1, values='usd_amount', index=['bin'],\n",
    "                    columns=['result'], aggfunc=np.sum, fill_value=0)"
   ]
  },
  {
   "cell_type": "code",
   "execution_count": 63,
   "id": "f7207b32",
   "metadata": {},
   "outputs": [
    {
     "data": {
      "text/html": [
       "<div>\n",
       "<style scoped>\n",
       "    .dataframe tbody tr th:only-of-type {\n",
       "        vertical-align: middle;\n",
       "    }\n",
       "\n",
       "    .dataframe tbody tr th {\n",
       "        vertical-align: top;\n",
       "    }\n",
       "\n",
       "    .dataframe thead th {\n",
       "        text-align: right;\n",
       "    }\n",
       "</style>\n",
       "<table border=\"1\" class=\"dataframe\">\n",
       "  <thead>\n",
       "    <tr style=\"text-align: right;\">\n",
       "      <th>result</th>\n",
       "      <th>ACCEPT</th>\n",
       "      <th>AUTHORIZE</th>\n",
       "      <th>REJECT</th>\n",
       "    </tr>\n",
       "    <tr>\n",
       "      <th>bin</th>\n",
       "      <th></th>\n",
       "      <th></th>\n",
       "      <th></th>\n",
       "    </tr>\n",
       "  </thead>\n",
       "  <tbody>\n",
       "    <tr>\n",
       "      <th>222738</th>\n",
       "      <td>0.00</td>\n",
       "      <td>0.00</td>\n",
       "      <td>1.16</td>\n",
       "    </tr>\n",
       "    <tr>\n",
       "      <th>222746</th>\n",
       "      <td>0.00</td>\n",
       "      <td>0.00</td>\n",
       "      <td>0.99</td>\n",
       "    </tr>\n",
       "    <tr>\n",
       "      <th>222763</th>\n",
       "      <td>15,884.25</td>\n",
       "      <td>56.40</td>\n",
       "      <td>34,509.30</td>\n",
       "    </tr>\n",
       "  </tbody>\n",
       "</table>\n",
       "</div>"
      ],
      "text/plain": [
       "result    ACCEPT  AUTHORIZE    REJECT\n",
       "bin                                  \n",
       "222738      0.00       0.00      1.16\n",
       "222746      0.00       0.00      0.99\n",
       "222763 15,884.25      56.40 34,509.30"
      ]
     },
     "execution_count": 63,
     "metadata": {},
     "output_type": "execute_result"
    }
   ],
   "source": [
    "table.head(3)"
   ]
  },
  {
   "cell_type": "code",
   "execution_count": null,
   "id": "ecdf6bb3",
   "metadata": {},
   "outputs": [],
   "source": []
  },
  {
   "cell_type": "code",
   "execution_count": null,
   "id": "7db46287",
   "metadata": {},
   "outputs": [],
   "source": []
  },
  {
   "cell_type": "code",
   "execution_count": null,
   "id": "765bad0b",
   "metadata": {},
   "outputs": [],
   "source": []
  },
  {
   "cell_type": "code",
   "execution_count": null,
   "id": "dbd99e18",
   "metadata": {},
   "outputs": [],
   "source": []
  },
  {
   "cell_type": "markdown",
   "id": "1235575a",
   "metadata": {},
   "source": [
    "## Pivote Table BIN"
   ]
  },
  {
   "cell_type": "code",
   "execution_count": 65,
   "id": "c94f4d71",
   "metadata": {},
   "outputs": [],
   "source": [
    "df_1=df[['bin','result','usd_amount']]"
   ]
  },
  {
   "cell_type": "code",
   "execution_count": 66,
   "id": "10de2132",
   "metadata": {},
   "outputs": [
    {
     "data": {
      "text/html": [
       "<div>\n",
       "<style scoped>\n",
       "    .dataframe tbody tr th:only-of-type {\n",
       "        vertical-align: middle;\n",
       "    }\n",
       "\n",
       "    .dataframe tbody tr th {\n",
       "        vertical-align: top;\n",
       "    }\n",
       "\n",
       "    .dataframe thead th {\n",
       "        text-align: right;\n",
       "    }\n",
       "</style>\n",
       "<table border=\"1\" class=\"dataframe\">\n",
       "  <thead>\n",
       "    <tr style=\"text-align: right;\">\n",
       "      <th></th>\n",
       "      <th>bin</th>\n",
       "      <th>result</th>\n",
       "      <th>usd_amount</th>\n",
       "    </tr>\n",
       "  </thead>\n",
       "  <tbody>\n",
       "    <tr>\n",
       "      <th>0</th>\n",
       "      <td>474525</td>\n",
       "      <td>REJECT</td>\n",
       "      <td>1.98</td>\n",
       "    </tr>\n",
       "    <tr>\n",
       "      <th>1</th>\n",
       "      <td>544891</td>\n",
       "      <td>REJECT</td>\n",
       "      <td>71.05</td>\n",
       "    </tr>\n",
       "    <tr>\n",
       "      <th>2</th>\n",
       "      <td>516306</td>\n",
       "      <td>REJECT</td>\n",
       "      <td>1.18</td>\n",
       "    </tr>\n",
       "    <tr>\n",
       "      <th>3</th>\n",
       "      <td>453211</td>\n",
       "      <td>ACCEPT</td>\n",
       "      <td>6.66</td>\n",
       "    </tr>\n",
       "  </tbody>\n",
       "</table>\n",
       "</div>"
      ],
      "text/plain": [
       "      bin  result  usd_amount\n",
       "0  474525  REJECT        1.98\n",
       "1  544891  REJECT       71.05\n",
       "2  516306  REJECT        1.18\n",
       "3  453211  ACCEPT        6.66"
      ]
     },
     "execution_count": 66,
     "metadata": {},
     "output_type": "execute_result"
    }
   ],
   "source": [
    "df_1.head(4)"
   ]
  },
  {
   "cell_type": "code",
   "execution_count": 67,
   "id": "f29ebf44",
   "metadata": {},
   "outputs": [],
   "source": [
    "table = pd.pivot_table(df_1, values='usd_amount', index=['bin'],\n",
    "                    columns=['result'], aggfunc=np.sum, fill_value=0)"
   ]
  },
  {
   "cell_type": "code",
   "execution_count": 68,
   "id": "6119d93d",
   "metadata": {},
   "outputs": [
    {
     "data": {
      "text/html": [
       "<div>\n",
       "<style scoped>\n",
       "    .dataframe tbody tr th:only-of-type {\n",
       "        vertical-align: middle;\n",
       "    }\n",
       "\n",
       "    .dataframe tbody tr th {\n",
       "        vertical-align: top;\n",
       "    }\n",
       "\n",
       "    .dataframe thead th {\n",
       "        text-align: right;\n",
       "    }\n",
       "</style>\n",
       "<table border=\"1\" class=\"dataframe\">\n",
       "  <thead>\n",
       "    <tr style=\"text-align: right;\">\n",
       "      <th>result</th>\n",
       "      <th>ACCEPT</th>\n",
       "      <th>AUTHORIZE</th>\n",
       "      <th>REJECT</th>\n",
       "    </tr>\n",
       "    <tr>\n",
       "      <th>bin</th>\n",
       "      <th></th>\n",
       "      <th></th>\n",
       "      <th></th>\n",
       "    </tr>\n",
       "  </thead>\n",
       "  <tbody>\n",
       "    <tr>\n",
       "      <th>222738</th>\n",
       "      <td>0.00</td>\n",
       "      <td>0.00</td>\n",
       "      <td>1.16</td>\n",
       "    </tr>\n",
       "    <tr>\n",
       "      <th>222746</th>\n",
       "      <td>0.00</td>\n",
       "      <td>0.00</td>\n",
       "      <td>0.99</td>\n",
       "    </tr>\n",
       "    <tr>\n",
       "      <th>222763</th>\n",
       "      <td>15,884.25</td>\n",
       "      <td>56.40</td>\n",
       "      <td>34,509.30</td>\n",
       "    </tr>\n",
       "    <tr>\n",
       "      <th>222768</th>\n",
       "      <td>0.00</td>\n",
       "      <td>0.00</td>\n",
       "      <td>2.28</td>\n",
       "    </tr>\n",
       "  </tbody>\n",
       "</table>\n",
       "</div>"
      ],
      "text/plain": [
       "result    ACCEPT  AUTHORIZE    REJECT\n",
       "bin                                  \n",
       "222738      0.00       0.00      1.16\n",
       "222746      0.00       0.00      0.99\n",
       "222763 15,884.25      56.40 34,509.30\n",
       "222768      0.00       0.00      2.28"
      ]
     },
     "execution_count": 68,
     "metadata": {},
     "output_type": "execute_result"
    }
   ],
   "source": [
    "table.head(4)"
   ]
  },
  {
   "cell_type": "code",
   "execution_count": null,
   "id": "5d90aa6c",
   "metadata": {},
   "outputs": [],
   "source": []
  },
  {
   "cell_type": "code",
   "execution_count": null,
   "id": "1c775a40",
   "metadata": {},
   "outputs": [],
   "source": []
  },
  {
   "cell_type": "code",
   "execution_count": null,
   "id": "24cee17e",
   "metadata": {},
   "outputs": [],
   "source": []
  },
  {
   "cell_type": "code",
   "execution_count": null,
   "id": "b89c5031",
   "metadata": {},
   "outputs": [],
   "source": []
  },
  {
   "cell_type": "code",
   "execution_count": null,
   "id": "53ccfd95",
   "metadata": {},
   "outputs": [],
   "source": []
  }
 ],
 "metadata": {
  "kernelspec": {
   "display_name": "conda_python3",
   "language": "python",
   "name": "conda_python3"
  },
  "language_info": {
   "codemirror_mode": {
    "name": "ipython",
    "version": 3
   },
   "file_extension": ".py",
   "mimetype": "text/x-python",
   "name": "python",
   "nbconvert_exporter": "python",
   "pygments_lexer": "ipython3",
   "version": "3.6.13"
  }
 },
 "nbformat": 4,
 "nbformat_minor": 5
}
