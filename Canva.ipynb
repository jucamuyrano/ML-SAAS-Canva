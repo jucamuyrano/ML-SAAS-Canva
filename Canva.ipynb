{
 "cells": [
  {
   "cell_type": "markdown",
   "id": "e5e5ed34",
   "metadata": {},
   "source": [
    "## Import Libraries"
   ]
  },
  {
   "cell_type": "code",
   "execution_count": 12,
   "id": "3d7eda0d",
   "metadata": {},
   "outputs": [
    {
     "name": "stdout",
     "output_type": "stream",
     "text": [
      "Requirement already satisfied: awswrangler in /home/ec2-user/anaconda3/envs/python3/lib/python3.6/site-packages (2.13.0)\n",
      "Requirement already satisfied: botocore<2.0.0,>=1.23.17 in /home/ec2-user/anaconda3/envs/python3/lib/python3.6/site-packages (from awswrangler) (1.23.25)\n",
      "Requirement already satisfied: boto3<2.0.0,>=1.20.17 in /home/ec2-user/anaconda3/envs/python3/lib/python3.6/site-packages (from awswrangler) (1.20.25)\n",
      "Requirement already satisfied: pymysql<1.1.0,>=0.9.0 in /home/ec2-user/anaconda3/envs/python3/lib/python3.6/site-packages (from awswrangler) (1.0.2)\n",
      "Requirement already satisfied: openpyxl<3.1.0,>=3.0.0 in /home/ec2-user/anaconda3/envs/python3/lib/python3.6/site-packages (from awswrangler) (3.0.6)\n",
      "Requirement already satisfied: jsonpath-ng<2.0.0,>=1.5.3 in /home/ec2-user/anaconda3/envs/python3/lib/python3.6/site-packages (from awswrangler) (1.5.3)\n",
      "Requirement already satisfied: opensearch-py<2.0.0,>=1.0.0 in /home/ec2-user/anaconda3/envs/python3/lib/python3.6/site-packages (from awswrangler) (1.0.0)\n",
      "Requirement already satisfied: numpy<2.0.0,>=1.18.0 in /home/ec2-user/anaconda3/envs/python3/lib/python3.6/site-packages (from awswrangler) (1.19.5)\n",
      "Requirement already satisfied: progressbar2<4.0.0,>=3.53.3 in /home/ec2-user/anaconda3/envs/python3/lib/python3.6/site-packages (from awswrangler) (3.55.0)\n",
      "Requirement already satisfied: xlwt<2.0.0,>=1.3.0 in /home/ec2-user/anaconda3/envs/python3/lib/python3.6/site-packages (from awswrangler) (1.3.0)\n",
      "Requirement already satisfied: requests-aws4auth<2.0.0,>=1.1.1 in /home/ec2-user/anaconda3/envs/python3/lib/python3.6/site-packages (from awswrangler) (1.1.1)\n",
      "Requirement already satisfied: xlrd<3.0.0,>=2.0.1 in /home/ec2-user/anaconda3/envs/python3/lib/python3.6/site-packages (from awswrangler) (2.0.1)\n",
      "Requirement already satisfied: pg8000<1.23.0,>=1.16.0 in /home/ec2-user/anaconda3/envs/python3/lib/python3.6/site-packages (from awswrangler) (1.22.1)\n",
      "Requirement already satisfied: pandas<1.2.0,>=1.1.0 in /home/ec2-user/anaconda3/envs/python3/lib/python3.6/site-packages (from awswrangler) (1.1.5)\n",
      "Requirement already satisfied: pyarrow<6.1.0,>=2.0.0 in /home/ec2-user/anaconda3/envs/python3/lib/python3.6/site-packages (from awswrangler) (6.0.1)\n",
      "Requirement already satisfied: redshift-connector<2.1.0,>=2.0.889 in /home/ec2-user/anaconda3/envs/python3/lib/python3.6/site-packages (from awswrangler) (2.0.902)\n",
      "Requirement already satisfied: jmespath<1.0.0,>=0.7.1 in /home/ec2-user/anaconda3/envs/python3/lib/python3.6/site-packages (from boto3<2.0.0,>=1.20.17->awswrangler) (0.10.0)\n",
      "Requirement already satisfied: s3transfer<0.6.0,>=0.5.0 in /home/ec2-user/anaconda3/envs/python3/lib/python3.6/site-packages (from boto3<2.0.0,>=1.20.17->awswrangler) (0.5.0)\n",
      "Requirement already satisfied: urllib3<1.27,>=1.25.4 in /home/ec2-user/anaconda3/envs/python3/lib/python3.6/site-packages (from botocore<2.0.0,>=1.23.17->awswrangler) (1.26.7)\n",
      "Requirement already satisfied: python-dateutil<3.0.0,>=2.1 in /home/ec2-user/anaconda3/envs/python3/lib/python3.6/site-packages (from botocore<2.0.0,>=1.23.17->awswrangler) (2.8.1)\n",
      "Requirement already satisfied: six in /home/ec2-user/anaconda3/envs/python3/lib/python3.6/site-packages (from jsonpath-ng<2.0.0,>=1.5.3->awswrangler) (1.15.0)\n",
      "Requirement already satisfied: decorator in /home/ec2-user/anaconda3/envs/python3/lib/python3.6/site-packages (from jsonpath-ng<2.0.0,>=1.5.3->awswrangler) (4.4.2)\n",
      "Requirement already satisfied: ply in /home/ec2-user/anaconda3/envs/python3/lib/python3.6/site-packages (from jsonpath-ng<2.0.0,>=1.5.3->awswrangler) (3.11)\n",
      "Requirement already satisfied: jdcal in /home/ec2-user/anaconda3/envs/python3/lib/python3.6/site-packages (from openpyxl<3.1.0,>=3.0.0->awswrangler) (1.4.1)\n",
      "Requirement already satisfied: et-xmlfile in /home/ec2-user/anaconda3/envs/python3/lib/python3.6/site-packages (from openpyxl<3.1.0,>=3.0.0->awswrangler) (1.0.1)\n",
      "Requirement already satisfied: certifi in /home/ec2-user/anaconda3/envs/python3/lib/python3.6/site-packages (from opensearch-py<2.0.0,>=1.0.0->awswrangler) (2021.5.30)\n",
      "Requirement already satisfied: pytz>=2017.2 in /home/ec2-user/anaconda3/envs/python3/lib/python3.6/site-packages (from pandas<1.2.0,>=1.1.0->awswrangler) (2021.1)\n",
      "Requirement already satisfied: scramp>=1.4.1 in /home/ec2-user/anaconda3/envs/python3/lib/python3.6/site-packages (from pg8000<1.23.0,>=1.16.0->awswrangler) (1.4.1)\n",
      "Requirement already satisfied: python-utils>=2.3.0 in /home/ec2-user/anaconda3/envs/python3/lib/python3.6/site-packages (from progressbar2<4.0.0,>=3.53.3->awswrangler) (3.0.0)\n",
      "Requirement already satisfied: packaging in /home/ec2-user/anaconda3/envs/python3/lib/python3.6/site-packages (from redshift-connector<2.1.0,>=2.0.889->awswrangler) (21.3)\n",
      "Requirement already satisfied: lxml>=4.6.5 in /home/ec2-user/anaconda3/envs/python3/lib/python3.6/site-packages (from redshift-connector<2.1.0,>=2.0.889->awswrangler) (4.7.1)\n",
      "Requirement already satisfied: requests<2.26.1,>=2.23.0 in /home/ec2-user/anaconda3/envs/python3/lib/python3.6/site-packages (from redshift-connector<2.1.0,>=2.0.889->awswrangler) (2.26.0)\n",
      "Requirement already satisfied: beautifulsoup4<5.0.0,>=4.7.0 in /home/ec2-user/anaconda3/envs/python3/lib/python3.6/site-packages (from redshift-connector<2.1.0,>=2.0.889->awswrangler) (4.9.3)\n",
      "Requirement already satisfied: soupsieve>1.2 in /home/ec2-user/anaconda3/envs/python3/lib/python3.6/site-packages (from beautifulsoup4<5.0.0,>=4.7.0->redshift-connector<2.1.0,>=2.0.889->awswrangler) (2.0.1)\n",
      "Requirement already satisfied: idna<4,>=2.5 in /home/ec2-user/anaconda3/envs/python3/lib/python3.6/site-packages (from requests<2.26.1,>=2.23.0->redshift-connector<2.1.0,>=2.0.889->awswrangler) (3.1)\n",
      "Requirement already satisfied: charset-normalizer~=2.0.0 in /home/ec2-user/anaconda3/envs/python3/lib/python3.6/site-packages (from requests<2.26.1,>=2.23.0->redshift-connector<2.1.0,>=2.0.889->awswrangler) (2.0.9)\n",
      "Requirement already satisfied: asn1crypto>=1.4.0 in /home/ec2-user/anaconda3/envs/python3/lib/python3.6/site-packages (from scramp>=1.4.1->pg8000<1.23.0,>=1.16.0->awswrangler) (1.4.0)\n",
      "Requirement already satisfied: pyparsing!=3.0.5,>=2.0.2 in /home/ec2-user/anaconda3/envs/python3/lib/python3.6/site-packages (from packaging->redshift-connector<2.1.0,>=2.0.889->awswrangler) (2.4.7)\n"
     ]
    }
   ],
   "source": [
    "!pip install awswrangler"
   ]
  },
  {
   "cell_type": "code",
   "execution_count": 13,
   "id": "b23af02f",
   "metadata": {},
   "outputs": [],
   "source": [
    "import awswrangler as wr\n",
    "import boto3\n",
    "\n",
    "mybucket = 'dlocal-eu1-office-live-sagemaker-aons'"
   ]
  },
  {
   "cell_type": "code",
   "execution_count": 14,
   "id": "c443739d",
   "metadata": {},
   "outputs": [],
   "source": [
    "import pandas as pd\n",
    "import numpy as np\n",
    "import matplotlib.pyplot as plt\n",
    "import seaborn as sns\n",
    "import warnings\n",
    "import decimal\n",
    "import math\n",
    "\n",
    "pd.set_option('display.max_columns', None)\n",
    "pd.set_option('display.max_rows', None)\n",
    "warnings.filterwarnings('ignore')\n",
    "pd.set_option('precision', 2)\n",
    "pd.set_option('display.float_format', lambda x: f'{x:,.2f}')"
   ]
  },
  {
   "cell_type": "markdown",
   "id": "5187673f",
   "metadata": {},
   "source": [
    "## Upload Data Base"
   ]
  },
  {
   "cell_type": "code",
   "execution_count": 15,
   "id": "69f3d8ab",
   "metadata": {},
   "outputs": [],
   "source": [
    "query = '''\n",
    "\n",
    "select\n",
    "    ml.case_id,\n",
    "    ca.bin,\n",
    "    ca.brand,\n",
    "    ca.category,\n",
    "    rc.usd_amount,\n",
    "    rc.online_verdict,\n",
    "    cc.result,\n",
    "    case\n",
    "        when rc.online_verdict_reason like '%Positive%'then 1\n",
    "        else 0\n",
    "    end as flag_PU,\n",
    "    case\n",
    "        when id_chargeback is not null then 1\n",
    "        else 0\n",
    "    end as flag_cbk,\n",
    "    ml.pred_score\n",
    "\n",
    "from risk.risk_risk_case rc\n",
    "\n",
    "join \"dlocal-eu1-office-live-machine-learning\".\"saas_test_dataset_new_merchants_20211004\" ml\n",
    "    on ml.case_id = rc.case_id\n",
    "    \n",
    "left join risk.risk_card ca\n",
    "    on ca.card_id = rc.card_id\n",
    "\n",
    "left join risk.risk_risk_case_collect cc\n",
    "    on cc.case_id = rc.case_id\n",
    "\n",
    "left join default.merchant_data_pf md\n",
    "    on rc.merchant_reference = md.merchant_reference\n",
    "    and rc.country_code = md.country_code\n",
    "\n",
    "left join dl_db_master.unipay_chargebacks cbk \n",
    "    on rc.ticket_id = cbk.id_boleto\n",
    "    and cc.result='ACCEPT'\n",
    "\n",
    "where rc.merchant_reference = '30630'\n",
    "    and rc.operation_type in('WITH_CVV', 'WITHOUT_CVV', 'TOKEN')\n",
    "    and rc.created_date between date '2021-04-17' and date '2021-09-15'\n",
    "\n",
    "'''"
   ]
  },
  {
   "cell_type": "code",
   "execution_count": 16,
   "id": "7bbfdd6e",
   "metadata": {},
   "outputs": [
    {
     "name": "stdout",
     "output_type": "stream",
     "text": [
      "CPU times: user 10.1 s, sys: 467 ms, total: 10.6 s\n",
      "Wall time: 46.5 s\n"
     ]
    }
   ],
   "source": [
    "%%time\n",
    "\n",
    "df_original = wr.athena.read_sql_query(\n",
    "    sql=query,\n",
    "    database = 'risk',\n",
    "    ctas_approach=False,\n",
    "    encryption = 'SSE_KMS',\n",
    "    kms_key = 'arn:aws:kms:eu-west-1:671054319719:key/38274908-aebb-4807-8d53-bb6d7a475090',\n",
    "    workgroup = 'dlocal-eu1-office-live-sagemaker-workgroup',\n",
    "    s3_output = 's3://dlocal-eu1-office-live-sagemaker-aons/dev'\n",
    ")"
   ]
  },
  {
   "cell_type": "code",
   "execution_count": 17,
   "id": "e403ded6",
   "metadata": {},
   "outputs": [
    {
     "name": "stdout",
     "output_type": "stream",
     "text": [
      "shape ---> (1818506, 10)\n",
      "\n",
      "<class 'pandas.core.frame.DataFrame'>\n",
      "RangeIndex: 1818506 entries, 0 to 1818505\n",
      "Data columns (total 10 columns):\n",
      " #   Column          Dtype  \n",
      "---  ------          -----  \n",
      " 0   case_id         object \n",
      " 1   bin             string \n",
      " 2   brand           string \n",
      " 3   category        string \n",
      " 4   usd_amount      object \n",
      " 5   online_verdict  string \n",
      " 6   result          string \n",
      " 7   flag_PU         Int32  \n",
      " 8   flag_cbk        Int32  \n",
      " 9   pred_score      float32\n",
      "dtypes: Int32(2), float32(1), object(2), string(5)\n",
      "memory usage: 121.4+ MB\n",
      "None\n"
     ]
    }
   ],
   "source": [
    "df_original['case_id'] = df_original.case_id.astype(str)\n",
    "\n",
    "print('shape --->', df_original.shape)\n",
    "print('')\n",
    "print(df_original.info())"
   ]
  },
  {
   "cell_type": "code",
   "execution_count": 18,
   "id": "4ef9c792",
   "metadata": {},
   "outputs": [
    {
     "data": {
      "text/html": [
       "<div>\n",
       "<style scoped>\n",
       "    .dataframe tbody tr th:only-of-type {\n",
       "        vertical-align: middle;\n",
       "    }\n",
       "\n",
       "    .dataframe tbody tr th {\n",
       "        vertical-align: top;\n",
       "    }\n",
       "\n",
       "    .dataframe thead th {\n",
       "        text-align: right;\n",
       "    }\n",
       "</style>\n",
       "<table border=\"1\" class=\"dataframe\">\n",
       "  <thead>\n",
       "    <tr style=\"text-align: right;\">\n",
       "      <th></th>\n",
       "      <th>case_id</th>\n",
       "      <th>bin</th>\n",
       "      <th>brand</th>\n",
       "      <th>category</th>\n",
       "      <th>usd_amount</th>\n",
       "      <th>online_verdict</th>\n",
       "      <th>result</th>\n",
       "      <th>flag_PU</th>\n",
       "      <th>flag_cbk</th>\n",
       "      <th>pred_score</th>\n",
       "    </tr>\n",
       "  </thead>\n",
       "  <tbody>\n",
       "    <tr>\n",
       "      <th>1437442</th>\n",
       "      <td>578161530</td>\n",
       "      <td>550209</td>\n",
       "      <td>MC</td>\n",
       "      <td>GOLD</td>\n",
       "      <td>68.55</td>\n",
       "      <td>ACCEPT</td>\n",
       "      <td>REJECT</td>\n",
       "      <td>1</td>\n",
       "      <td>0</td>\n",
       "      <td>950.91</td>\n",
       "    </tr>\n",
       "    <tr>\n",
       "      <th>426211</th>\n",
       "      <td>657344219</td>\n",
       "      <td>512707</td>\n",
       "      <td>MC</td>\n",
       "      <td>STANDARD</td>\n",
       "      <td>6.75</td>\n",
       "      <td>ACCEPT</td>\n",
       "      <td>ACCEPT</td>\n",
       "      <td>1</td>\n",
       "      <td>0</td>\n",
       "      <td>864.39</td>\n",
       "    </tr>\n",
       "    <tr>\n",
       "      <th>944146</th>\n",
       "      <td>690441419</td>\n",
       "      <td>516292</td>\n",
       "      <td>MC</td>\n",
       "      <td>PLATINUM</td>\n",
       "      <td>8.74</td>\n",
       "      <td>ACCEPT</td>\n",
       "      <td>REJECT</td>\n",
       "      <td>0</td>\n",
       "      <td>0</td>\n",
       "      <td>734.19</td>\n",
       "    </tr>\n",
       "    <tr>\n",
       "      <th>1220429</th>\n",
       "      <td>729510025</td>\n",
       "      <td>455185</td>\n",
       "      <td>VI</td>\n",
       "      <td>BUSINESS</td>\n",
       "      <td>7.07</td>\n",
       "      <td>ACCEPT</td>\n",
       "      <td>ACCEPT</td>\n",
       "      <td>0</td>\n",
       "      <td>0</td>\n",
       "      <td>0.05</td>\n",
       "    </tr>\n",
       "    <tr>\n",
       "      <th>739433</th>\n",
       "      <td>941414723</td>\n",
       "      <td>539091</td>\n",
       "      <td>MC</td>\n",
       "      <td>STANDARD</td>\n",
       "      <td>6.46</td>\n",
       "      <td>ACCEPT</td>\n",
       "      <td>ACCEPT</td>\n",
       "      <td>1</td>\n",
       "      <td>0</td>\n",
       "      <td>0.14</td>\n",
       "    </tr>\n",
       "    <tr>\n",
       "      <th>762251</th>\n",
       "      <td>967278025</td>\n",
       "      <td>230744</td>\n",
       "      <td>MC</td>\n",
       "      <td>STANDARD</td>\n",
       "      <td>6.68</td>\n",
       "      <td>ACCEPT</td>\n",
       "      <td>ACCEPT</td>\n",
       "      <td>1</td>\n",
       "      <td>0</td>\n",
       "      <td>0.13</td>\n",
       "    </tr>\n",
       "    <tr>\n",
       "      <th>1629830</th>\n",
       "      <td>890659976</td>\n",
       "      <td>432957</td>\n",
       "      <td>VI</td>\n",
       "      <td>BUSINESS</td>\n",
       "      <td>6.65</td>\n",
       "      <td>ACCEPT</td>\n",
       "      <td>REJECT</td>\n",
       "      <td>0</td>\n",
       "      <td>0</td>\n",
       "      <td>780.38</td>\n",
       "    </tr>\n",
       "    <tr>\n",
       "      <th>295465</th>\n",
       "      <td>778125640</td>\n",
       "      <td>230650</td>\n",
       "      <td>MC</td>\n",
       "      <td>GOLD</td>\n",
       "      <td>6.64</td>\n",
       "      <td>ACCEPT</td>\n",
       "      <td>ACCEPT</td>\n",
       "      <td>0</td>\n",
       "      <td>0</td>\n",
       "      <td>0.06</td>\n",
       "    </tr>\n",
       "    <tr>\n",
       "      <th>405838</th>\n",
       "      <td>720424531</td>\n",
       "      <td>550209</td>\n",
       "      <td>MC</td>\n",
       "      <td>GOLD</td>\n",
       "      <td>6.96</td>\n",
       "      <td>ACCEPT</td>\n",
       "      <td>REJECT</td>\n",
       "      <td>0</td>\n",
       "      <td>0</td>\n",
       "      <td>744.82</td>\n",
       "    </tr>\n",
       "    <tr>\n",
       "      <th>1460001</th>\n",
       "      <td>646643201</td>\n",
       "      <td>417401</td>\n",
       "      <td>VI</td>\n",
       "      <td>CLASSIC</td>\n",
       "      <td>6.65</td>\n",
       "      <td>ACCEPT</td>\n",
       "      <td>REJECT</td>\n",
       "      <td>0</td>\n",
       "      <td>0</td>\n",
       "      <td>0.13</td>\n",
       "    </tr>\n",
       "  </tbody>\n",
       "</table>\n",
       "</div>"
      ],
      "text/plain": [
       "           case_id     bin brand  category usd_amount online_verdict  result  \\\n",
       "1437442  578161530  550209    MC      GOLD      68.55         ACCEPT  REJECT   \n",
       "426211   657344219  512707    MC  STANDARD       6.75         ACCEPT  ACCEPT   \n",
       "944146   690441419  516292    MC  PLATINUM       8.74         ACCEPT  REJECT   \n",
       "1220429  729510025  455185    VI  BUSINESS       7.07         ACCEPT  ACCEPT   \n",
       "739433   941414723  539091    MC  STANDARD       6.46         ACCEPT  ACCEPT   \n",
       "762251   967278025  230744    MC  STANDARD       6.68         ACCEPT  ACCEPT   \n",
       "1629830  890659976  432957    VI  BUSINESS       6.65         ACCEPT  REJECT   \n",
       "295465   778125640  230650    MC      GOLD       6.64         ACCEPT  ACCEPT   \n",
       "405838   720424531  550209    MC      GOLD       6.96         ACCEPT  REJECT   \n",
       "1460001  646643201  417401    VI   CLASSIC       6.65         ACCEPT  REJECT   \n",
       "\n",
       "         flag_PU  flag_cbk  pred_score  \n",
       "1437442        1         0      950.91  \n",
       "426211         1         0      864.39  \n",
       "944146         0         0      734.19  \n",
       "1220429        0         0        0.05  \n",
       "739433         1         0        0.14  \n",
       "762251         1         0        0.13  \n",
       "1629830        0         0      780.38  \n",
       "295465         0         0        0.06  \n",
       "405838         0         0      744.82  \n",
       "1460001        0         0        0.13  "
      ]
     },
     "execution_count": 18,
     "metadata": {},
     "output_type": "execute_result"
    }
   ],
   "source": [
    "df_original.sample(10)"
   ]
  },
  {
   "cell_type": "code",
   "execution_count": 19,
   "id": "c49615a7",
   "metadata": {},
   "outputs": [
    {
     "data": {
      "text/plain": [
       "online_verdict\n",
       "ACCEPT    1780332\n",
       "REJECT      38143\n",
       "dtype: int64"
      ]
     },
     "execution_count": 19,
     "metadata": {},
     "output_type": "execute_result"
    }
   ],
   "source": [
    "df_original.value_counts('online_verdict')"
   ]
  },
  {
   "cell_type": "code",
   "execution_count": 20,
   "id": "f8caf252",
   "metadata": {},
   "outputs": [
    {
     "data": {
      "text/plain": [
       "result\n",
       "REJECT       1025459\n",
       "ACCEPT        788766\n",
       "AUTHORIZE       4257\n",
       "dtype: int64"
      ]
     },
     "execution_count": 20,
     "metadata": {},
     "output_type": "execute_result"
    }
   ],
   "source": [
    "df_original.value_counts('result')"
   ]
  },
  {
   "cell_type": "code",
   "execution_count": 21,
   "id": "173efce4",
   "metadata": {},
   "outputs": [
    {
     "data": {
      "text/plain": [
       "flag_cbk\n",
       "0    1814193\n",
       "1       4313\n",
       "dtype: int64"
      ]
     },
     "execution_count": 21,
     "metadata": {},
     "output_type": "execute_result"
    }
   ],
   "source": [
    "df_original.value_counts('flag_cbk')"
   ]
  },
  {
   "cell_type": "code",
   "execution_count": 22,
   "id": "e284d102",
   "metadata": {},
   "outputs": [
    {
     "data": {
      "text/plain": [
       "flag_PU\n",
       "0    1411494\n",
       "1     407012\n",
       "dtype: int64"
      ]
     },
     "execution_count": 22,
     "metadata": {},
     "output_type": "execute_result"
    }
   ],
   "source": [
    "df_original.value_counts('flag_PU')"
   ]
  },
  {
   "cell_type": "markdown",
   "id": "1490a571",
   "metadata": {},
   "source": [
    "## Cast usd_amount"
   ]
  },
  {
   "cell_type": "code",
   "execution_count": 23,
   "id": "1661915b",
   "metadata": {},
   "outputs": [
    {
     "data": {
      "text/plain": [
       "case_id            object\n",
       "bin                string\n",
       "brand              string\n",
       "category           string\n",
       "usd_amount         object\n",
       "online_verdict     string\n",
       "result             string\n",
       "flag_PU             Int32\n",
       "flag_cbk            Int32\n",
       "pred_score        float32\n",
       "dtype: object"
      ]
     },
     "execution_count": 23,
     "metadata": {},
     "output_type": "execute_result"
    }
   ],
   "source": [
    "df_original.dtypes"
   ]
  },
  {
   "cell_type": "code",
   "execution_count": 24,
   "id": "145af43a",
   "metadata": {},
   "outputs": [],
   "source": [
    "df_original=df_original.astype({'usd_amount': 'float32'})"
   ]
  },
  {
   "cell_type": "code",
   "execution_count": 25,
   "id": "8bc1ba30",
   "metadata": {},
   "outputs": [
    {
     "data": {
      "text/plain": [
       "case_id            object\n",
       "bin                string\n",
       "brand              string\n",
       "category           string\n",
       "usd_amount        float32\n",
       "online_verdict     string\n",
       "result             string\n",
       "flag_PU             Int32\n",
       "flag_cbk            Int32\n",
       "pred_score        float32\n",
       "dtype: object"
      ]
     },
     "execution_count": 25,
     "metadata": {},
     "output_type": "execute_result"
    }
   ],
   "source": [
    "df_original.dtypes"
   ]
  },
  {
   "cell_type": "markdown",
   "id": "66436e9f",
   "metadata": {},
   "source": [
    "## Score Ranges"
   ]
  },
  {
   "cell_type": "code",
   "execution_count": 26,
   "id": "c7b7bb0e",
   "metadata": {},
   "outputs": [
    {
     "data": {
      "text/plain": [
       "Index(['case_id', 'bin', 'brand', 'category', 'usd_amount', 'online_verdict',\n",
       "       'result', 'flag_PU', 'flag_cbk', 'pred_score'],\n",
       "      dtype='object')"
      ]
     },
     "execution_count": 26,
     "metadata": {},
     "output_type": "execute_result"
    }
   ],
   "source": [
    "df_original.columns"
   ]
  },
  {
   "cell_type": "code",
   "execution_count": 27,
   "id": "e2afbcc5",
   "metadata": {},
   "outputs": [],
   "source": [
    "df = df_original[['case_id', 'bin', 'brand', 'category', 'usd_amount', 'online_verdict',\n",
    "       'result', 'flag_PU', 'flag_cbk', 'pred_score']]"
   ]
  },
  {
   "cell_type": "code",
   "execution_count": 28,
   "id": "6f5b607a",
   "metadata": {},
   "outputs": [],
   "source": [
    "def agrupar_score_inhouse():\n",
    "    \n",
    "    values_list_inhouse = [0, 25, 50, 75, 100, 125, 150, 175, 200, 225, 250, 275, 300, 325, 350, 375, 400, 425, 450, 475, \n",
    "                           500, 525, 550, 575, 600, 625, 650, 675, 700, 725, 750, 775, 800, 825, 850, 875, 900, 925, 950, 975, 1000]\n",
    "\n",
    "    conditions_inhouse = []\n",
    "\n",
    "    for i in values_list_inhouse:\n",
    "        if i == 0:\n",
    "            condicion = (df['pred_score'] == 0)\n",
    "            conditions_inhouse.append(condicion)\n",
    "        else:\n",
    "            condicion = (df['pred_score'] < i)\n",
    "            conditions_inhouse.append(condicion)\n",
    "            \n",
    "    df['score_group'] = np.select(conditions_inhouse, values_list_inhouse)\n",
    "    \n",
    "agrupar_score_inhouse()"
   ]
  },
  {
   "cell_type": "code",
   "execution_count": 30,
   "id": "9101ce6a",
   "metadata": {},
   "outputs": [
    {
     "data": {
      "text/html": [
       "<div>\n",
       "<style scoped>\n",
       "    .dataframe tbody tr th:only-of-type {\n",
       "        vertical-align: middle;\n",
       "    }\n",
       "\n",
       "    .dataframe tbody tr th {\n",
       "        vertical-align: top;\n",
       "    }\n",
       "\n",
       "    .dataframe thead th {\n",
       "        text-align: right;\n",
       "    }\n",
       "</style>\n",
       "<table border=\"1\" class=\"dataframe\">\n",
       "  <thead>\n",
       "    <tr style=\"text-align: right;\">\n",
       "      <th></th>\n",
       "      <th>case_id</th>\n",
       "      <th>bin</th>\n",
       "      <th>brand</th>\n",
       "      <th>category</th>\n",
       "      <th>usd_amount</th>\n",
       "      <th>online_verdict</th>\n",
       "      <th>result</th>\n",
       "      <th>flag_PU</th>\n",
       "      <th>flag_cbk</th>\n",
       "      <th>pred_score</th>\n",
       "      <th>score_group</th>\n",
       "    </tr>\n",
       "  </thead>\n",
       "  <tbody>\n",
       "    <tr>\n",
       "      <th>0</th>\n",
       "      <td>666383743</td>\n",
       "      <td>474525</td>\n",
       "      <td>VI</td>\n",
       "      <td>CLASSIC</td>\n",
       "      <td>1.98</td>\n",
       "      <td>ACCEPT</td>\n",
       "      <td>REJECT</td>\n",
       "      <td>0</td>\n",
       "      <td>0</td>\n",
       "      <td>225.93</td>\n",
       "      <td>250</td>\n",
       "    </tr>\n",
       "    <tr>\n",
       "      <th>1</th>\n",
       "      <td>795800153</td>\n",
       "      <td>544891</td>\n",
       "      <td>MC</td>\n",
       "      <td>GOLD</td>\n",
       "      <td>71.05</td>\n",
       "      <td>ACCEPT</td>\n",
       "      <td>REJECT</td>\n",
       "      <td>0</td>\n",
       "      <td>0</td>\n",
       "      <td>0.23</td>\n",
       "      <td>25</td>\n",
       "    </tr>\n",
       "    <tr>\n",
       "      <th>2</th>\n",
       "      <td>859533495</td>\n",
       "      <td>516306</td>\n",
       "      <td>MC</td>\n",
       "      <td>GOLD</td>\n",
       "      <td>1.18</td>\n",
       "      <td>ACCEPT</td>\n",
       "      <td>REJECT</td>\n",
       "      <td>0</td>\n",
       "      <td>0</td>\n",
       "      <td>81.45</td>\n",
       "      <td>100</td>\n",
       "    </tr>\n",
       "    <tr>\n",
       "      <th>3</th>\n",
       "      <td>829075183</td>\n",
       "      <td>453211</td>\n",
       "      <td>VI</td>\n",
       "      <td>GOLD</td>\n",
       "      <td>6.66</td>\n",
       "      <td>ACCEPT</td>\n",
       "      <td>ACCEPT</td>\n",
       "      <td>0</td>\n",
       "      <td>0</td>\n",
       "      <td>0.09</td>\n",
       "      <td>25</td>\n",
       "    </tr>\n",
       "    <tr>\n",
       "      <th>4</th>\n",
       "      <td>574680315</td>\n",
       "      <td>512215</td>\n",
       "      <td>MC</td>\n",
       "      <td>BLACK</td>\n",
       "      <td>6.50</td>\n",
       "      <td>ACCEPT</td>\n",
       "      <td>ACCEPT</td>\n",
       "      <td>0</td>\n",
       "      <td>0</td>\n",
       "      <td>801.54</td>\n",
       "      <td>825</td>\n",
       "    </tr>\n",
       "  </tbody>\n",
       "</table>\n",
       "</div>"
      ],
      "text/plain": [
       "     case_id     bin brand category  usd_amount online_verdict  result  \\\n",
       "0  666383743  474525    VI  CLASSIC        1.98         ACCEPT  REJECT   \n",
       "1  795800153  544891    MC     GOLD       71.05         ACCEPT  REJECT   \n",
       "2  859533495  516306    MC     GOLD        1.18         ACCEPT  REJECT   \n",
       "3  829075183  453211    VI     GOLD        6.66         ACCEPT  ACCEPT   \n",
       "4  574680315  512215    MC    BLACK        6.50         ACCEPT  ACCEPT   \n",
       "\n",
       "   flag_PU  flag_cbk  pred_score  score_group  \n",
       "0        0         0      225.93          250  \n",
       "1        0         0        0.23           25  \n",
       "2        0         0       81.45          100  \n",
       "3        0         0        0.09           25  \n",
       "4        0         0      801.54          825  "
      ]
     },
     "execution_count": 30,
     "metadata": {},
     "output_type": "execute_result"
    }
   ],
   "source": [
    "df.head()"
   ]
  },
  {
   "cell_type": "markdown",
   "id": "12988574",
   "metadata": {},
   "source": [
    "## Filter Positive Users"
   ]
  },
  {
   "cell_type": "code",
   "execution_count": 31,
   "id": "bf105bc3",
   "metadata": {},
   "outputs": [
    {
     "data": {
      "text/plain": [
       "flag_PU\n",
       "0    1411494\n",
       "dtype: int64"
      ]
     },
     "execution_count": 31,
     "metadata": {},
     "output_type": "execute_result"
    }
   ],
   "source": [
    "df=df[df['flag_PU']==0]\n",
    "df.value_counts('flag_PU')"
   ]
  },
  {
   "cell_type": "code",
   "execution_count": 32,
   "id": "7e71fba0",
   "metadata": {},
   "outputs": [],
   "source": [
    "df.drop(columns=['flag_PU'], inplace=True)"
   ]
  },
  {
   "cell_type": "code",
   "execution_count": 33,
   "id": "c8c7ed5e",
   "metadata": {},
   "outputs": [
    {
     "data": {
      "text/html": [
       "<div>\n",
       "<style scoped>\n",
       "    .dataframe tbody tr th:only-of-type {\n",
       "        vertical-align: middle;\n",
       "    }\n",
       "\n",
       "    .dataframe tbody tr th {\n",
       "        vertical-align: top;\n",
       "    }\n",
       "\n",
       "    .dataframe thead th {\n",
       "        text-align: right;\n",
       "    }\n",
       "</style>\n",
       "<table border=\"1\" class=\"dataframe\">\n",
       "  <thead>\n",
       "    <tr style=\"text-align: right;\">\n",
       "      <th></th>\n",
       "      <th>case_id</th>\n",
       "      <th>bin</th>\n",
       "      <th>brand</th>\n",
       "      <th>category</th>\n",
       "      <th>usd_amount</th>\n",
       "      <th>online_verdict</th>\n",
       "      <th>result</th>\n",
       "      <th>flag_cbk</th>\n",
       "      <th>pred_score</th>\n",
       "      <th>score_group</th>\n",
       "    </tr>\n",
       "  </thead>\n",
       "  <tbody>\n",
       "    <tr>\n",
       "      <th>1268551</th>\n",
       "      <td>792969551</td>\n",
       "      <td>531681</td>\n",
       "      <td>MC</td>\n",
       "      <td>PLATINUM</td>\n",
       "      <td>6.61</td>\n",
       "      <td>ACCEPT</td>\n",
       "      <td>ACCEPT</td>\n",
       "      <td>0</td>\n",
       "      <td>0.13</td>\n",
       "      <td>25</td>\n",
       "    </tr>\n",
       "    <tr>\n",
       "      <th>1135547</th>\n",
       "      <td>632856359</td>\n",
       "      <td>453211</td>\n",
       "      <td>VI</td>\n",
       "      <td>GOLD</td>\n",
       "      <td>6.54</td>\n",
       "      <td>ACCEPT</td>\n",
       "      <td>ACCEPT</td>\n",
       "      <td>0</td>\n",
       "      <td>810.58</td>\n",
       "      <td>825</td>\n",
       "    </tr>\n",
       "    <tr>\n",
       "      <th>658812</th>\n",
       "      <td>695223574</td>\n",
       "      <td>464301</td>\n",
       "      <td>VI</td>\n",
       "      <td>CLASSIC</td>\n",
       "      <td>63.52</td>\n",
       "      <td>ACCEPT</td>\n",
       "      <td>REJECT</td>\n",
       "      <td>0</td>\n",
       "      <td>954.15</td>\n",
       "      <td>975</td>\n",
       "    </tr>\n",
       "    <tr>\n",
       "      <th>1691409</th>\n",
       "      <td>653029470</td>\n",
       "      <td>544731</td>\n",
       "      <td>MC</td>\n",
       "      <td>GOLD</td>\n",
       "      <td>6.65</td>\n",
       "      <td>ACCEPT</td>\n",
       "      <td>ACCEPT</td>\n",
       "      <td>0</td>\n",
       "      <td>726.36</td>\n",
       "      <td>750</td>\n",
       "    </tr>\n",
       "    <tr>\n",
       "      <th>371434</th>\n",
       "      <td>711825667</td>\n",
       "      <td>512707</td>\n",
       "      <td>MC</td>\n",
       "      <td>STANDARD</td>\n",
       "      <td>0.98</td>\n",
       "      <td>ACCEPT</td>\n",
       "      <td>REJECT</td>\n",
       "      <td>0</td>\n",
       "      <td>144.78</td>\n",
       "      <td>150</td>\n",
       "    </tr>\n",
       "  </tbody>\n",
       "</table>\n",
       "</div>"
      ],
      "text/plain": [
       "           case_id     bin brand  category  usd_amount online_verdict  result  \\\n",
       "1268551  792969551  531681    MC  PLATINUM        6.61         ACCEPT  ACCEPT   \n",
       "1135547  632856359  453211    VI      GOLD        6.54         ACCEPT  ACCEPT   \n",
       "658812   695223574  464301    VI   CLASSIC       63.52         ACCEPT  REJECT   \n",
       "1691409  653029470  544731    MC      GOLD        6.65         ACCEPT  ACCEPT   \n",
       "371434   711825667  512707    MC  STANDARD        0.98         ACCEPT  REJECT   \n",
       "\n",
       "         flag_cbk  pred_score  score_group  \n",
       "1268551         0        0.13           25  \n",
       "1135547         0      810.58          825  \n",
       "658812          0      954.15          975  \n",
       "1691409         0      726.36          750  \n",
       "371434          0      144.78          150  "
      ]
     },
     "execution_count": 33,
     "metadata": {},
     "output_type": "execute_result"
    }
   ],
   "source": [
    "df.sample(5)"
   ]
  },
  {
   "cell_type": "markdown",
   "id": "94460fc4",
   "metadata": {},
   "source": [
    "## Filter dlocal REJECT"
   ]
  },
  {
   "cell_type": "code",
   "execution_count": 34,
   "id": "b8d653ed",
   "metadata": {},
   "outputs": [
    {
     "data": {
      "text/plain": [
       "online_verdict\n",
       "ACCEPT    1373320\n",
       "dtype: int64"
      ]
     },
     "execution_count": 34,
     "metadata": {},
     "output_type": "execute_result"
    }
   ],
   "source": [
    "df_1=df[df['online_verdict']=='ACCEPT']\n",
    "df_1.value_counts('online_verdict')"
   ]
  },
  {
   "cell_type": "code",
   "execution_count": 35,
   "id": "a37d53a0",
   "metadata": {},
   "outputs": [],
   "source": [
    "df.drop(columns=['online_verdict'], inplace=True)"
   ]
  },
  {
   "cell_type": "code",
   "execution_count": 36,
   "id": "88ca61cf",
   "metadata": {},
   "outputs": [
    {
     "data": {
      "text/plain": [
       "Index(['case_id', 'bin', 'brand', 'category', 'usd_amount', 'result',\n",
       "       'flag_cbk', 'pred_score', 'score_group'],\n",
       "      dtype='object')"
      ]
     },
     "execution_count": 36,
     "metadata": {},
     "output_type": "execute_result"
    }
   ],
   "source": [
    "df.columns"
   ]
  },
  {
   "cell_type": "markdown",
   "id": "df119313",
   "metadata": {},
   "source": [
    "## Pivote Table Result"
   ]
  },
  {
   "cell_type": "code",
   "execution_count": 37,
   "id": "39b67778",
   "metadata": {},
   "outputs": [],
   "source": [
    "df_1=df[['score_group','result','usd_amount']]"
   ]
  },
  {
   "cell_type": "code",
   "execution_count": 38,
   "id": "e47339cc",
   "metadata": {},
   "outputs": [
    {
     "data": {
      "text/html": [
       "<div>\n",
       "<style scoped>\n",
       "    .dataframe tbody tr th:only-of-type {\n",
       "        vertical-align: middle;\n",
       "    }\n",
       "\n",
       "    .dataframe tbody tr th {\n",
       "        vertical-align: top;\n",
       "    }\n",
       "\n",
       "    .dataframe thead th {\n",
       "        text-align: right;\n",
       "    }\n",
       "</style>\n",
       "<table border=\"1\" class=\"dataframe\">\n",
       "  <thead>\n",
       "    <tr style=\"text-align: right;\">\n",
       "      <th></th>\n",
       "      <th>score_group</th>\n",
       "      <th>result</th>\n",
       "      <th>usd_amount</th>\n",
       "    </tr>\n",
       "  </thead>\n",
       "  <tbody>\n",
       "    <tr>\n",
       "      <th>0</th>\n",
       "      <td>250</td>\n",
       "      <td>REJECT</td>\n",
       "      <td>1.98</td>\n",
       "    </tr>\n",
       "    <tr>\n",
       "      <th>1</th>\n",
       "      <td>25</td>\n",
       "      <td>REJECT</td>\n",
       "      <td>71.05</td>\n",
       "    </tr>\n",
       "  </tbody>\n",
       "</table>\n",
       "</div>"
      ],
      "text/plain": [
       "   score_group  result  usd_amount\n",
       "0          250  REJECT        1.98\n",
       "1           25  REJECT       71.05"
      ]
     },
     "execution_count": 38,
     "metadata": {},
     "output_type": "execute_result"
    }
   ],
   "source": [
    "df_1.head(4)"
   ]
  },
  {
   "cell_type": "code",
   "execution_count": 39,
   "id": "fd5fa2ae",
   "metadata": {},
   "outputs": [],
   "source": [
    "table = pd.pivot_table(df_1, values='usd_amount', index=['score_group'],\n",
    "                    columns=['result'], aggfunc=np.sum, fill_value=0)"
   ]
  },
  {
   "cell_type": "code",
   "execution_count": 40,
   "id": "944e5632",
   "metadata": {},
   "outputs": [
    {
     "data": {
      "text/html": [
       "<div>\n",
       "<style scoped>\n",
       "    .dataframe tbody tr th:only-of-type {\n",
       "        vertical-align: middle;\n",
       "    }\n",
       "\n",
       "    .dataframe tbody tr th {\n",
       "        vertical-align: top;\n",
       "    }\n",
       "\n",
       "    .dataframe thead th {\n",
       "        text-align: right;\n",
       "    }\n",
       "</style>\n",
       "<table border=\"1\" class=\"dataframe\">\n",
       "  <thead>\n",
       "    <tr style=\"text-align: right;\">\n",
       "      <th>result</th>\n",
       "      <th>ACCEPT</th>\n",
       "      <th>AUTHORIZE</th>\n",
       "      <th>REJECT</th>\n",
       "    </tr>\n",
       "    <tr>\n",
       "      <th>score_group</th>\n",
       "      <th></th>\n",
       "      <th></th>\n",
       "      <th></th>\n",
       "    </tr>\n",
       "  </thead>\n",
       "  <tbody>\n",
       "    <tr>\n",
       "      <th>25</th>\n",
       "      <td>3,134,057.50</td>\n",
       "      <td>9,780.90</td>\n",
       "      <td>2,899,557.25</td>\n",
       "    </tr>\n",
       "    <tr>\n",
       "      <th>50</th>\n",
       "      <td>610.81</td>\n",
       "      <td>4.62</td>\n",
       "      <td>2,886.21</td>\n",
       "    </tr>\n",
       "    <tr>\n",
       "      <th>75</th>\n",
       "      <td>1,016.55</td>\n",
       "      <td>15.45</td>\n",
       "      <td>6,134.04</td>\n",
       "    </tr>\n",
       "    <tr>\n",
       "      <th>100</th>\n",
       "      <td>1,973.96</td>\n",
       "      <td>47.06</td>\n",
       "      <td>12,316.74</td>\n",
       "    </tr>\n",
       "    <tr>\n",
       "      <th>125</th>\n",
       "      <td>3,370.11</td>\n",
       "      <td>59.98</td>\n",
       "      <td>17,372.90</td>\n",
       "    </tr>\n",
       "  </tbody>\n",
       "</table>\n",
       "</div>"
      ],
      "text/plain": [
       "result            ACCEPT  AUTHORIZE       REJECT\n",
       "score_group                                     \n",
       "25          3,134,057.50   9,780.90 2,899,557.25\n",
       "50                610.81       4.62     2,886.21\n",
       "75              1,016.55      15.45     6,134.04\n",
       "100             1,973.96      47.06    12,316.74\n",
       "125             3,370.11      59.98    17,372.90"
      ]
     },
     "execution_count": 40,
     "metadata": {},
     "output_type": "execute_result"
    }
   ],
   "source": [
    "table.head(4)"
   ]
  },
  {
   "cell_type": "markdown",
   "id": "77538115",
   "metadata": {},
   "source": [
    "## Graphic Score vs Fianl Result"
   ]
  },
  {
   "cell_type": "code",
   "execution_count": 41,
   "id": "87b13ecc",
   "metadata": {},
   "outputs": [
    {
     "data": {
      "text/plain": [
       "<AxesSubplot:title={'center':'Scores vs App Fianl'}, xlabel='score_group', ylabel='USD [MM]'>"
      ]
     },
     "execution_count": 41,
     "metadata": {},
     "output_type": "execute_result"
    },
    {
     "data": {
      "image/png": "[encoded data removed]",
      "text/plain": [
       "<Figure size 1440x720 with 1 Axes>"
      ]
     },
     "metadata": {
      "needs_background": "light"
     },
     "output_type": "display_data"
    }
   ],
   "source": [
    "table.plot(kind='bar',\n",
    "        title = 'Scores vs App Fianl',\n",
    "        ylabel = 'USD [MM]',\n",
    "        figsize = (20,10),\n",
    "        grid = True,\n",
    "        stacked = True)"
   ]
  },
  {
   "cell_type": "markdown",
   "id": "53eb2861",
   "metadata": {},
   "source": [
    "## Pivote Table Category"
   ]
  },
  {
   "cell_type": "code",
   "execution_count": 58,
   "id": "1a27b4db",
   "metadata": {},
   "outputs": [],
   "source": [
    "df_1=df[['category','result','usd_amount']]"
   ]
  },
  {
   "cell_type": "code",
   "execution_count": 59,
   "id": "bd3713f4",
   "metadata": {},
   "outputs": [
    {
     "data": {
      "text/html": [
       "<div>\n",
       "<style scoped>\n",
       "    .dataframe tbody tr th:only-of-type {\n",
       "        vertical-align: middle;\n",
       "    }\n",
       "\n",
       "    .dataframe tbody tr th {\n",
       "        vertical-align: top;\n",
       "    }\n",
       "\n",
       "    .dataframe thead th {\n",
       "        text-align: right;\n",
       "    }\n",
       "</style>\n",
       "<table border=\"1\" class=\"dataframe\">\n",
       "  <thead>\n",
       "    <tr style=\"text-align: right;\">\n",
       "      <th></th>\n",
       "      <th>category</th>\n",
       "      <th>result</th>\n",
       "      <th>usd_amount</th>\n",
       "    </tr>\n",
       "  </thead>\n",
       "  <tbody>\n",
       "    <tr>\n",
       "      <th>0</th>\n",
       "      <td>CLASSIC</td>\n",
       "      <td>REJECT</td>\n",
       "      <td>1.98</td>\n",
       "    </tr>\n",
       "    <tr>\n",
       "      <th>1</th>\n",
       "      <td>GOLD</td>\n",
       "      <td>REJECT</td>\n",
       "      <td>71.05</td>\n",
       "    </tr>\n",
       "    <tr>\n",
       "      <th>2</th>\n",
       "      <td>GOLD</td>\n",
       "      <td>REJECT</td>\n",
       "      <td>1.18</td>\n",
       "    </tr>\n",
       "    <tr>\n",
       "      <th>3</th>\n",
       "      <td>GOLD</td>\n",
       "      <td>ACCEPT</td>\n",
       "      <td>6.66</td>\n",
       "    </tr>\n",
       "  </tbody>\n",
       "</table>\n",
       "</div>"
      ],
      "text/plain": [
       "  category  result  usd_amount\n",
       "0  CLASSIC  REJECT        1.98\n",
       "1     GOLD  REJECT       71.05\n",
       "2     GOLD  REJECT        1.18\n",
       "3     GOLD  ACCEPT        6.66"
      ]
     },
     "execution_count": 59,
     "metadata": {},
     "output_type": "execute_result"
    }
   ],
   "source": [
    "df_1.head(4)"
   ]
  },
  {
   "cell_type": "code",
   "execution_count": 61,
   "id": "a67a66e3",
   "metadata": {},
   "outputs": [],
   "source": [
    "table = pd.pivot_table(df_1, values='usd_amount', index=['category'],\n",
    "                    columns=['result'], aggfunc=np.sum, fill_value=0)"
   ]
  },
  {
   "cell_type": "code",
   "execution_count": 62,
   "id": "968680f1",
   "metadata": {},
   "outputs": [
    {
     "data": {
      "text/html": [
       "<div>\n",
       "<style scoped>\n",
       "    .dataframe tbody tr th:only-of-type {\n",
       "        vertical-align: middle;\n",
       "    }\n",
       "\n",
       "    .dataframe tbody tr th {\n",
       "        vertical-align: top;\n",
       "    }\n",
       "\n",
       "    .dataframe thead th {\n",
       "        text-align: right;\n",
       "    }\n",
       "</style>\n",
       "<table border=\"1\" class=\"dataframe\">\n",
       "  <thead>\n",
       "    <tr style=\"text-align: right;\">\n",
       "      <th>result</th>\n",
       "      <th>ACCEPT</th>\n",
       "      <th>AUTHORIZE</th>\n",
       "      <th>REJECT</th>\n",
       "    </tr>\n",
       "    <tr>\n",
       "      <th>category</th>\n",
       "      <th></th>\n",
       "      <th></th>\n",
       "      <th></th>\n",
       "    </tr>\n",
       "  </thead>\n",
       "  <tbody>\n",
       "    <tr>\n",
       "      <th>ACQUIRER ONLY</th>\n",
       "      <td>0.00</td>\n",
       "      <td>0.00</td>\n",
       "      <td>50.94</td>\n",
       "    </tr>\n",
       "    <tr>\n",
       "      <th>ALIMENTACAO</th>\n",
       "      <td>0.00</td>\n",
       "      <td>0.00</td>\n",
       "      <td>1.15</td>\n",
       "    </tr>\n",
       "    <tr>\n",
       "      <th>B2B</th>\n",
       "      <td>0.00</td>\n",
       "      <td>0.00</td>\n",
       "      <td>6.78</td>\n",
       "    </tr>\n",
       "    <tr>\n",
       "      <th>BASIC</th>\n",
       "      <td>0.00</td>\n",
       "      <td>0.00</td>\n",
       "      <td>2.31</td>\n",
       "    </tr>\n",
       "  </tbody>\n",
       "</table>\n",
       "</div>"
      ],
      "text/plain": [
       "result         ACCEPT  AUTHORIZE  REJECT\n",
       "category                                \n",
       "ACQUIRER ONLY    0.00       0.00   50.94\n",
       "ALIMENTACAO      0.00       0.00    1.15\n",
       "B2B              0.00       0.00    6.78\n",
       "BASIC            0.00       0.00    2.31"
      ]
     },
     "execution_count": 62,
     "metadata": {},
     "output_type": "execute_result"
    }
   ],
   "source": [
    "table.head(4)"
   ]
  },
  {
   "cell_type": "markdown",
   "id": "9a0911b6",
   "metadata": {},
   "source": [
    "## Graphic Category vs Final Result"
   ]
  },
  {
   "cell_type": "code",
   "execution_count": 64,
   "id": "e4b9bdf3",
   "metadata": {},
   "outputs": [
    {
     "data": {
      "text/plain": [
       "<AxesSubplot:title={'center':'App Final vs Category'}, xlabel='category', ylabel='USD [MM]'>"
      ]
     },
     "execution_count": 64,
     "metadata": {},
     "output_type": "execute_result"
    },
    {
     "data": {
      "image/png": "[encoded data removed]",
      "text/plain": [
       "<Figure size 1440x720 with 1 Axes>"
      ]
     },
     "metadata": {
      "needs_background": "light"
     },
     "output_type": "display_data"
    }
   ],
   "source": [
    "table.plot(kind='bar',\n",
    "        title = 'App Final vs Category',\n",
    "        ylabel = 'USD [MM]',\n",
    "        figsize = (20,10),\n",
    "        grid = True,\n",
    "        stacked = True)"
   ]
  },
  {
   "cell_type": "markdown",
   "id": "913be646",
   "metadata": {},
   "source": [
    "## Pivote Table BIN"
   ]
  },
  {
   "cell_type": "code",
   "execution_count": 65,
   "id": "cd621c36",
   "metadata": {},
   "outputs": [],
   "source": [
    "df_1=df[['bin','result','usd_amount']]"
   ]
  },
  {
   "cell_type": "code",
   "execution_count": 66,
   "id": "84ff4344",
   "metadata": {},
   "outputs": [
    {
     "data": {
      "text/html": [
       "<div>\n",
       "<style scoped>\n",
       "    .dataframe tbody tr th:only-of-type {\n",
       "        vertical-align: middle;\n",
       "    }\n",
       "\n",
       "    .dataframe tbody tr th {\n",
       "        vertical-align: top;\n",
       "    }\n",
       "\n",
       "    .dataframe thead th {\n",
       "        text-align: right;\n",
       "    }\n",
       "</style>\n",
       "<table border=\"1\" class=\"dataframe\">\n",
       "  <thead>\n",
       "    <tr style=\"text-align: right;\">\n",
       "      <th></th>\n",
       "      <th>bin</th>\n",
       "      <th>result</th>\n",
       "      <th>usd_amount</th>\n",
       "    </tr>\n",
       "  </thead>\n",
       "  <tbody>\n",
       "    <tr>\n",
       "      <th>0</th>\n",
       "      <td>474525</td>\n",
       "      <td>REJECT</td>\n",
       "      <td>1.98</td>\n",
       "    </tr>\n",
       "    <tr>\n",
       "      <th>1</th>\n",
       "      <td>544891</td>\n",
       "      <td>REJECT</td>\n",
       "      <td>71.05</td>\n",
       "    </tr>\n",
       "    <tr>\n",
       "      <th>2</th>\n",
       "      <td>516306</td>\n",
       "      <td>REJECT</td>\n",
       "      <td>1.18</td>\n",
       "    </tr>\n",
       "    <tr>\n",
       "      <th>3</th>\n",
       "      <td>453211</td>\n",
       "      <td>ACCEPT</td>\n",
       "      <td>6.66</td>\n",
       "    </tr>\n",
       "  </tbody>\n",
       "</table>\n",
       "</div>"
      ],
      "text/plain": [
       "      bin  result  usd_amount\n",
       "0  474525  REJECT        1.98\n",
       "1  544891  REJECT       71.05\n",
       "2  516306  REJECT        1.18\n",
       "3  453211  ACCEPT        6.66"
      ]
     },
     "execution_count": 66,
     "metadata": {},
     "output_type": "execute_result"
    }
   ],
   "source": [
    "df_1.head(4)"
   ]
  },
  {
   "cell_type": "code",
   "execution_count": 67,
   "id": "ffb126a7",
   "metadata": {},
   "outputs": [],
   "source": [
    "table = pd.pivot_table(df_1, values='usd_amount', index=['bin'],\n",
    "                    columns=['result'], aggfunc=np.sum, fill_value=0)"
   ]
  },
  {
   "cell_type": "code",
   "execution_count": 68,
   "id": "3b678fea",
   "metadata": {},
   "outputs": [
    {
     "data": {
      "text/html": [
       "<div>\n",
       "<style scoped>\n",
       "    .dataframe tbody tr th:only-of-type {\n",
       "        vertical-align: middle;\n",
       "    }\n",
       "\n",
       "    .dataframe tbody tr th {\n",
       "        vertical-align: top;\n",
       "    }\n",
       "\n",
       "    .dataframe thead th {\n",
       "        text-align: right;\n",
       "    }\n",
       "</style>\n",
       "<table border=\"1\" class=\"dataframe\">\n",
       "  <thead>\n",
       "    <tr style=\"text-align: right;\">\n",
       "      <th>result</th>\n",
       "      <th>ACCEPT</th>\n",
       "      <th>AUTHORIZE</th>\n",
       "      <th>REJECT</th>\n",
       "    </tr>\n",
       "    <tr>\n",
       "      <th>bin</th>\n",
       "      <th></th>\n",
       "      <th></th>\n",
       "      <th></th>\n",
       "    </tr>\n",
       "  </thead>\n",
       "  <tbody>\n",
       "    <tr>\n",
       "      <th>222738</th>\n",
       "      <td>0.00</td>\n",
       "      <td>0.00</td>\n",
       "      <td>1.16</td>\n",
       "    </tr>\n",
       "    <tr>\n",
       "      <th>222746</th>\n",
       "      <td>0.00</td>\n",
       "      <td>0.00</td>\n",
       "      <td>0.99</td>\n",
       "    </tr>\n",
       "    <tr>\n",
       "      <th>222763</th>\n",
       "      <td>15,884.25</td>\n",
       "      <td>56.40</td>\n",
       "      <td>34,509.30</td>\n",
       "    </tr>\n",
       "    <tr>\n",
       "      <th>222768</th>\n",
       "      <td>0.00</td>\n",
       "      <td>0.00</td>\n",
       "      <td>2.28</td>\n",
       "    </tr>\n",
       "  </tbody>\n",
       "</table>\n",
       "</div>"
      ],
      "text/plain": [
       "result    ACCEPT  AUTHORIZE    REJECT\n",
       "bin                                  \n",
       "222738      0.00       0.00      1.16\n",
       "222746      0.00       0.00      0.99\n",
       "222763 15,884.25      56.40 34,509.30\n",
       "222768      0.00       0.00      2.28"
      ]
     },
     "execution_count": 68,
     "metadata": {},
     "output_type": "execute_result"
    }
   ],
   "source": [
    "table.head(4)"
   ]
  },
  {
   "cell_type": "code",
   "execution_count": null,
   "id": "cbff8f23",
   "metadata": {},
   "outputs": [],
   "source": []
  },
  {
   "cell_type": "code",
   "execution_count": null,
   "id": "e7e37718",
   "metadata": {},
   "outputs": [],
   "source": []
  },
  {
   "cell_type": "code",
   "execution_count": null,
   "id": "d2ab81db",
   "metadata": {},
   "outputs": [],
   "source": []
  },
  {
   "cell_type": "code",
   "execution_count": null,
   "id": "797efd7a",
   "metadata": {},
   "outputs": [],
   "source": []
  },
  {
   "cell_type": "code",
   "execution_count": null,
   "id": "4ed2db26",
   "metadata": {},
   "outputs": [],
   "source": []
  }
 ],
 "metadata": {
  "kernelspec": {
   "display_name": "conda_python3",
   "language": "python",
   "name": "conda_python3"
  },
  "language_info": {
   "codemirror_mode": {
    "name": "ipython",
    "version": 3
   },
   "file_extension": ".py",
   "mimetype": "text/x-python",
   "name": "python",
   "nbconvert_exporter": "python",
   "pygments_lexer": "ipython3",
   "version": "3.6.13"
  }
 },
 "nbformat": 4,
 "nbformat_minor": 5
}
