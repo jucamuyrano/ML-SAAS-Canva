{
 "cells": [
  {
   "cell_type": "markdown",
   "id": "00f99d4c",
   "metadata": {},
   "source": [
    "## Import Libraries"
   ]
  },
  {
   "cell_type": "code",
   "execution_count": 1,
   "id": "33391f95",
   "metadata": {},
   "outputs": [
    {
     "name": "stdout",
     "output_type": "stream",
     "text": [
      "Requirement already satisfied: awswrangler in /home/ec2-user/anaconda3/envs/python3/lib/python3.6/site-packages (2.13.0)\n",
      "Requirement already satisfied: requests-aws4auth<2.0.0,>=1.1.1 in /home/ec2-user/anaconda3/envs/python3/lib/python3.6/site-packages (from awswrangler) (1.1.1)\n",
      "Requirement already satisfied: redshift-connector<2.1.0,>=2.0.889 in /home/ec2-user/anaconda3/envs/python3/lib/python3.6/site-packages (from awswrangler) (2.0.902)\n",
      "Requirement already satisfied: jsonpath-ng<2.0.0,>=1.5.3 in /home/ec2-user/anaconda3/envs/python3/lib/python3.6/site-packages (from awswrangler) (1.5.3)\n",
      "Requirement already satisfied: pg8000<1.23.0,>=1.16.0 in /home/ec2-user/anaconda3/envs/python3/lib/python3.6/site-packages (from awswrangler) (1.22.1)\n",
      "Requirement already satisfied: pandas<1.2.0,>=1.1.0 in /home/ec2-user/anaconda3/envs/python3/lib/python3.6/site-packages (from awswrangler) (1.1.5)\n",
      "Requirement already satisfied: numpy<2.0.0,>=1.18.0 in /home/ec2-user/anaconda3/envs/python3/lib/python3.6/site-packages (from awswrangler) (1.19.5)\n",
      "Requirement already satisfied: progressbar2<4.0.0,>=3.53.3 in /home/ec2-user/anaconda3/envs/python3/lib/python3.6/site-packages (from awswrangler) (3.55.0)\n",
      "Requirement already satisfied: pyarrow<6.1.0,>=2.0.0 in /home/ec2-user/anaconda3/envs/python3/lib/python3.6/site-packages (from awswrangler) (6.0.1)\n",
      "Requirement already satisfied: botocore<2.0.0,>=1.23.17 in /home/ec2-user/anaconda3/envs/python3/lib/python3.6/site-packages (from awswrangler) (1.23.25)\n",
      "Requirement already satisfied: opensearch-py<2.0.0,>=1.0.0 in /home/ec2-user/anaconda3/envs/python3/lib/python3.6/site-packages (from awswrangler) (1.0.0)\n",
      "Requirement already satisfied: pymysql<1.1.0,>=0.9.0 in /home/ec2-user/anaconda3/envs/python3/lib/python3.6/site-packages (from awswrangler) (1.0.2)\n",
      "Requirement already satisfied: xlwt<2.0.0,>=1.3.0 in /home/ec2-user/anaconda3/envs/python3/lib/python3.6/site-packages (from awswrangler) (1.3.0)\n",
      "Requirement already satisfied: xlrd<3.0.0,>=2.0.1 in /home/ec2-user/anaconda3/envs/python3/lib/python3.6/site-packages (from awswrangler) (2.0.1)\n",
      "Requirement already satisfied: boto3<2.0.0,>=1.20.17 in /home/ec2-user/anaconda3/envs/python3/lib/python3.6/site-packages (from awswrangler) (1.20.25)\n",
      "Requirement already satisfied: openpyxl<3.1.0,>=3.0.0 in /home/ec2-user/anaconda3/envs/python3/lib/python3.6/site-packages (from awswrangler) (3.0.6)\n",
      "Requirement already satisfied: s3transfer<0.6.0,>=0.5.0 in /home/ec2-user/anaconda3/envs/python3/lib/python3.6/site-packages (from boto3<2.0.0,>=1.20.17->awswrangler) (0.5.0)\n",
      "Requirement already satisfied: jmespath<1.0.0,>=0.7.1 in /home/ec2-user/anaconda3/envs/python3/lib/python3.6/site-packages (from boto3<2.0.0,>=1.20.17->awswrangler) (0.10.0)\n",
      "Requirement already satisfied: python-dateutil<3.0.0,>=2.1 in /home/ec2-user/anaconda3/envs/python3/lib/python3.6/site-packages (from botocore<2.0.0,>=1.23.17->awswrangler) (2.8.1)\n",
      "Requirement already satisfied: urllib3<1.27,>=1.25.4 in /home/ec2-user/anaconda3/envs/python3/lib/python3.6/site-packages (from botocore<2.0.0,>=1.23.17->awswrangler) (1.26.7)\n",
      "Requirement already satisfied: decorator in /home/ec2-user/anaconda3/envs/python3/lib/python3.6/site-packages (from jsonpath-ng<2.0.0,>=1.5.3->awswrangler) (4.4.2)\n",
      "Requirement already satisfied: ply in /home/ec2-user/anaconda3/envs/python3/lib/python3.6/site-packages (from jsonpath-ng<2.0.0,>=1.5.3->awswrangler) (3.11)\n",
      "Requirement already satisfied: six in /home/ec2-user/anaconda3/envs/python3/lib/python3.6/site-packages (from jsonpath-ng<2.0.0,>=1.5.3->awswrangler) (1.15.0)\n",
      "Requirement already satisfied: et-xmlfile in /home/ec2-user/anaconda3/envs/python3/lib/python3.6/site-packages (from openpyxl<3.1.0,>=3.0.0->awswrangler) (1.0.1)\n",
      "Requirement already satisfied: jdcal in /home/ec2-user/anaconda3/envs/python3/lib/python3.6/site-packages (from openpyxl<3.1.0,>=3.0.0->awswrangler) (1.4.1)\n",
      "Requirement already satisfied: certifi in /home/ec2-user/anaconda3/envs/python3/lib/python3.6/site-packages (from opensearch-py<2.0.0,>=1.0.0->awswrangler) (2021.5.30)\n",
      "Requirement already satisfied: pytz>=2017.2 in /home/ec2-user/anaconda3/envs/python3/lib/python3.6/site-packages (from pandas<1.2.0,>=1.1.0->awswrangler) (2021.1)\n",
      "Requirement already satisfied: scramp>=1.4.1 in /home/ec2-user/anaconda3/envs/python3/lib/python3.6/site-packages (from pg8000<1.23.0,>=1.16.0->awswrangler) (1.4.1)\n",
      "Requirement already satisfied: python-utils>=2.3.0 in /home/ec2-user/anaconda3/envs/python3/lib/python3.6/site-packages (from progressbar2<4.0.0,>=3.53.3->awswrangler) (3.0.0)\n",
      "Requirement already satisfied: beautifulsoup4<5.0.0,>=4.7.0 in /home/ec2-user/anaconda3/envs/python3/lib/python3.6/site-packages (from redshift-connector<2.1.0,>=2.0.889->awswrangler) (4.9.3)\n",
      "Requirement already satisfied: lxml>=4.6.5 in /home/ec2-user/anaconda3/envs/python3/lib/python3.6/site-packages (from redshift-connector<2.1.0,>=2.0.889->awswrangler) (4.7.1)\n",
      "Requirement already satisfied: requests<2.26.1,>=2.23.0 in /home/ec2-user/anaconda3/envs/python3/lib/python3.6/site-packages (from redshift-connector<2.1.0,>=2.0.889->awswrangler) (2.26.0)\n",
      "Requirement already satisfied: packaging in /home/ec2-user/anaconda3/envs/python3/lib/python3.6/site-packages (from redshift-connector<2.1.0,>=2.0.889->awswrangler) (21.3)\n",
      "Requirement already satisfied: soupsieve>1.2 in /home/ec2-user/anaconda3/envs/python3/lib/python3.6/site-packages (from beautifulsoup4<5.0.0,>=4.7.0->redshift-connector<2.1.0,>=2.0.889->awswrangler) (2.0.1)\n",
      "Requirement already satisfied: idna<4,>=2.5 in /home/ec2-user/anaconda3/envs/python3/lib/python3.6/site-packages (from requests<2.26.1,>=2.23.0->redshift-connector<2.1.0,>=2.0.889->awswrangler) (3.1)\n",
      "Requirement already satisfied: charset-normalizer~=2.0.0 in /home/ec2-user/anaconda3/envs/python3/lib/python3.6/site-packages (from requests<2.26.1,>=2.23.0->redshift-connector<2.1.0,>=2.0.889->awswrangler) (2.0.9)\n",
      "Requirement already satisfied: asn1crypto>=1.4.0 in /home/ec2-user/anaconda3/envs/python3/lib/python3.6/site-packages (from scramp>=1.4.1->pg8000<1.23.0,>=1.16.0->awswrangler) (1.4.0)\n",
      "Requirement already satisfied: pyparsing!=3.0.5,>=2.0.2 in /home/ec2-user/anaconda3/envs/python3/lib/python3.6/site-packages (from packaging->redshift-connector<2.1.0,>=2.0.889->awswrangler) (2.4.7)\n"
     ]
    }
   ],
   "source": [
    "!pip install awswrangler"
   ]
  },
  {
   "cell_type": "code",
   "execution_count": 2,
   "id": "40922a26",
   "metadata": {},
   "outputs": [],
   "source": [
    "import awswrangler as wr\n",
    "import boto3\n",
    "\n",
    "mybucket = 'dlocal-eu1-office-live-sagemaker-aons'"
   ]
  },
  {
   "cell_type": "code",
   "execution_count": 3,
   "id": "7cc632f3",
   "metadata": {},
   "outputs": [],
   "source": [
    "import pandas as pd\n",
    "import numpy as np\n",
    "import matplotlib.pyplot as plt\n",
    "import seaborn as sns\n",
    "import warnings\n",
    "import decimal\n",
    "import math\n",
    "\n",
    "pd.set_option('display.max_columns', None)\n",
    "pd.set_option('display.max_rows', None)\n",
    "warnings.filterwarnings('ignore')\n",
    "pd.set_option('precision', 2)\n",
    "pd.set_option('display.float_format', lambda x: f'{x:,.2f}')"
   ]
  },
  {
   "cell_type": "markdown",
   "id": "c9635044",
   "metadata": {},
   "source": [
    "## Upload Data Base"
   ]
  },
  {
   "cell_type": "code",
   "execution_count": 4,
   "id": "4510d80c",
   "metadata": {},
   "outputs": [],
   "source": [
    "query = '''\n",
    "\n",
    "select\n",
    "    ml.case_id,\n",
    "    ca.bin,\n",
    "    ca.brand,\n",
    "    ca.category,\n",
    "    rc.usd_amount,\n",
    "    rc.online_verdict,\n",
    "    cc.result,\n",
    "    case\n",
    "        when rc.online_verdict_reason like '%Positive%'then 1\n",
    "        else 0\n",
    "    end as flag_PU,\n",
    "    case\n",
    "        when id_chargeback is not null then 1\n",
    "        else 0\n",
    "    end as flag_cbk,\n",
    "    ml.pred_score\n",
    "\n",
    "from risk.risk_risk_case rc\n",
    "\n",
    "join \"dlocal-eu1-office-live-machine-learning\".\"saas_test_dataset_new_merchants_20211004\" ml\n",
    "    on ml.case_id = rc.case_id\n",
    "    \n",
    "left join risk.risk_card ca\n",
    "    on ca.card_id = rc.card_id\n",
    "\n",
    "left join risk.risk_risk_case_collect cc\n",
    "    on cc.case_id = rc.case_id\n",
    "\n",
    "left join default.merchant_data_pf md\n",
    "    on rc.merchant_reference = md.merchant_reference\n",
    "    and rc.country_code = md.country_code\n",
    "\n",
    "left join dl_db_master.unipay_chargebacks cbk \n",
    "    on rc.ticket_id = cbk.id_boleto\n",
    "    and cc.result='ACCEPT'\n",
    "\n",
    "where rc.merchant_reference = '30630'\n",
    "    and rc.operation_type in('WITH_CVV', 'WITHOUT_CVV', 'TOKEN')\n",
    "    and rc.created_date between date '2021-04-17' and date '2021-09-15'\n",
    "\n",
    "'''"
   ]
  },
  {
   "cell_type": "code",
   "execution_count": 5,
   "id": "052932a3",
   "metadata": {},
   "outputs": [
    {
     "name": "stdout",
     "output_type": "stream",
     "text": [
      "CPU times: user 9.81 s, sys: 647 ms, total: 10.5 s\n",
      "Wall time: 39.3 s\n"
     ]
    }
   ],
   "source": [
    "%%time\n",
    "\n",
    "df_original = wr.athena.read_sql_query(\n",
    "    sql=query,\n",
    "    database = 'risk',\n",
    "    ctas_approach=False,\n",
    "    encryption = 'SSE_KMS',\n",
    "    kms_key = 'arn:aws:kms:eu-west-1:671054319719:key/38274908-aebb-4807-8d53-bb6d7a475090',\n",
    "    workgroup = 'dlocal-eu1-office-live-sagemaker-workgroup',\n",
    "    s3_output = 's3://dlocal-eu1-office-live-sagemaker-aons/dev'\n",
    ")"
   ]
  },
  {
   "cell_type": "code",
   "execution_count": 6,
   "id": "8b9be3aa",
   "metadata": {},
   "outputs": [
    {
     "name": "stdout",
     "output_type": "stream",
     "text": [
      "shape ---> (1818506, 10)\n",
      "\n",
      "<class 'pandas.core.frame.DataFrame'>\n",
      "RangeIndex: 1818506 entries, 0 to 1818505\n",
      "Data columns (total 10 columns):\n",
      " #   Column          Dtype  \n",
      "---  ------          -----  \n",
      " 0   case_id         object \n",
      " 1   bin             string \n",
      " 2   brand           string \n",
      " 3   category        string \n",
      " 4   usd_amount      object \n",
      " 5   online_verdict  string \n",
      " 6   result          string \n",
      " 7   flag_PU         Int32  \n",
      " 8   flag_cbk        Int32  \n",
      " 9   pred_score      float32\n",
      "dtypes: Int32(2), float32(1), object(2), string(5)\n",
      "memory usage: 121.4+ MB\n",
      "None\n"
     ]
    }
   ],
   "source": [
    "df_original['case_id'] = df_original.case_id.astype(str)\n",
    "\n",
    "print('shape --->', df_original.shape)\n",
    "print('')\n",
    "print(df_original.info())"
   ]
  },
  {
   "cell_type": "code",
   "execution_count": 7,
   "id": "45067847",
   "metadata": {},
   "outputs": [
    {
     "data": {
      "text/html": [
       "<div>\n",
       "<style scoped>\n",
       "    .dataframe tbody tr th:only-of-type {\n",
       "        vertical-align: middle;\n",
       "    }\n",
       "\n",
       "    .dataframe tbody tr th {\n",
       "        vertical-align: top;\n",
       "    }\n",
       "\n",
       "    .dataframe thead th {\n",
       "        text-align: right;\n",
       "    }\n",
       "</style>\n",
       "<table border=\"1\" class=\"dataframe\">\n",
       "  <thead>\n",
       "    <tr style=\"text-align: right;\">\n",
       "      <th></th>\n",
       "      <th>case_id</th>\n",
       "      <th>bin</th>\n",
       "      <th>brand</th>\n",
       "      <th>category</th>\n",
       "      <th>usd_amount</th>\n",
       "      <th>online_verdict</th>\n",
       "      <th>result</th>\n",
       "      <th>flag_PU</th>\n",
       "      <th>flag_cbk</th>\n",
       "      <th>pred_score</th>\n",
       "    </tr>\n",
       "  </thead>\n",
       "  <tbody>\n",
       "    <tr>\n",
       "      <th>962339</th>\n",
       "      <td>910314004</td>\n",
       "      <td>511781</td>\n",
       "      <td>MC</td>\n",
       "      <td>GOLD</td>\n",
       "      <td>6.64</td>\n",
       "      <td>ACCEPT</td>\n",
       "      <td>ACCEPT</td>\n",
       "      <td>1</td>\n",
       "      <td>0</td>\n",
       "      <td>0.14</td>\n",
       "    </tr>\n",
       "    <tr>\n",
       "      <th>1106206</th>\n",
       "      <td>770206038</td>\n",
       "      <td>512215</td>\n",
       "      <td>MC</td>\n",
       "      <td>BLACK</td>\n",
       "      <td>6.84</td>\n",
       "      <td>ACCEPT</td>\n",
       "      <td>ACCEPT</td>\n",
       "      <td>0</td>\n",
       "      <td>0</td>\n",
       "      <td>0.11</td>\n",
       "    </tr>\n",
       "    <tr>\n",
       "      <th>123773</th>\n",
       "      <td>877571287</td>\n",
       "      <td>550209</td>\n",
       "      <td>MC</td>\n",
       "      <td>GOLD</td>\n",
       "      <td>6.67</td>\n",
       "      <td>REJECT</td>\n",
       "      <td>REJECT</td>\n",
       "      <td>0</td>\n",
       "      <td>0</td>\n",
       "      <td>622.46</td>\n",
       "    </tr>\n",
       "    <tr>\n",
       "      <th>669293</th>\n",
       "      <td>910424544</td>\n",
       "      <td>545377</td>\n",
       "      <td>MC</td>\n",
       "      <td>&lt;NA&gt;</td>\n",
       "      <td>121.46</td>\n",
       "      <td>ACCEPT</td>\n",
       "      <td>REJECT</td>\n",
       "      <td>0</td>\n",
       "      <td>0</td>\n",
       "      <td>738.31</td>\n",
       "    </tr>\n",
       "    <tr>\n",
       "      <th>457016</th>\n",
       "      <td>653374007</td>\n",
       "      <td>553636</td>\n",
       "      <td>MC</td>\n",
       "      <td>BLACK</td>\n",
       "      <td>55.30</td>\n",
       "      <td>ACCEPT</td>\n",
       "      <td>ACCEPT</td>\n",
       "      <td>0</td>\n",
       "      <td>0</td>\n",
       "      <td>750.04</td>\n",
       "    </tr>\n",
       "    <tr>\n",
       "      <th>430592</th>\n",
       "      <td>679116127</td>\n",
       "      <td>550209</td>\n",
       "      <td>MC</td>\n",
       "      <td>GOLD</td>\n",
       "      <td>6.91</td>\n",
       "      <td>ACCEPT</td>\n",
       "      <td>ACCEPT</td>\n",
       "      <td>0</td>\n",
       "      <td>0</td>\n",
       "      <td>0.03</td>\n",
       "    </tr>\n",
       "    <tr>\n",
       "      <th>1689921</th>\n",
       "      <td>657038872</td>\n",
       "      <td>435087</td>\n",
       "      <td>VI</td>\n",
       "      <td>CORPORATE T&amp;E</td>\n",
       "      <td>123.72</td>\n",
       "      <td>ACCEPT</td>\n",
       "      <td>REJECT</td>\n",
       "      <td>0</td>\n",
       "      <td>0</td>\n",
       "      <td>0.04</td>\n",
       "    </tr>\n",
       "    <tr>\n",
       "      <th>1758642</th>\n",
       "      <td>629883363</td>\n",
       "      <td>417401</td>\n",
       "      <td>VI</td>\n",
       "      <td>CLASSIC</td>\n",
       "      <td>6.48</td>\n",
       "      <td>ACCEPT</td>\n",
       "      <td>ACCEPT</td>\n",
       "      <td>0</td>\n",
       "      <td>0</td>\n",
       "      <td>773.49</td>\n",
       "    </tr>\n",
       "    <tr>\n",
       "      <th>998624</th>\n",
       "      <td>572730481</td>\n",
       "      <td>550209</td>\n",
       "      <td>MC</td>\n",
       "      <td>GOLD</td>\n",
       "      <td>6.50</td>\n",
       "      <td>ACCEPT</td>\n",
       "      <td>REJECT</td>\n",
       "      <td>0</td>\n",
       "      <td>0</td>\n",
       "      <td>508.08</td>\n",
       "    </tr>\n",
       "    <tr>\n",
       "      <th>710100</th>\n",
       "      <td>737243305</td>\n",
       "      <td>530599</td>\n",
       "      <td>MC</td>\n",
       "      <td>GOLD</td>\n",
       "      <td>7.05</td>\n",
       "      <td>ACCEPT</td>\n",
       "      <td>ACCEPT</td>\n",
       "      <td>0</td>\n",
       "      <td>0</td>\n",
       "      <td>793.69</td>\n",
       "    </tr>\n",
       "  </tbody>\n",
       "</table>\n",
       "</div>"
      ],
      "text/plain": [
       "           case_id     bin brand       category usd_amount online_verdict  \\\n",
       "962339   910314004  511781    MC           GOLD       6.64         ACCEPT   \n",
       "1106206  770206038  512215    MC          BLACK       6.84         ACCEPT   \n",
       "123773   877571287  550209    MC           GOLD       6.67         REJECT   \n",
       "669293   910424544  545377    MC           <NA>     121.46         ACCEPT   \n",
       "457016   653374007  553636    MC          BLACK      55.30         ACCEPT   \n",
       "430592   679116127  550209    MC           GOLD       6.91         ACCEPT   \n",
       "1689921  657038872  435087    VI  CORPORATE T&E     123.72         ACCEPT   \n",
       "1758642  629883363  417401    VI        CLASSIC       6.48         ACCEPT   \n",
       "998624   572730481  550209    MC           GOLD       6.50         ACCEPT   \n",
       "710100   737243305  530599    MC           GOLD       7.05         ACCEPT   \n",
       "\n",
       "         result  flag_PU  flag_cbk  pred_score  \n",
       "962339   ACCEPT        1         0        0.14  \n",
       "1106206  ACCEPT        0         0        0.11  \n",
       "123773   REJECT        0         0      622.46  \n",
       "669293   REJECT        0         0      738.31  \n",
       "457016   ACCEPT        0         0      750.04  \n",
       "430592   ACCEPT        0         0        0.03  \n",
       "1689921  REJECT        0         0        0.04  \n",
       "1758642  ACCEPT        0         0      773.49  \n",
       "998624   REJECT        0         0      508.08  \n",
       "710100   ACCEPT        0         0      793.69  "
      ]
     },
     "execution_count": 7,
     "metadata": {},
     "output_type": "execute_result"
    }
   ],
   "source": [
    "df_original.sample(10)"
   ]
  },
  {
   "cell_type": "code",
   "execution_count": 8,
   "id": "34d89f60",
   "metadata": {},
   "outputs": [
    {
     "data": {
      "text/plain": [
       "online_verdict\n",
       "ACCEPT    1780332\n",
       "REJECT      38143\n",
       "dtype: int64"
      ]
     },
     "execution_count": 8,
     "metadata": {},
     "output_type": "execute_result"
    }
   ],
   "source": [
    "df_original.value_counts('online_verdict')"
   ]
  },
  {
   "cell_type": "code",
   "execution_count": 9,
   "id": "7df6acf1",
   "metadata": {},
   "outputs": [
    {
     "data": {
      "text/plain": [
       "result\n",
       "REJECT       1025459\n",
       "ACCEPT        788766\n",
       "AUTHORIZE       4257\n",
       "dtype: int64"
      ]
     },
     "execution_count": 9,
     "metadata": {},
     "output_type": "execute_result"
    }
   ],
   "source": [
    "df_original.value_counts('result')"
   ]
  },
  {
   "cell_type": "code",
   "execution_count": 10,
   "id": "1bb1755c",
   "metadata": {},
   "outputs": [
    {
     "data": {
      "text/plain": [
       "flag_cbk\n",
       "0    1814192\n",
       "1       4314\n",
       "dtype: int64"
      ]
     },
     "execution_count": 10,
     "metadata": {},
     "output_type": "execute_result"
    }
   ],
   "source": [
    "df_original.value_counts('flag_cbk')"
   ]
  },
  {
   "cell_type": "code",
   "execution_count": 11,
   "id": "bd9b56a3",
   "metadata": {},
   "outputs": [
    {
     "data": {
      "text/plain": [
       "flag_PU\n",
       "0    1411494\n",
       "1     407012\n",
       "dtype: int64"
      ]
     },
     "execution_count": 11,
     "metadata": {},
     "output_type": "execute_result"
    }
   ],
   "source": [
    "df_original.value_counts('flag_PU')"
   ]
  },
  {
   "cell_type": "markdown",
   "id": "bea6fdac",
   "metadata": {},
   "source": [
    "## Cast usd_amount"
   ]
  },
  {
   "cell_type": "code",
   "execution_count": 12,
   "id": "4875ea81",
   "metadata": {},
   "outputs": [
    {
     "data": {
      "text/plain": [
       "case_id            object\n",
       "bin                string\n",
       "brand              string\n",
       "category           string\n",
       "usd_amount         object\n",
       "online_verdict     string\n",
       "result             string\n",
       "flag_PU             Int32\n",
       "flag_cbk            Int32\n",
       "pred_score        float32\n",
       "dtype: object"
      ]
     },
     "execution_count": 12,
     "metadata": {},
     "output_type": "execute_result"
    }
   ],
   "source": [
    "df_original.dtypes"
   ]
  },
  {
   "cell_type": "code",
   "execution_count": 13,
   "id": "10faf1d2",
   "metadata": {},
   "outputs": [],
   "source": [
    "df_original=df_original.astype({'usd_amount': 'float32'})"
   ]
  },
  {
   "cell_type": "code",
   "execution_count": 14,
   "id": "76a08656",
   "metadata": {},
   "outputs": [
    {
     "data": {
      "text/plain": [
       "case_id            object\n",
       "bin                string\n",
       "brand              string\n",
       "category           string\n",
       "usd_amount        float32\n",
       "online_verdict     string\n",
       "result             string\n",
       "flag_PU             Int32\n",
       "flag_cbk            Int32\n",
       "pred_score        float32\n",
       "dtype: object"
      ]
     },
     "execution_count": 14,
     "metadata": {},
     "output_type": "execute_result"
    }
   ],
   "source": [
    "df_original.dtypes"
   ]
  },
  {
   "cell_type": "markdown",
   "id": "3665ca8a",
   "metadata": {},
   "source": [
    "## Score Ranges"
   ]
  },
  {
   "cell_type": "code",
   "execution_count": 15,
   "id": "cbf278c1",
   "metadata": {},
   "outputs": [
    {
     "data": {
      "text/plain": [
       "Index(['case_id', 'bin', 'brand', 'category', 'usd_amount', 'online_verdict',\n",
       "       'result', 'flag_PU', 'flag_cbk', 'pred_score'],\n",
       "      dtype='object')"
      ]
     },
     "execution_count": 15,
     "metadata": {},
     "output_type": "execute_result"
    }
   ],
   "source": [
    "df_original.columns"
   ]
  },
  {
   "cell_type": "code",
   "execution_count": 16,
   "id": "e4c0955e",
   "metadata": {},
   "outputs": [],
   "source": [
    "df = df_original[['case_id', 'bin', 'brand', 'category', 'usd_amount', 'online_verdict',\n",
    "       'result', 'flag_PU', 'flag_cbk', 'pred_score']]"
   ]
  },
  {
   "cell_type": "code",
   "execution_count": 17,
   "id": "04494986",
   "metadata": {},
   "outputs": [],
   "source": [
    "def agrupar_score_inhouse():\n",
    "    \n",
    "    values_list_inhouse = [0, 25, 50, 75, 100, 125, 150, 175, 200, 225, 250, 275, 300, 325, 350, 375, 400, 425, 450, 475, \n",
    "                           500, 525, 550, 575, 600, 625, 650, 675, 700, 725, 750, 775, 800, 825, 850, 875, 900, 925, 950, 975, 1000]\n",
    "\n",
    "    conditions_inhouse = []\n",
    "\n",
    "    for i in values_list_inhouse:\n",
    "        if i == 0:\n",
    "            condicion = (df['pred_score'] == 0)\n",
    "            conditions_inhouse.append(condicion)\n",
    "        else:\n",
    "            condicion = (df['pred_score'] < i)\n",
    "            conditions_inhouse.append(condicion)\n",
    "            \n",
    "    df['score_group'] = np.select(conditions_inhouse, values_list_inhouse)\n",
    "    \n",
    "agrupar_score_inhouse()"
   ]
  },
  {
   "cell_type": "code",
   "execution_count": 18,
   "id": "e8f44186",
   "metadata": {},
   "outputs": [
    {
     "data": {
      "text/html": [
       "<div>\n",
       "<style scoped>\n",
       "    .dataframe tbody tr th:only-of-type {\n",
       "        vertical-align: middle;\n",
       "    }\n",
       "\n",
       "    .dataframe tbody tr th {\n",
       "        vertical-align: top;\n",
       "    }\n",
       "\n",
       "    .dataframe thead th {\n",
       "        text-align: right;\n",
       "    }\n",
       "</style>\n",
       "<table border=\"1\" class=\"dataframe\">\n",
       "  <thead>\n",
       "    <tr style=\"text-align: right;\">\n",
       "      <th></th>\n",
       "      <th>case_id</th>\n",
       "      <th>bin</th>\n",
       "      <th>brand</th>\n",
       "      <th>category</th>\n",
       "      <th>usd_amount</th>\n",
       "      <th>online_verdict</th>\n",
       "      <th>result</th>\n",
       "      <th>flag_PU</th>\n",
       "      <th>flag_cbk</th>\n",
       "      <th>pred_score</th>\n",
       "      <th>score_group</th>\n",
       "    </tr>\n",
       "  </thead>\n",
       "  <tbody>\n",
       "    <tr>\n",
       "      <th>0</th>\n",
       "      <td>846839967</td>\n",
       "      <td>553636</td>\n",
       "      <td>MC</td>\n",
       "      <td>BLACK</td>\n",
       "      <td>6.69</td>\n",
       "      <td>ACCEPT</td>\n",
       "      <td>REJECT</td>\n",
       "      <td>0</td>\n",
       "      <td>0</td>\n",
       "      <td>0.10</td>\n",
       "      <td>25</td>\n",
       "    </tr>\n",
       "    <tr>\n",
       "      <th>1</th>\n",
       "      <td>693420434</td>\n",
       "      <td>498453</td>\n",
       "      <td>VI</td>\n",
       "      <td>CLASSIC</td>\n",
       "      <td>6.79</td>\n",
       "      <td>ACCEPT</td>\n",
       "      <td>ACCEPT</td>\n",
       "      <td>0</td>\n",
       "      <td>0</td>\n",
       "      <td>872.41</td>\n",
       "      <td>875</td>\n",
       "    </tr>\n",
       "    <tr>\n",
       "      <th>2</th>\n",
       "      <td>942172069</td>\n",
       "      <td>550209</td>\n",
       "      <td>MC</td>\n",
       "      <td>GOLD</td>\n",
       "      <td>1.85</td>\n",
       "      <td>ACCEPT</td>\n",
       "      <td>REJECT</td>\n",
       "      <td>1</td>\n",
       "      <td>0</td>\n",
       "      <td>166.72</td>\n",
       "      <td>175</td>\n",
       "    </tr>\n",
       "    <tr>\n",
       "      <th>3</th>\n",
       "      <td>758894366</td>\n",
       "      <td>550209</td>\n",
       "      <td>MC</td>\n",
       "      <td>GOLD</td>\n",
       "      <td>72.94</td>\n",
       "      <td>ACCEPT</td>\n",
       "      <td>ACCEPT</td>\n",
       "      <td>0</td>\n",
       "      <td>0</td>\n",
       "      <td>0.15</td>\n",
       "      <td>25</td>\n",
       "    </tr>\n",
       "    <tr>\n",
       "      <th>4</th>\n",
       "      <td>570189362</td>\n",
       "      <td>550209</td>\n",
       "      <td>MC</td>\n",
       "      <td>GOLD</td>\n",
       "      <td>6.50</td>\n",
       "      <td>ACCEPT</td>\n",
       "      <td>REJECT</td>\n",
       "      <td>0</td>\n",
       "      <td>0</td>\n",
       "      <td>503.68</td>\n",
       "      <td>525</td>\n",
       "    </tr>\n",
       "  </tbody>\n",
       "</table>\n",
       "</div>"
      ],
      "text/plain": [
       "     case_id     bin brand category  usd_amount online_verdict  result  \\\n",
       "0  846839967  553636    MC    BLACK        6.69         ACCEPT  REJECT   \n",
       "1  693420434  498453    VI  CLASSIC        6.79         ACCEPT  ACCEPT   \n",
       "2  942172069  550209    MC     GOLD        1.85         ACCEPT  REJECT   \n",
       "3  758894366  550209    MC     GOLD       72.94         ACCEPT  ACCEPT   \n",
       "4  570189362  550209    MC     GOLD        6.50         ACCEPT  REJECT   \n",
       "\n",
       "   flag_PU  flag_cbk  pred_score  score_group  \n",
       "0        0         0        0.10           25  \n",
       "1        0         0      872.41          875  \n",
       "2        1         0      166.72          175  \n",
       "3        0         0        0.15           25  \n",
       "4        0         0      503.68          525  "
      ]
     },
     "execution_count": 18,
     "metadata": {},
     "output_type": "execute_result"
    }
   ],
   "source": [
    "df.head()"
   ]
  },
  {
   "cell_type": "markdown",
   "id": "09e42ab5",
   "metadata": {},
   "source": [
    "## Filter Positive Users"
   ]
  },
  {
   "cell_type": "code",
   "execution_count": 19,
   "id": "f67443bb",
   "metadata": {},
   "outputs": [
    {
     "data": {
      "text/plain": [
       "flag_PU\n",
       "0    1411494\n",
       "dtype: int64"
      ]
     },
     "execution_count": 19,
     "metadata": {},
     "output_type": "execute_result"
    }
   ],
   "source": [
    "df=df[df['flag_PU']==0]\n",
    "df.value_counts('flag_PU')"
   ]
  },
  {
   "cell_type": "code",
   "execution_count": 20,
   "id": "2241c69f",
   "metadata": {},
   "outputs": [],
   "source": [
    "df.drop(columns=['flag_PU'], inplace=True)"
   ]
  },
  {
   "cell_type": "code",
   "execution_count": 21,
   "id": "b0519b30",
   "metadata": {},
   "outputs": [
    {
     "data": {
      "text/html": [
       "<div>\n",
       "<style scoped>\n",
       "    .dataframe tbody tr th:only-of-type {\n",
       "        vertical-align: middle;\n",
       "    }\n",
       "\n",
       "    .dataframe tbody tr th {\n",
       "        vertical-align: top;\n",
       "    }\n",
       "\n",
       "    .dataframe thead th {\n",
       "        text-align: right;\n",
       "    }\n",
       "</style>\n",
       "<table border=\"1\" class=\"dataframe\">\n",
       "  <thead>\n",
       "    <tr style=\"text-align: right;\">\n",
       "      <th></th>\n",
       "      <th>case_id</th>\n",
       "      <th>bin</th>\n",
       "      <th>brand</th>\n",
       "      <th>category</th>\n",
       "      <th>usd_amount</th>\n",
       "      <th>online_verdict</th>\n",
       "      <th>result</th>\n",
       "      <th>flag_cbk</th>\n",
       "      <th>pred_score</th>\n",
       "      <th>score_group</th>\n",
       "    </tr>\n",
       "  </thead>\n",
       "  <tbody>\n",
       "    <tr>\n",
       "      <th>1761045</th>\n",
       "      <td>850532518</td>\n",
       "      <td>535081</td>\n",
       "      <td>MC</td>\n",
       "      <td>PLATINUM</td>\n",
       "      <td>13.43</td>\n",
       "      <td>ACCEPT</td>\n",
       "      <td>ACCEPT</td>\n",
       "      <td>0</td>\n",
       "      <td>0.15</td>\n",
       "      <td>25</td>\n",
       "    </tr>\n",
       "    <tr>\n",
       "      <th>622305</th>\n",
       "      <td>750188691</td>\n",
       "      <td>515590</td>\n",
       "      <td>MC</td>\n",
       "      <td>PLATINUM</td>\n",
       "      <td>1.00</td>\n",
       "      <td>ACCEPT</td>\n",
       "      <td>REJECT</td>\n",
       "      <td>0</td>\n",
       "      <td>184.59</td>\n",
       "      <td>200</td>\n",
       "    </tr>\n",
       "    <tr>\n",
       "      <th>1023911</th>\n",
       "      <td>1025871749</td>\n",
       "      <td>417401</td>\n",
       "      <td>VI</td>\n",
       "      <td>CLASSIC</td>\n",
       "      <td>6.63</td>\n",
       "      <td>ACCEPT</td>\n",
       "      <td>ACCEPT</td>\n",
       "      <td>0</td>\n",
       "      <td>0.15</td>\n",
       "      <td>25</td>\n",
       "    </tr>\n",
       "    <tr>\n",
       "      <th>1318637</th>\n",
       "      <td>930027759</td>\n",
       "      <td>417401</td>\n",
       "      <td>VI</td>\n",
       "      <td>CLASSIC</td>\n",
       "      <td>6.57</td>\n",
       "      <td>ACCEPT</td>\n",
       "      <td>ACCEPT</td>\n",
       "      <td>0</td>\n",
       "      <td>0.16</td>\n",
       "      <td>25</td>\n",
       "    </tr>\n",
       "    <tr>\n",
       "      <th>1063113</th>\n",
       "      <td>692249506</td>\n",
       "      <td>550209</td>\n",
       "      <td>MC</td>\n",
       "      <td>GOLD</td>\n",
       "      <td>6.79</td>\n",
       "      <td>ACCEPT</td>\n",
       "      <td>REJECT</td>\n",
       "      <td>0</td>\n",
       "      <td>614.00</td>\n",
       "      <td>625</td>\n",
       "    </tr>\n",
       "  </tbody>\n",
       "</table>\n",
       "</div>"
      ],
      "text/plain": [
       "            case_id     bin brand  category  usd_amount online_verdict  \\\n",
       "1761045   850532518  535081    MC  PLATINUM       13.43         ACCEPT   \n",
       "622305    750188691  515590    MC  PLATINUM        1.00         ACCEPT   \n",
       "1023911  1025871749  417401    VI   CLASSIC        6.63         ACCEPT   \n",
       "1318637   930027759  417401    VI   CLASSIC        6.57         ACCEPT   \n",
       "1063113   692249506  550209    MC      GOLD        6.79         ACCEPT   \n",
       "\n",
       "         result  flag_cbk  pred_score  score_group  \n",
       "1761045  ACCEPT         0        0.15           25  \n",
       "622305   REJECT         0      184.59          200  \n",
       "1023911  ACCEPT         0        0.15           25  \n",
       "1318637  ACCEPT         0        0.16           25  \n",
       "1063113  REJECT         0      614.00          625  "
      ]
     },
     "execution_count": 21,
     "metadata": {},
     "output_type": "execute_result"
    }
   ],
   "source": [
    "df.sample(5)"
   ]
  },
  {
   "cell_type": "markdown",
   "id": "bea2b8bd",
   "metadata": {},
   "source": [
    "## Filter dlocal REJECT"
   ]
  },
  {
   "cell_type": "code",
   "execution_count": 22,
   "id": "904a2eff",
   "metadata": {},
   "outputs": [
    {
     "data": {
      "text/plain": [
       "online_verdict\n",
       "ACCEPT    1373320\n",
       "dtype: int64"
      ]
     },
     "execution_count": 22,
     "metadata": {},
     "output_type": "execute_result"
    }
   ],
   "source": [
    "df_1=df[df['online_verdict']=='ACCEPT']\n",
    "df_1.value_counts('online_verdict')"
   ]
  },
  {
   "cell_type": "code",
   "execution_count": 23,
   "id": "ce305ec0",
   "metadata": {},
   "outputs": [],
   "source": [
    "df.drop(columns=['online_verdict'], inplace=True)"
   ]
  },
  {
   "cell_type": "code",
   "execution_count": 24,
   "id": "ad1b454e",
   "metadata": {},
   "outputs": [
    {
     "data": {
      "text/plain": [
       "Index(['case_id', 'bin', 'brand', 'category', 'usd_amount', 'result',\n",
       "       'flag_cbk', 'pred_score', 'score_group'],\n",
       "      dtype='object')"
      ]
     },
     "execution_count": 24,
     "metadata": {},
     "output_type": "execute_result"
    }
   ],
   "source": [
    "df.columns"
   ]
  },
  {
   "cell_type": "markdown",
   "id": "0262214f",
   "metadata": {},
   "source": [
    "## Pivote Table Result"
   ]
  },
  {
   "cell_type": "code",
   "execution_count": 25,
   "id": "e04000ef",
   "metadata": {},
   "outputs": [],
   "source": [
    "df_1=df[['score_group','result','usd_amount']]"
   ]
  },
  {
   "cell_type": "code",
   "execution_count": 26,
   "id": "270d280b",
   "metadata": {},
   "outputs": [
    {
     "data": {
      "text/html": [
       "<div>\n",
       "<style scoped>\n",
       "    .dataframe tbody tr th:only-of-type {\n",
       "        vertical-align: middle;\n",
       "    }\n",
       "\n",
       "    .dataframe tbody tr th {\n",
       "        vertical-align: top;\n",
       "    }\n",
       "\n",
       "    .dataframe thead th {\n",
       "        text-align: right;\n",
       "    }\n",
       "</style>\n",
       "<table border=\"1\" class=\"dataframe\">\n",
       "  <thead>\n",
       "    <tr style=\"text-align: right;\">\n",
       "      <th></th>\n",
       "      <th>score_group</th>\n",
       "      <th>result</th>\n",
       "      <th>usd_amount</th>\n",
       "    </tr>\n",
       "  </thead>\n",
       "  <tbody>\n",
       "    <tr>\n",
       "      <th>0</th>\n",
       "      <td>25</td>\n",
       "      <td>REJECT</td>\n",
       "      <td>6.69</td>\n",
       "    </tr>\n",
       "    <tr>\n",
       "      <th>1</th>\n",
       "      <td>875</td>\n",
       "      <td>ACCEPT</td>\n",
       "      <td>6.79</td>\n",
       "    </tr>\n",
       "    <tr>\n",
       "      <th>3</th>\n",
       "      <td>25</td>\n",
       "      <td>ACCEPT</td>\n",
       "      <td>72.94</td>\n",
       "    </tr>\n",
       "    <tr>\n",
       "      <th>4</th>\n",
       "      <td>525</td>\n",
       "      <td>REJECT</td>\n",
       "      <td>6.50</td>\n",
       "    </tr>\n",
       "  </tbody>\n",
       "</table>\n",
       "</div>"
      ],
      "text/plain": [
       "   score_group  result  usd_amount\n",
       "0           25  REJECT        6.69\n",
       "1          875  ACCEPT        6.79\n",
       "3           25  ACCEPT       72.94\n",
       "4          525  REJECT        6.50"
      ]
     },
     "execution_count": 26,
     "metadata": {},
     "output_type": "execute_result"
    }
   ],
   "source": [
    "df_1.head(4)"
   ]
  },
  {
   "cell_type": "code",
   "execution_count": 27,
   "id": "9d34e556",
   "metadata": {},
   "outputs": [],
   "source": [
    "table = pd.pivot_table(df_1, values='usd_amount', index=['score_group'],\n",
    "                    columns=['result'], aggfunc=np.sum, fill_value=0)"
   ]
  },
  {
   "cell_type": "code",
   "execution_count": 28,
   "id": "d3e0233c",
   "metadata": {},
   "outputs": [
    {
     "data": {
      "text/html": [
       "<div>\n",
       "<style scoped>\n",
       "    .dataframe tbody tr th:only-of-type {\n",
       "        vertical-align: middle;\n",
       "    }\n",
       "\n",
       "    .dataframe tbody tr th {\n",
       "        vertical-align: top;\n",
       "    }\n",
       "\n",
       "    .dataframe thead th {\n",
       "        text-align: right;\n",
       "    }\n",
       "</style>\n",
       "<table border=\"1\" class=\"dataframe\">\n",
       "  <thead>\n",
       "    <tr style=\"text-align: right;\">\n",
       "      <th>result</th>\n",
       "      <th>ACCEPT</th>\n",
       "      <th>AUTHORIZE</th>\n",
       "      <th>REJECT</th>\n",
       "    </tr>\n",
       "    <tr>\n",
       "      <th>score_group</th>\n",
       "      <th></th>\n",
       "      <th></th>\n",
       "      <th></th>\n",
       "    </tr>\n",
       "  </thead>\n",
       "  <tbody>\n",
       "    <tr>\n",
       "      <th>25</th>\n",
       "      <td>3,134,057.50</td>\n",
       "      <td>9,780.90</td>\n",
       "      <td>2,899,557.25</td>\n",
       "    </tr>\n",
       "    <tr>\n",
       "      <th>50</th>\n",
       "      <td>610.81</td>\n",
       "      <td>4.62</td>\n",
       "      <td>2,886.21</td>\n",
       "    </tr>\n",
       "    <tr>\n",
       "      <th>75</th>\n",
       "      <td>1,016.55</td>\n",
       "      <td>15.45</td>\n",
       "      <td>6,134.04</td>\n",
       "    </tr>\n",
       "    <tr>\n",
       "      <th>100</th>\n",
       "      <td>1,973.96</td>\n",
       "      <td>47.06</td>\n",
       "      <td>12,316.74</td>\n",
       "    </tr>\n",
       "  </tbody>\n",
       "</table>\n",
       "</div>"
      ],
      "text/plain": [
       "result            ACCEPT  AUTHORIZE       REJECT\n",
       "score_group                                     \n",
       "25          3,134,057.50   9,780.90 2,899,557.25\n",
       "50                610.81       4.62     2,886.21\n",
       "75              1,016.55      15.45     6,134.04\n",
       "100             1,973.96      47.06    12,316.74"
      ]
     },
     "execution_count": 28,
     "metadata": {},
     "output_type": "execute_result"
    }
   ],
   "source": [
    "table.head(4)"
   ]
  },
  {
   "cell_type": "markdown",
   "id": "a0fc0b43",
   "metadata": {},
   "source": [
    "## Graphic Score vs Fianl Result"
   ]
  },
  {
   "cell_type": "code",
   "execution_count": 29,
   "id": "abc637f1",
   "metadata": {},
   "outputs": [
    {
     "data": {
      "text/plain": [
       "<AxesSubplot:title={'center':'Scores vs App Fianl'}, xlabel='score_group', ylabel='USD [MM]'>"
      ]
     },
     "execution_count": 29,
     "metadata": {},
     "output_type": "execute_result"
    },
    {
     "data": {
      "image/png": "[encoded data removed]",
      "text/plain": [
       "<Figure size 1440x720 with 1 Axes>"
      ]
     },
     "metadata": {
      "needs_background": "light"
     },
     "output_type": "display_data"
    }
   ],
   "source": [
    "table.plot(kind='bar',\n",
    "        title = 'Scores vs App Fianl',\n",
    "        ylabel = 'USD [MM]',\n",
    "        figsize = (20,10),\n",
    "        grid = True,\n",
    "        stacked = True)"
   ]
  },
  {
   "cell_type": "markdown",
   "id": "db41c6aa",
   "metadata": {},
   "source": [
    "## Pivote Table Brand"
   ]
  },
  {
   "cell_type": "code",
   "execution_count": 65,
   "id": "3684220a",
   "metadata": {},
   "outputs": [],
   "source": [
    "df_1=df[['brand','result','usd_amount']]"
   ]
  },
  {
   "cell_type": "code",
   "execution_count": 66,
   "id": "14f6fe01",
   "metadata": {},
   "outputs": [
    {
     "data": {
      "text/html": [
       "<div>\n",
       "<style scoped>\n",
       "    .dataframe tbody tr th:only-of-type {\n",
       "        vertical-align: middle;\n",
       "    }\n",
       "\n",
       "    .dataframe tbody tr th {\n",
       "        vertical-align: top;\n",
       "    }\n",
       "\n",
       "    .dataframe thead th {\n",
       "        text-align: right;\n",
       "    }\n",
       "</style>\n",
       "<table border=\"1\" class=\"dataframe\">\n",
       "  <thead>\n",
       "    <tr style=\"text-align: right;\">\n",
       "      <th></th>\n",
       "      <th>brand</th>\n",
       "      <th>result</th>\n",
       "      <th>usd_amount</th>\n",
       "    </tr>\n",
       "  </thead>\n",
       "  <tbody>\n",
       "    <tr>\n",
       "      <th>0</th>\n",
       "      <td>MC</td>\n",
       "      <td>REJECT</td>\n",
       "      <td>6.69</td>\n",
       "    </tr>\n",
       "    <tr>\n",
       "      <th>1</th>\n",
       "      <td>VI</td>\n",
       "      <td>ACCEPT</td>\n",
       "      <td>6.79</td>\n",
       "    </tr>\n",
       "    <tr>\n",
       "      <th>3</th>\n",
       "      <td>MC</td>\n",
       "      <td>ACCEPT</td>\n",
       "      <td>72.94</td>\n",
       "    </tr>\n",
       "  </tbody>\n",
       "</table>\n",
       "</div>"
      ],
      "text/plain": [
       "  brand  result  usd_amount\n",
       "0    MC  REJECT        6.69\n",
       "1    VI  ACCEPT        6.79\n",
       "3    MC  ACCEPT       72.94"
      ]
     },
     "execution_count": 66,
     "metadata": {},
     "output_type": "execute_result"
    }
   ],
   "source": [
    "df_1.head(3)"
   ]
  },
  {
   "cell_type": "code",
   "execution_count": 67,
   "id": "6fd9c899",
   "metadata": {},
   "outputs": [],
   "source": [
    "table = pd.pivot_table(df_1, values='usd_amount', index=['brand'],\n",
    "                    columns=['result'], aggfunc=np.sum, fill_value=0)"
   ]
  },
  {
   "cell_type": "code",
   "execution_count": 68,
   "id": "1b1831cc",
   "metadata": {},
   "outputs": [
    {
     "data": {
      "text/html": [
       "<div>\n",
       "<style scoped>\n",
       "    .dataframe tbody tr th:only-of-type {\n",
       "        vertical-align: middle;\n",
       "    }\n",
       "\n",
       "    .dataframe tbody tr th {\n",
       "        vertical-align: top;\n",
       "    }\n",
       "\n",
       "    .dataframe thead th {\n",
       "        text-align: right;\n",
       "    }\n",
       "</style>\n",
       "<table border=\"1\" class=\"dataframe\">\n",
       "  <thead>\n",
       "    <tr style=\"text-align: right;\">\n",
       "      <th>result</th>\n",
       "      <th>ACCEPT</th>\n",
       "      <th>AUTHORIZE</th>\n",
       "      <th>REJECT</th>\n",
       "    </tr>\n",
       "    <tr>\n",
       "      <th>brand</th>\n",
       "      <th></th>\n",
       "      <th></th>\n",
       "      <th></th>\n",
       "    </tr>\n",
       "  </thead>\n",
       "  <tbody>\n",
       "    <tr>\n",
       "      <th>AE</th>\n",
       "      <td>50,835.25</td>\n",
       "      <td>185.09</td>\n",
       "      <td>53,874.31</td>\n",
       "    </tr>\n",
       "    <tr>\n",
       "      <th>EL</th>\n",
       "      <td>93,598.30</td>\n",
       "      <td>375.43</td>\n",
       "      <td>193,867.34</td>\n",
       "    </tr>\n",
       "    <tr>\n",
       "      <th>HI</th>\n",
       "      <td>211.32</td>\n",
       "      <td>0.00</td>\n",
       "      <td>2,584.18</td>\n",
       "    </tr>\n",
       "    <tr>\n",
       "      <th>MC</th>\n",
       "      <td>4,975,834.00</td>\n",
       "      <td>18,896.54</td>\n",
       "      <td>7,643,345.50</td>\n",
       "    </tr>\n",
       "  </tbody>\n",
       "</table>\n",
       "</div>"
      ],
      "text/plain": [
       "result       ACCEPT  AUTHORIZE       REJECT\n",
       "brand                                      \n",
       "AE        50,835.25     185.09    53,874.31\n",
       "EL        93,598.30     375.43   193,867.34\n",
       "HI           211.32       0.00     2,584.18\n",
       "MC     4,975,834.00  18,896.54 7,643,345.50"
      ]
     },
     "execution_count": 68,
     "metadata": {},
     "output_type": "execute_result"
    }
   ],
   "source": [
    "table.head(4)"
   ]
  },
  {
   "cell_type": "code",
   "execution_count": 70,
   "id": "cf75cbe2",
   "metadata": {},
   "outputs": [
    {
     "data": {
      "text/plain": [
       "<AxesSubplot:title={'center':'App Final vs Brand'}, xlabel='brand', ylabel='USD [MM]'>"
      ]
     },
     "execution_count": 70,
     "metadata": {},
     "output_type": "execute_result"
    },
    {
     "data": {
      "image/png": "[encoded data removed]",
      "text/plain": [
       "<Figure size 720x360 with 1 Axes>"
      ]
     },
     "metadata": {
      "needs_background": "light"
     },
     "output_type": "display_data"
    }
   ],
   "source": [
    "table.plot(kind='bar',\n",
    "        title = 'App Final vs Brand',\n",
    "        ylabel = 'USD [MM]',\n",
    "        figsize = (10,5),\n",
    "        grid = True,\n",
    "        stacked = True)"
   ]
  },
  {
   "cell_type": "markdown",
   "id": "e4ed8d1b",
   "metadata": {},
   "source": [
    "## Pivote Table Category"
   ]
  },
  {
   "cell_type": "code",
   "execution_count": 30,
   "id": "4bbd1e94",
   "metadata": {},
   "outputs": [],
   "source": [
    "df_1=df[['category','result','usd_amount']]"
   ]
  },
  {
   "cell_type": "code",
   "execution_count": 31,
   "id": "4a2bb885",
   "metadata": {},
   "outputs": [
    {
     "data": {
      "text/html": [
       "<div>\n",
       "<style scoped>\n",
       "    .dataframe tbody tr th:only-of-type {\n",
       "        vertical-align: middle;\n",
       "    }\n",
       "\n",
       "    .dataframe tbody tr th {\n",
       "        vertical-align: top;\n",
       "    }\n",
       "\n",
       "    .dataframe thead th {\n",
       "        text-align: right;\n",
       "    }\n",
       "</style>\n",
       "<table border=\"1\" class=\"dataframe\">\n",
       "  <thead>\n",
       "    <tr style=\"text-align: right;\">\n",
       "      <th></th>\n",
       "      <th>category</th>\n",
       "      <th>result</th>\n",
       "      <th>usd_amount</th>\n",
       "    </tr>\n",
       "  </thead>\n",
       "  <tbody>\n",
       "    <tr>\n",
       "      <th>0</th>\n",
       "      <td>BLACK</td>\n",
       "      <td>REJECT</td>\n",
       "      <td>6.69</td>\n",
       "    </tr>\n",
       "    <tr>\n",
       "      <th>1</th>\n",
       "      <td>CLASSIC</td>\n",
       "      <td>ACCEPT</td>\n",
       "      <td>6.79</td>\n",
       "    </tr>\n",
       "    <tr>\n",
       "      <th>3</th>\n",
       "      <td>GOLD</td>\n",
       "      <td>ACCEPT</td>\n",
       "      <td>72.94</td>\n",
       "    </tr>\n",
       "    <tr>\n",
       "      <th>4</th>\n",
       "      <td>GOLD</td>\n",
       "      <td>REJECT</td>\n",
       "      <td>6.50</td>\n",
       "    </tr>\n",
       "  </tbody>\n",
       "</table>\n",
       "</div>"
      ],
      "text/plain": [
       "  category  result  usd_amount\n",
       "0    BLACK  REJECT        6.69\n",
       "1  CLASSIC  ACCEPT        6.79\n",
       "3     GOLD  ACCEPT       72.94\n",
       "4     GOLD  REJECT        6.50"
      ]
     },
     "execution_count": 31,
     "metadata": {},
     "output_type": "execute_result"
    }
   ],
   "source": [
    "df_1.head(3)"
   ]
  },
  {
   "cell_type": "code",
   "execution_count": 32,
   "id": "b499f972",
   "metadata": {},
   "outputs": [],
   "source": [
    "table = pd.pivot_table(df_1, values='usd_amount', index=['category'],\n",
    "                    columns=['result'], aggfunc=np.sum, fill_value=0)"
   ]
  },
  {
   "cell_type": "code",
   "execution_count": 33,
   "id": "3c556135",
   "metadata": {},
   "outputs": [
    {
     "data": {
      "text/html": [
       "<div>\n",
       "<style scoped>\n",
       "    .dataframe tbody tr th:only-of-type {\n",
       "        vertical-align: middle;\n",
       "    }\n",
       "\n",
       "    .dataframe tbody tr th {\n",
       "        vertical-align: top;\n",
       "    }\n",
       "\n",
       "    .dataframe thead th {\n",
       "        text-align: right;\n",
       "    }\n",
       "</style>\n",
       "<table border=\"1\" class=\"dataframe\">\n",
       "  <thead>\n",
       "    <tr style=\"text-align: right;\">\n",
       "      <th>result</th>\n",
       "      <th>ACCEPT</th>\n",
       "      <th>AUTHORIZE</th>\n",
       "      <th>REJECT</th>\n",
       "    </tr>\n",
       "    <tr>\n",
       "      <th>category</th>\n",
       "      <th></th>\n",
       "      <th></th>\n",
       "      <th></th>\n",
       "    </tr>\n",
       "  </thead>\n",
       "  <tbody>\n",
       "    <tr>\n",
       "      <th>ACQUIRER ONLY</th>\n",
       "      <td>0.00</td>\n",
       "      <td>0.00</td>\n",
       "      <td>50.94</td>\n",
       "    </tr>\n",
       "    <tr>\n",
       "      <th>ALIMENTACAO</th>\n",
       "      <td>0.00</td>\n",
       "      <td>0.00</td>\n",
       "      <td>1.15</td>\n",
       "    </tr>\n",
       "    <tr>\n",
       "      <th>B2B</th>\n",
       "      <td>0.00</td>\n",
       "      <td>0.00</td>\n",
       "      <td>6.78</td>\n",
       "    </tr>\n",
       "    <tr>\n",
       "      <th>BASIC</th>\n",
       "      <td>0.00</td>\n",
       "      <td>0.00</td>\n",
       "      <td>2.31</td>\n",
       "    </tr>\n",
       "  </tbody>\n",
       "</table>\n",
       "</div>"
      ],
      "text/plain": [
       "result         ACCEPT  AUTHORIZE  REJECT\n",
       "category                                \n",
       "ACQUIRER ONLY    0.00       0.00   50.94\n",
       "ALIMENTACAO      0.00       0.00    1.15\n",
       "B2B              0.00       0.00    6.78\n",
       "BASIC            0.00       0.00    2.31"
      ]
     },
     "execution_count": 33,
     "metadata": {},
     "output_type": "execute_result"
    }
   ],
   "source": [
    "table.head(4)"
   ]
  },
  {
   "cell_type": "markdown",
   "id": "6681c2cc",
   "metadata": {},
   "source": [
    "## Graphic Category vs Final Result"
   ]
  },
  {
   "cell_type": "code",
   "execution_count": 34,
   "id": "74e8e0cf",
   "metadata": {},
   "outputs": [
    {
     "data": {
      "text/plain": [
       "<AxesSubplot:title={'center':'App Final vs Category'}, xlabel='category', ylabel='USD [MM]'>"
      ]
     },
     "execution_count": 34,
     "metadata": {},
     "output_type": "execute_result"
    },
    {
     "data": {
      "image/png": "[encoded data removed]",
      "text/plain": [
       "<Figure size 1440x720 with 1 Axes>"
      ]
     },
     "metadata": {
      "needs_background": "light"
     },
     "output_type": "display_data"
    }
   ],
   "source": [
    "table.plot(kind='bar',\n",
    "        title = 'App Final vs Category',\n",
    "        ylabel = 'USD [MM]',\n",
    "        figsize = (20,10),\n",
    "        grid = True,\n",
    "        stacked = True)"
   ]
  },
  {
   "cell_type": "markdown",
   "id": "40ec18d0",
   "metadata": {},
   "source": [
    "## Filter Classic Cards"
   ]
  },
  {
   "cell_type": "code",
   "execution_count": 59,
   "id": "85657cae",
   "metadata": {},
   "outputs": [
    {
     "data": {
      "text/plain": [
       "Index(['case_id', 'bin', 'brand', 'category', 'usd_amount', 'result',\n",
       "       'flag_cbk', 'pred_score', 'score_group'],\n",
       "      dtype='object')"
      ]
     },
     "execution_count": 59,
     "metadata": {},
     "output_type": "execute_result"
    }
   ],
   "source": [
    "df.columns"
   ]
  },
  {
   "cell_type": "code",
   "execution_count": 36,
   "id": "25f4413b",
   "metadata": {},
   "outputs": [
    {
     "data": {
      "text/plain": [
       "category\n",
       "CLASSIC    189507\n",
       "dtype: int64"
      ]
     },
     "execution_count": 36,
     "metadata": {},
     "output_type": "execute_result"
    }
   ],
   "source": [
    "df_1=df[df['category']=='CLASSIC']\n",
    "df_1.value_counts('category')"
   ]
  },
  {
   "cell_type": "code",
   "execution_count": 37,
   "id": "73bbcd6d",
   "metadata": {},
   "outputs": [],
   "source": [
    "df_1=df_1[['score_group','result','usd_amount']]"
   ]
  },
  {
   "cell_type": "code",
   "execution_count": 38,
   "id": "44bef310",
   "metadata": {},
   "outputs": [
    {
     "data": {
      "text/html": [
       "<div>\n",
       "<style scoped>\n",
       "    .dataframe tbody tr th:only-of-type {\n",
       "        vertical-align: middle;\n",
       "    }\n",
       "\n",
       "    .dataframe tbody tr th {\n",
       "        vertical-align: top;\n",
       "    }\n",
       "\n",
       "    .dataframe thead th {\n",
       "        text-align: right;\n",
       "    }\n",
       "</style>\n",
       "<table border=\"1\" class=\"dataframe\">\n",
       "  <thead>\n",
       "    <tr style=\"text-align: right;\">\n",
       "      <th></th>\n",
       "      <th>score_group</th>\n",
       "      <th>result</th>\n",
       "      <th>usd_amount</th>\n",
       "    </tr>\n",
       "  </thead>\n",
       "  <tbody>\n",
       "    <tr>\n",
       "      <th>1</th>\n",
       "      <td>875</td>\n",
       "      <td>ACCEPT</td>\n",
       "      <td>6.79</td>\n",
       "    </tr>\n",
       "    <tr>\n",
       "      <th>7</th>\n",
       "      <td>850</td>\n",
       "      <td>REJECT</td>\n",
       "      <td>6.69</td>\n",
       "    </tr>\n",
       "    <tr>\n",
       "      <th>14</th>\n",
       "      <td>875</td>\n",
       "      <td>ACCEPT</td>\n",
       "      <td>6.84</td>\n",
       "    </tr>\n",
       "  </tbody>\n",
       "</table>\n",
       "</div>"
      ],
      "text/plain": [
       "    score_group  result  usd_amount\n",
       "1           875  ACCEPT        6.79\n",
       "7           850  REJECT        6.69\n",
       "14          875  ACCEPT        6.84"
      ]
     },
     "execution_count": 38,
     "metadata": {},
     "output_type": "execute_result"
    }
   ],
   "source": [
    "df_1.head(3)"
   ]
  },
  {
   "cell_type": "code",
   "execution_count": 39,
   "id": "809f0ae6",
   "metadata": {},
   "outputs": [],
   "source": [
    "table = pd.pivot_table(df_1, values='usd_amount', index=['score_group'],\n",
    "                    columns=['result'], aggfunc=np.sum, fill_value=0)"
   ]
  },
  {
   "cell_type": "code",
   "execution_count": 40,
   "id": "8cd27e2f",
   "metadata": {},
   "outputs": [
    {
     "data": {
      "text/html": [
       "<div>\n",
       "<style scoped>\n",
       "    .dataframe tbody tr th:only-of-type {\n",
       "        vertical-align: middle;\n",
       "    }\n",
       "\n",
       "    .dataframe tbody tr th {\n",
       "        vertical-align: top;\n",
       "    }\n",
       "\n",
       "    .dataframe thead th {\n",
       "        text-align: right;\n",
       "    }\n",
       "</style>\n",
       "<table border=\"1\" class=\"dataframe\">\n",
       "  <thead>\n",
       "    <tr style=\"text-align: right;\">\n",
       "      <th>result</th>\n",
       "      <th>ACCEPT</th>\n",
       "      <th>AUTHORIZE</th>\n",
       "      <th>REJECT</th>\n",
       "    </tr>\n",
       "    <tr>\n",
       "      <th>score_group</th>\n",
       "      <th></th>\n",
       "      <th></th>\n",
       "      <th></th>\n",
       "    </tr>\n",
       "  </thead>\n",
       "  <tbody>\n",
       "    <tr>\n",
       "      <th>25</th>\n",
       "      <td>377,102.84</td>\n",
       "      <td>1,171.85</td>\n",
       "      <td>414,058.03</td>\n",
       "    </tr>\n",
       "    <tr>\n",
       "      <th>50</th>\n",
       "      <td>21.22</td>\n",
       "      <td>0.00</td>\n",
       "      <td>400.82</td>\n",
       "    </tr>\n",
       "    <tr>\n",
       "      <th>75</th>\n",
       "      <td>37.18</td>\n",
       "      <td>3.45</td>\n",
       "      <td>1,229.14</td>\n",
       "    </tr>\n",
       "  </tbody>\n",
       "</table>\n",
       "</div>"
      ],
      "text/plain": [
       "result          ACCEPT  AUTHORIZE     REJECT\n",
       "score_group                                 \n",
       "25          377,102.84   1,171.85 414,058.03\n",
       "50               21.22       0.00     400.82\n",
       "75               37.18       3.45   1,229.14"
      ]
     },
     "execution_count": 40,
     "metadata": {},
     "output_type": "execute_result"
    }
   ],
   "source": [
    "table.head(3)"
   ]
  },
  {
   "cell_type": "code",
   "execution_count": 41,
   "id": "9e273bb7",
   "metadata": {},
   "outputs": [
    {
     "data": {
      "text/plain": [
       "<AxesSubplot:title={'center':'Score vs Classic'}, xlabel='score_group', ylabel='USD'>"
      ]
     },
     "execution_count": 41,
     "metadata": {},
     "output_type": "execute_result"
    },
    {
     "data": {
      "image/png": "[encoded data removed]",
      "text/plain": [
       "<Figure size 1440x720 with 1 Axes>"
      ]
     },
     "metadata": {
      "needs_background": "light"
     },
     "output_type": "display_data"
    }
   ],
   "source": [
    "table.plot(kind='bar',\n",
    "        title = 'Score vs Classic',\n",
    "        ylabel = 'USD',\n",
    "        figsize = (20,10),\n",
    "        grid = True,\n",
    "        stacked = True)"
   ]
  },
  {
   "cell_type": "markdown",
   "id": "89eed053",
   "metadata": {},
   "source": [
    "## Filter Gold Cards"
   ]
  },
  {
   "cell_type": "code",
   "execution_count": 42,
   "id": "fcc2438a",
   "metadata": {},
   "outputs": [
    {
     "data": {
      "text/plain": [
       "category\n",
       "GOLD    589195\n",
       "dtype: int64"
      ]
     },
     "execution_count": 42,
     "metadata": {},
     "output_type": "execute_result"
    }
   ],
   "source": [
    "df_1=df[df['category']=='GOLD']\n",
    "df_1.value_counts('category')"
   ]
  },
  {
   "cell_type": "code",
   "execution_count": 43,
   "id": "e850dd68",
   "metadata": {},
   "outputs": [],
   "source": [
    "df_1=df_1[['score_group','result','usd_amount']]"
   ]
  },
  {
   "cell_type": "code",
   "execution_count": 44,
   "id": "b25056d2",
   "metadata": {},
   "outputs": [],
   "source": [
    "table = pd.pivot_table(df_1, values='usd_amount', index=['score_group'],\n",
    "                    columns=['result'], aggfunc=np.sum, fill_value=0)"
   ]
  },
  {
   "cell_type": "code",
   "execution_count": 45,
   "id": "cf50c4d2",
   "metadata": {},
   "outputs": [
    {
     "data": {
      "text/html": [
       "<div>\n",
       "<style scoped>\n",
       "    .dataframe tbody tr th:only-of-type {\n",
       "        vertical-align: middle;\n",
       "    }\n",
       "\n",
       "    .dataframe tbody tr th {\n",
       "        vertical-align: top;\n",
       "    }\n",
       "\n",
       "    .dataframe thead th {\n",
       "        text-align: right;\n",
       "    }\n",
       "</style>\n",
       "<table border=\"1\" class=\"dataframe\">\n",
       "  <thead>\n",
       "    <tr style=\"text-align: right;\">\n",
       "      <th>result</th>\n",
       "      <th>ACCEPT</th>\n",
       "      <th>AUTHORIZE</th>\n",
       "      <th>REJECT</th>\n",
       "    </tr>\n",
       "    <tr>\n",
       "      <th>score_group</th>\n",
       "      <th></th>\n",
       "      <th></th>\n",
       "      <th></th>\n",
       "    </tr>\n",
       "  </thead>\n",
       "  <tbody>\n",
       "    <tr>\n",
       "      <th>25</th>\n",
       "      <td>1,159,979.00</td>\n",
       "      <td>3,890.91</td>\n",
       "      <td>1,236,840.25</td>\n",
       "    </tr>\n",
       "    <tr>\n",
       "      <th>50</th>\n",
       "      <td>323.45</td>\n",
       "      <td>1.15</td>\n",
       "      <td>1,273.64</td>\n",
       "    </tr>\n",
       "    <tr>\n",
       "      <th>75</th>\n",
       "      <td>496.58</td>\n",
       "      <td>5.54</td>\n",
       "      <td>2,372.86</td>\n",
       "    </tr>\n",
       "  </tbody>\n",
       "</table>\n",
       "</div>"
      ],
      "text/plain": [
       "result            ACCEPT  AUTHORIZE       REJECT\n",
       "score_group                                     \n",
       "25          1,159,979.00   3,890.91 1,236,840.25\n",
       "50                323.45       1.15     1,273.64\n",
       "75                496.58       5.54     2,372.86"
      ]
     },
     "execution_count": 45,
     "metadata": {},
     "output_type": "execute_result"
    }
   ],
   "source": [
    "table.head(3)"
   ]
  },
  {
   "cell_type": "code",
   "execution_count": 46,
   "id": "ef4cc863",
   "metadata": {},
   "outputs": [
    {
     "data": {
      "text/plain": [
       "<AxesSubplot:title={'center':'Score vs Gold'}, xlabel='score_group', ylabel='USD [MM]'>"
      ]
     },
     "execution_count": 46,
     "metadata": {},
     "output_type": "execute_result"
    },
    {
     "data": {
      "image/png": "[encoded data removed]",
      "text/plain": [
       "<Figure size 1440x720 with 1 Axes>"
      ]
     },
     "metadata": {
      "needs_background": "light"
     },
     "output_type": "display_data"
    }
   ],
   "source": [
    "table.plot(kind='bar',\n",
    "        title = 'Score vs Gold',\n",
    "        ylabel = 'USD [MM]',\n",
    "        figsize = (20,10),\n",
    "        grid = True,\n",
    "        stacked = True)"
   ]
  },
  {
   "cell_type": "markdown",
   "id": "5c0e2f41",
   "metadata": {},
   "source": [
    "## Filter Standard Cards"
   ]
  },
  {
   "cell_type": "code",
   "execution_count": 47,
   "id": "e149b470",
   "metadata": {},
   "outputs": [
    {
     "data": {
      "text/plain": [
       "category\n",
       "STANDARD    178748\n",
       "dtype: int64"
      ]
     },
     "execution_count": 47,
     "metadata": {},
     "output_type": "execute_result"
    }
   ],
   "source": [
    "df_1=df[df['category']=='STANDARD']\n",
    "df_1.value_counts('category')"
   ]
  },
  {
   "cell_type": "code",
   "execution_count": 48,
   "id": "42a7e595",
   "metadata": {},
   "outputs": [],
   "source": [
    "df_1=df_1[['score_group','result','usd_amount']]"
   ]
  },
  {
   "cell_type": "code",
   "execution_count": 49,
   "id": "80628e1b",
   "metadata": {},
   "outputs": [],
   "source": [
    "table = pd.pivot_table(df_1, values='usd_amount', index=['score_group'],\n",
    "                    columns=['result'], aggfunc=np.sum, fill_value=0)"
   ]
  },
  {
   "cell_type": "code",
   "execution_count": 50,
   "id": "03319a7b",
   "metadata": {},
   "outputs": [
    {
     "data": {
      "text/html": [
       "<div>\n",
       "<style scoped>\n",
       "    .dataframe tbody tr th:only-of-type {\n",
       "        vertical-align: middle;\n",
       "    }\n",
       "\n",
       "    .dataframe tbody tr th {\n",
       "        vertical-align: top;\n",
       "    }\n",
       "\n",
       "    .dataframe thead th {\n",
       "        text-align: right;\n",
       "    }\n",
       "</style>\n",
       "<table border=\"1\" class=\"dataframe\">\n",
       "  <thead>\n",
       "    <tr style=\"text-align: right;\">\n",
       "      <th>result</th>\n",
       "      <th>ACCEPT</th>\n",
       "      <th>AUTHORIZE</th>\n",
       "      <th>REJECT</th>\n",
       "    </tr>\n",
       "    <tr>\n",
       "      <th>score_group</th>\n",
       "      <th></th>\n",
       "      <th></th>\n",
       "      <th></th>\n",
       "    </tr>\n",
       "  </thead>\n",
       "  <tbody>\n",
       "    <tr>\n",
       "      <th>25</th>\n",
       "      <td>387,339.84</td>\n",
       "      <td>1,180.98</td>\n",
       "      <td>346,256.78</td>\n",
       "    </tr>\n",
       "    <tr>\n",
       "      <th>50</th>\n",
       "      <td>7.58</td>\n",
       "      <td>1.15</td>\n",
       "      <td>246.51</td>\n",
       "    </tr>\n",
       "    <tr>\n",
       "      <th>75</th>\n",
       "      <td>74.94</td>\n",
       "      <td>0.00</td>\n",
       "      <td>387.82</td>\n",
       "    </tr>\n",
       "  </tbody>\n",
       "</table>\n",
       "</div>"
      ],
      "text/plain": [
       "result          ACCEPT  AUTHORIZE     REJECT\n",
       "score_group                                 \n",
       "25          387,339.84   1,180.98 346,256.78\n",
       "50                7.58       1.15     246.51\n",
       "75               74.94       0.00     387.82"
      ]
     },
     "execution_count": 50,
     "metadata": {},
     "output_type": "execute_result"
    }
   ],
   "source": [
    "table.head(3)"
   ]
  },
  {
   "cell_type": "code",
   "execution_count": 51,
   "id": "6f21fad3",
   "metadata": {},
   "outputs": [
    {
     "data": {
      "text/plain": [
       "<AxesSubplot:title={'center':'Score vs Standard'}, xlabel='score_group', ylabel='USD'>"
      ]
     },
     "execution_count": 51,
     "metadata": {},
     "output_type": "execute_result"
    },
    {
     "data": {
      "image/png": "[encoded data removed]",
      "text/plain": [
       "<Figure size 1440x720 with 1 Axes>"
      ]
     },
     "metadata": {
      "needs_background": "light"
     },
     "output_type": "display_data"
    }
   ],
   "source": [
    "table.plot(kind='bar',\n",
    "        title = 'Score vs Standard',\n",
    "        ylabel = 'USD',\n",
    "        figsize = (20,10),\n",
    "        grid = True,\n",
    "        stacked = True)"
   ]
  },
  {
   "cell_type": "markdown",
   "id": "bde1008b",
   "metadata": {},
   "source": [
    "## Filter Corporate T&E Cards"
   ]
  },
  {
   "cell_type": "code",
   "execution_count": 52,
   "id": "71e36460",
   "metadata": {},
   "outputs": [
    {
     "data": {
      "text/plain": [
       "category\n",
       "CORPORATE T&E    39507\n",
       "dtype: int64"
      ]
     },
     "execution_count": 52,
     "metadata": {},
     "output_type": "execute_result"
    }
   ],
   "source": [
    "df_1=df[df['category']=='CORPORATE T&E']\n",
    "df_1.value_counts('category')"
   ]
  },
  {
   "cell_type": "code",
   "execution_count": 53,
   "id": "309953ae",
   "metadata": {},
   "outputs": [],
   "source": [
    "df_1=df_1[['score_group','result','usd_amount']]"
   ]
  },
  {
   "cell_type": "code",
   "execution_count": 54,
   "id": "4dcd9d4b",
   "metadata": {},
   "outputs": [],
   "source": [
    "table = pd.pivot_table(df_1, values='usd_amount', index=['score_group'],\n",
    "                    columns=['result'], aggfunc=np.sum, fill_value=0)"
   ]
  },
  {
   "cell_type": "code",
   "execution_count": 55,
   "id": "41fbca55",
   "metadata": {},
   "outputs": [
    {
     "data": {
      "text/html": [
       "<div>\n",
       "<style scoped>\n",
       "    .dataframe tbody tr th:only-of-type {\n",
       "        vertical-align: middle;\n",
       "    }\n",
       "\n",
       "    .dataframe tbody tr th {\n",
       "        vertical-align: top;\n",
       "    }\n",
       "\n",
       "    .dataframe thead th {\n",
       "        text-align: right;\n",
       "    }\n",
       "</style>\n",
       "<table border=\"1\" class=\"dataframe\">\n",
       "  <thead>\n",
       "    <tr style=\"text-align: right;\">\n",
       "      <th>result</th>\n",
       "      <th>ACCEPT</th>\n",
       "      <th>AUTHORIZE</th>\n",
       "      <th>REJECT</th>\n",
       "    </tr>\n",
       "    <tr>\n",
       "      <th>score_group</th>\n",
       "      <th></th>\n",
       "      <th></th>\n",
       "      <th></th>\n",
       "    </tr>\n",
       "  </thead>\n",
       "  <tbody>\n",
       "    <tr>\n",
       "      <th>25</th>\n",
       "      <td>31,021.72</td>\n",
       "      <td>74.07</td>\n",
       "      <td>117,068.96</td>\n",
       "    </tr>\n",
       "    <tr>\n",
       "      <th>50</th>\n",
       "      <td>1.85</td>\n",
       "      <td>0.00</td>\n",
       "      <td>151.06</td>\n",
       "    </tr>\n",
       "    <tr>\n",
       "      <th>75</th>\n",
       "      <td>20.26</td>\n",
       "      <td>4.12</td>\n",
       "      <td>576.46</td>\n",
       "    </tr>\n",
       "  </tbody>\n",
       "</table>\n",
       "</div>"
      ],
      "text/plain": [
       "result         ACCEPT  AUTHORIZE     REJECT\n",
       "score_group                                \n",
       "25          31,021.72      74.07 117,068.96\n",
       "50               1.85       0.00     151.06\n",
       "75              20.26       4.12     576.46"
      ]
     },
     "execution_count": 55,
     "metadata": {},
     "output_type": "execute_result"
    }
   ],
   "source": [
    "table.head(3)"
   ]
  },
  {
   "cell_type": "code",
   "execution_count": 57,
   "id": "60fe5bf1",
   "metadata": {},
   "outputs": [
    {
     "data": {
      "text/plain": [
       "<AxesSubplot:title={'center':'Score vs Corporate T&E'}, xlabel='score_group', ylabel='USD'>"
      ]
     },
     "execution_count": 57,
     "metadata": {},
     "output_type": "execute_result"
    },
    {
     "data": {
      "image/png": "[encoded data removed]",
      "text/plain": [
       "<Figure size 1440x720 with 1 Axes>"
      ]
     },
     "metadata": {
      "needs_background": "light"
     },
     "output_type": "display_data"
    }
   ],
   "source": [
    "table.plot(kind='bar',\n",
    "        title = 'Score vs Corporate T&E',\n",
    "        ylabel = 'USD',\n",
    "        figsize = (20,10),\n",
    "        grid = True,\n",
    "        stacked = True)"
   ]
  },
  {
   "cell_type": "markdown",
   "id": "f03ce607",
   "metadata": {},
   "source": [
    "## BINs Classic Cards"
   ]
  },
  {
   "cell_type": "code",
   "execution_count": 58,
   "id": "0ece70dc",
   "metadata": {},
   "outputs": [
    {
     "data": {
      "text/plain": [
       "Index(['case_id', 'bin', 'brand', 'category', 'usd_amount', 'result',\n",
       "       'flag_cbk', 'pred_score', 'score_group'],\n",
       "      dtype='object')"
      ]
     },
     "execution_count": 58,
     "metadata": {},
     "output_type": "execute_result"
    }
   ],
   "source": [
    "df.columns"
   ]
  },
  {
   "cell_type": "code",
   "execution_count": 60,
   "id": "49d6aa57",
   "metadata": {},
   "outputs": [
    {
     "data": {
      "text/plain": [
       "category\n",
       "CLASSIC    189507\n",
       "dtype: int64"
      ]
     },
     "execution_count": 60,
     "metadata": {},
     "output_type": "execute_result"
    }
   ],
   "source": [
    "df_1=df[df['category']=='CLASSIC']\n",
    "df_1.value_counts('category')"
   ]
  },
  {
   "cell_type": "code",
   "execution_count": 61,
   "id": "b571e66d",
   "metadata": {},
   "outputs": [],
   "source": [
    "df_1=df[['bin','result','usd_amount']]"
   ]
  },
  {
   "cell_type": "code",
   "execution_count": 62,
   "id": "16cff940",
   "metadata": {},
   "outputs": [],
   "source": [
    "table = pd.pivot_table(df_1, values='usd_amount', index=['bin'],\n",
    "                    columns=['result'], aggfunc=np.sum, fill_value=0)"
   ]
  },
  {
   "cell_type": "code",
   "execution_count": 63,
   "id": "6a41341f",
   "metadata": {},
   "outputs": [
    {
     "data": {
      "text/html": [
       "<div>\n",
       "<style scoped>\n",
       "    .dataframe tbody tr th:only-of-type {\n",
       "        vertical-align: middle;\n",
       "    }\n",
       "\n",
       "    .dataframe tbody tr th {\n",
       "        vertical-align: top;\n",
       "    }\n",
       "\n",
       "    .dataframe thead th {\n",
       "        text-align: right;\n",
       "    }\n",
       "</style>\n",
       "<table border=\"1\" class=\"dataframe\">\n",
       "  <thead>\n",
       "    <tr style=\"text-align: right;\">\n",
       "      <th>result</th>\n",
       "      <th>ACCEPT</th>\n",
       "      <th>AUTHORIZE</th>\n",
       "      <th>REJECT</th>\n",
       "    </tr>\n",
       "    <tr>\n",
       "      <th>bin</th>\n",
       "      <th></th>\n",
       "      <th></th>\n",
       "      <th></th>\n",
       "    </tr>\n",
       "  </thead>\n",
       "  <tbody>\n",
       "    <tr>\n",
       "      <th>222738</th>\n",
       "      <td>0.00</td>\n",
       "      <td>0.00</td>\n",
       "      <td>1.16</td>\n",
       "    </tr>\n",
       "    <tr>\n",
       "      <th>222746</th>\n",
       "      <td>0.00</td>\n",
       "      <td>0.00</td>\n",
       "      <td>0.99</td>\n",
       "    </tr>\n",
       "    <tr>\n",
       "      <th>222763</th>\n",
       "      <td>15,884.25</td>\n",
       "      <td>56.40</td>\n",
       "      <td>34,509.30</td>\n",
       "    </tr>\n",
       "  </tbody>\n",
       "</table>\n",
       "</div>"
      ],
      "text/plain": [
       "result    ACCEPT  AUTHORIZE    REJECT\n",
       "bin                                  \n",
       "222738      0.00       0.00      1.16\n",
       "222746      0.00       0.00      0.99\n",
       "222763 15,884.25      56.40 34,509.30"
      ]
     },
     "execution_count": 63,
     "metadata": {},
     "output_type": "execute_result"
    }
   ],
   "source": [
    "table.head(3)"
   ]
  },
  {
   "cell_type": "code",
   "execution_count": null,
   "id": "783aade6",
   "metadata": {},
   "outputs": [],
   "source": []
  },
  {
   "cell_type": "code",
   "execution_count": null,
   "id": "a91a5529",
   "metadata": {},
   "outputs": [],
   "source": []
  },
  {
   "cell_type": "code",
   "execution_count": null,
   "id": "9f5c8465",
   "metadata": {},
   "outputs": [],
   "source": []
  },
  {
   "cell_type": "code",
   "execution_count": null,
   "id": "32088918",
   "metadata": {},
   "outputs": [],
   "source": []
  },
  {
   "cell_type": "markdown",
   "id": "e69f29d8",
   "metadata": {},
   "source": [
    "## Pivote Table BIN"
   ]
  },
  {
   "cell_type": "code",
   "execution_count": 65,
   "id": "81182592",
   "metadata": {},
   "outputs": [],
   "source": [
    "df_1=df[['bin','result','usd_amount']]"
   ]
  },
  {
   "cell_type": "code",
   "execution_count": 66,
   "id": "13ba0e45",
   "metadata": {},
   "outputs": [
    {
     "data": {
      "text/html": [
       "<div>\n",
       "<style scoped>\n",
       "    .dataframe tbody tr th:only-of-type {\n",
       "        vertical-align: middle;\n",
       "    }\n",
       "\n",
       "    .dataframe tbody tr th {\n",
       "        vertical-align: top;\n",
       "    }\n",
       "\n",
       "    .dataframe thead th {\n",
       "        text-align: right;\n",
       "    }\n",
       "</style>\n",
       "<table border=\"1\" class=\"dataframe\">\n",
       "  <thead>\n",
       "    <tr style=\"text-align: right;\">\n",
       "      <th></th>\n",
       "      <th>bin</th>\n",
       "      <th>result</th>\n",
       "      <th>usd_amount</th>\n",
       "    </tr>\n",
       "  </thead>\n",
       "  <tbody>\n",
       "    <tr>\n",
       "      <th>0</th>\n",
       "      <td>474525</td>\n",
       "      <td>REJECT</td>\n",
       "      <td>1.98</td>\n",
       "    </tr>\n",
       "    <tr>\n",
       "      <th>1</th>\n",
       "      <td>544891</td>\n",
       "      <td>REJECT</td>\n",
       "      <td>71.05</td>\n",
       "    </tr>\n",
       "    <tr>\n",
       "      <th>2</th>\n",
       "      <td>516306</td>\n",
       "      <td>REJECT</td>\n",
       "      <td>1.18</td>\n",
       "    </tr>\n",
       "    <tr>\n",
       "      <th>3</th>\n",
       "      <td>453211</td>\n",
       "      <td>ACCEPT</td>\n",
       "      <td>6.66</td>\n",
       "    </tr>\n",
       "  </tbody>\n",
       "</table>\n",
       "</div>"
      ],
      "text/plain": [
       "      bin  result  usd_amount\n",
       "0  474525  REJECT        1.98\n",
       "1  544891  REJECT       71.05\n",
       "2  516306  REJECT        1.18\n",
       "3  453211  ACCEPT        6.66"
      ]
     },
     "execution_count": 66,
     "metadata": {},
     "output_type": "execute_result"
    }
   ],
   "source": [
    "df_1.head(4)"
   ]
  },
  {
   "cell_type": "code",
   "execution_count": 67,
   "id": "7dd265ed",
   "metadata": {},
   "outputs": [],
   "source": [
    "table = pd.pivot_table(df_1, values='usd_amount', index=['bin'],\n",
    "                    columns=['result'], aggfunc=np.sum, fill_value=0)"
   ]
  },
  {
   "cell_type": "code",
   "execution_count": 68,
   "id": "a16534f3",
   "metadata": {},
   "outputs": [
    {
     "data": {
      "text/html": [
       "<div>\n",
       "<style scoped>\n",
       "    .dataframe tbody tr th:only-of-type {\n",
       "        vertical-align: middle;\n",
       "    }\n",
       "\n",
       "    .dataframe tbody tr th {\n",
       "        vertical-align: top;\n",
       "    }\n",
       "\n",
       "    .dataframe thead th {\n",
       "        text-align: right;\n",
       "    }\n",
       "</style>\n",
       "<table border=\"1\" class=\"dataframe\">\n",
       "  <thead>\n",
       "    <tr style=\"text-align: right;\">\n",
       "      <th>result</th>\n",
       "      <th>ACCEPT</th>\n",
       "      <th>AUTHORIZE</th>\n",
       "      <th>REJECT</th>\n",
       "    </tr>\n",
       "    <tr>\n",
       "      <th>bin</th>\n",
       "      <th></th>\n",
       "      <th></th>\n",
       "      <th></th>\n",
       "    </tr>\n",
       "  </thead>\n",
       "  <tbody>\n",
       "    <tr>\n",
       "      <th>222738</th>\n",
       "      <td>0.00</td>\n",
       "      <td>0.00</td>\n",
       "      <td>1.16</td>\n",
       "    </tr>\n",
       "    <tr>\n",
       "      <th>222746</th>\n",
       "      <td>0.00</td>\n",
       "      <td>0.00</td>\n",
       "      <td>0.99</td>\n",
       "    </tr>\n",
       "    <tr>\n",
       "      <th>222763</th>\n",
       "      <td>15,884.25</td>\n",
       "      <td>56.40</td>\n",
       "      <td>34,509.30</td>\n",
       "    </tr>\n",
       "    <tr>\n",
       "      <th>222768</th>\n",
       "      <td>0.00</td>\n",
       "      <td>0.00</td>\n",
       "      <td>2.28</td>\n",
       "    </tr>\n",
       "  </tbody>\n",
       "</table>\n",
       "</div>"
      ],
      "text/plain": [
       "result    ACCEPT  AUTHORIZE    REJECT\n",
       "bin                                  \n",
       "222738      0.00       0.00      1.16\n",
       "222746      0.00       0.00      0.99\n",
       "222763 15,884.25      56.40 34,509.30\n",
       "222768      0.00       0.00      2.28"
      ]
     },
     "execution_count": 68,
     "metadata": {},
     "output_type": "execute_result"
    }
   ],
   "source": [
    "table.head(4)"
   ]
  },
  {
   "cell_type": "code",
   "execution_count": null,
   "id": "0732c804",
   "metadata": {},
   "outputs": [],
   "source": []
  },
  {
   "cell_type": "code",
   "execution_count": null,
   "id": "3fa43ca7",
   "metadata": {},
   "outputs": [],
   "source": []
  },
  {
   "cell_type": "code",
   "execution_count": null,
   "id": "6601047c",
   "metadata": {},
   "outputs": [],
   "source": []
  },
  {
   "cell_type": "code",
   "execution_count": null,
   "id": "7b03d1e6",
   "metadata": {},
   "outputs": [],
   "source": []
  },
  {
   "cell_type": "code",
   "execution_count": null,
   "id": "d687999b",
   "metadata": {},
   "outputs": [],
   "source": []
  }
 ],
 "metadata": {
  "kernelspec": {
   "display_name": "conda_python3",
   "language": "python",
   "name": "conda_python3"
  },
  "language_info": {
   "codemirror_mode": {
    "name": "ipython",
    "version": 3
   },
   "file_extension": ".py",
   "mimetype": "text/x-python",
   "name": "python",
   "nbconvert_exporter": "python",
   "pygments_lexer": "ipython3",
   "version": "3.6.13"
  }
 },
 "nbformat": 4,
 "nbformat_minor": 5
}
