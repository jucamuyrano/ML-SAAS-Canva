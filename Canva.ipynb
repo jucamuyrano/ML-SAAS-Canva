{
 "cells": [
  {
   "cell_type": "markdown",
   "id": "f56213ab",
   "metadata": {},
   "source": [
    "## Import Libraries"
   ]
  },
  {
   "cell_type": "code",
   "execution_count": 1,
   "id": "26362f09",
   "metadata": {},
   "outputs": [
    {
     "name": "stdout",
     "output_type": "stream",
     "text": [
      "Requirement already satisfied: awswrangler in /home/ec2-user/anaconda3/envs/python3/lib/python3.6/site-packages (2.13.0)\n",
      "Requirement already satisfied: requests-aws4auth<2.0.0,>=1.1.1 in /home/ec2-user/anaconda3/envs/python3/lib/python3.6/site-packages (from awswrangler) (1.1.1)\n",
      "Requirement already satisfied: pyarrow<6.1.0,>=2.0.0 in /home/ec2-user/anaconda3/envs/python3/lib/python3.6/site-packages (from awswrangler) (6.0.1)\n",
      "Requirement already satisfied: boto3<2.0.0,>=1.20.17 in /home/ec2-user/anaconda3/envs/python3/lib/python3.6/site-packages (from awswrangler) (1.20.25)\n",
      "Requirement already satisfied: pymysql<1.1.0,>=0.9.0 in /home/ec2-user/anaconda3/envs/python3/lib/python3.6/site-packages (from awswrangler) (1.0.2)\n",
      "Requirement already satisfied: jsonpath-ng<2.0.0,>=1.5.3 in /home/ec2-user/anaconda3/envs/python3/lib/python3.6/site-packages (from awswrangler) (1.5.3)\n",
      "Requirement already satisfied: redshift-connector<2.1.0,>=2.0.889 in /home/ec2-user/anaconda3/envs/python3/lib/python3.6/site-packages (from awswrangler) (2.0.902)\n",
      "Requirement already satisfied: botocore<2.0.0,>=1.23.17 in /home/ec2-user/anaconda3/envs/python3/lib/python3.6/site-packages (from awswrangler) (1.23.25)\n",
      "Requirement already satisfied: pg8000<1.23.0,>=1.16.0 in /home/ec2-user/anaconda3/envs/python3/lib/python3.6/site-packages (from awswrangler) (1.22.1)\n",
      "Requirement already satisfied: openpyxl<3.1.0,>=3.0.0 in /home/ec2-user/anaconda3/envs/python3/lib/python3.6/site-packages (from awswrangler) (3.0.6)\n",
      "Requirement already satisfied: pandas<1.2.0,>=1.1.0 in /home/ec2-user/anaconda3/envs/python3/lib/python3.6/site-packages (from awswrangler) (1.1.5)\n",
      "Requirement already satisfied: xlwt<2.0.0,>=1.3.0 in /home/ec2-user/anaconda3/envs/python3/lib/python3.6/site-packages (from awswrangler) (1.3.0)\n",
      "Requirement already satisfied: numpy<2.0.0,>=1.18.0 in /home/ec2-user/anaconda3/envs/python3/lib/python3.6/site-packages (from awswrangler) (1.19.5)\n",
      "Requirement already satisfied: progressbar2<4.0.0,>=3.53.3 in /home/ec2-user/anaconda3/envs/python3/lib/python3.6/site-packages (from awswrangler) (3.55.0)\n",
      "Requirement already satisfied: xlrd<3.0.0,>=2.0.1 in /home/ec2-user/anaconda3/envs/python3/lib/python3.6/site-packages (from awswrangler) (2.0.1)\n",
      "Requirement already satisfied: opensearch-py<2.0.0,>=1.0.0 in /home/ec2-user/anaconda3/envs/python3/lib/python3.6/site-packages (from awswrangler) (1.0.0)\n",
      "Requirement already satisfied: jmespath<1.0.0,>=0.7.1 in /home/ec2-user/anaconda3/envs/python3/lib/python3.6/site-packages (from boto3<2.0.0,>=1.20.17->awswrangler) (0.10.0)\n",
      "Requirement already satisfied: s3transfer<0.6.0,>=0.5.0 in /home/ec2-user/anaconda3/envs/python3/lib/python3.6/site-packages (from boto3<2.0.0,>=1.20.17->awswrangler) (0.5.0)\n",
      "Requirement already satisfied: python-dateutil<3.0.0,>=2.1 in /home/ec2-user/anaconda3/envs/python3/lib/python3.6/site-packages (from botocore<2.0.0,>=1.23.17->awswrangler) (2.8.1)\n",
      "Requirement already satisfied: urllib3<1.27,>=1.25.4 in /home/ec2-user/anaconda3/envs/python3/lib/python3.6/site-packages (from botocore<2.0.0,>=1.23.17->awswrangler) (1.26.7)\n",
      "Requirement already satisfied: ply in /home/ec2-user/anaconda3/envs/python3/lib/python3.6/site-packages (from jsonpath-ng<2.0.0,>=1.5.3->awswrangler) (3.11)\n",
      "Requirement already satisfied: six in /home/ec2-user/anaconda3/envs/python3/lib/python3.6/site-packages (from jsonpath-ng<2.0.0,>=1.5.3->awswrangler) (1.15.0)\n",
      "Requirement already satisfied: decorator in /home/ec2-user/anaconda3/envs/python3/lib/python3.6/site-packages (from jsonpath-ng<2.0.0,>=1.5.3->awswrangler) (4.4.2)\n",
      "Requirement already satisfied: et-xmlfile in /home/ec2-user/anaconda3/envs/python3/lib/python3.6/site-packages (from openpyxl<3.1.0,>=3.0.0->awswrangler) (1.0.1)\n",
      "Requirement already satisfied: jdcal in /home/ec2-user/anaconda3/envs/python3/lib/python3.6/site-packages (from openpyxl<3.1.0,>=3.0.0->awswrangler) (1.4.1)\n",
      "Requirement already satisfied: certifi in /home/ec2-user/anaconda3/envs/python3/lib/python3.6/site-packages (from opensearch-py<2.0.0,>=1.0.0->awswrangler) (2021.5.30)\n",
      "Requirement already satisfied: pytz>=2017.2 in /home/ec2-user/anaconda3/envs/python3/lib/python3.6/site-packages (from pandas<1.2.0,>=1.1.0->awswrangler) (2021.1)\n",
      "Requirement already satisfied: scramp>=1.4.1 in /home/ec2-user/anaconda3/envs/python3/lib/python3.6/site-packages (from pg8000<1.23.0,>=1.16.0->awswrangler) (1.4.1)\n",
      "Requirement already satisfied: python-utils>=2.3.0 in /home/ec2-user/anaconda3/envs/python3/lib/python3.6/site-packages (from progressbar2<4.0.0,>=3.53.3->awswrangler) (3.0.0)\n",
      "Requirement already satisfied: beautifulsoup4<5.0.0,>=4.7.0 in /home/ec2-user/anaconda3/envs/python3/lib/python3.6/site-packages (from redshift-connector<2.1.0,>=2.0.889->awswrangler) (4.9.3)\n",
      "Requirement already satisfied: lxml>=4.6.5 in /home/ec2-user/anaconda3/envs/python3/lib/python3.6/site-packages (from redshift-connector<2.1.0,>=2.0.889->awswrangler) (4.7.1)\n",
      "Requirement already satisfied: packaging in /home/ec2-user/anaconda3/envs/python3/lib/python3.6/site-packages (from redshift-connector<2.1.0,>=2.0.889->awswrangler) (21.3)\n",
      "Requirement already satisfied: requests<2.26.1,>=2.23.0 in /home/ec2-user/anaconda3/envs/python3/lib/python3.6/site-packages (from redshift-connector<2.1.0,>=2.0.889->awswrangler) (2.26.0)\n",
      "Requirement already satisfied: soupsieve>1.2 in /home/ec2-user/anaconda3/envs/python3/lib/python3.6/site-packages (from beautifulsoup4<5.0.0,>=4.7.0->redshift-connector<2.1.0,>=2.0.889->awswrangler) (2.0.1)\n",
      "Requirement already satisfied: charset-normalizer~=2.0.0 in /home/ec2-user/anaconda3/envs/python3/lib/python3.6/site-packages (from requests<2.26.1,>=2.23.0->redshift-connector<2.1.0,>=2.0.889->awswrangler) (2.0.9)\n",
      "Requirement already satisfied: idna<4,>=2.5 in /home/ec2-user/anaconda3/envs/python3/lib/python3.6/site-packages (from requests<2.26.1,>=2.23.0->redshift-connector<2.1.0,>=2.0.889->awswrangler) (3.1)\n",
      "Requirement already satisfied: asn1crypto>=1.4.0 in /home/ec2-user/anaconda3/envs/python3/lib/python3.6/site-packages (from scramp>=1.4.1->pg8000<1.23.0,>=1.16.0->awswrangler) (1.4.0)\n",
      "Requirement already satisfied: pyparsing!=3.0.5,>=2.0.2 in /home/ec2-user/anaconda3/envs/python3/lib/python3.6/site-packages (from packaging->redshift-connector<2.1.0,>=2.0.889->awswrangler) (2.4.7)\n"
     ]
    }
   ],
   "source": [
    "!pip install awswrangler"
   ]
  },
  {
   "cell_type": "code",
   "execution_count": 2,
   "id": "7dbc8f8f",
   "metadata": {},
   "outputs": [],
   "source": [
    "import awswrangler as wr\n",
    "import boto3\n",
    "\n",
    "mybucket = 'dlocal-eu1-office-live-sagemaker-aons'"
   ]
  },
  {
   "cell_type": "code",
   "execution_count": 3,
   "id": "3b79c46c",
   "metadata": {},
   "outputs": [],
   "source": [
    "import pandas as pd\n",
    "import numpy as np\n",
    "import matplotlib.pyplot as plt\n",
    "import seaborn as sns\n",
    "import warnings\n",
    "import decimal\n",
    "import math\n",
    "\n",
    "pd.set_option('display.max_columns', None)\n",
    "pd.set_option('display.max_rows', None)\n",
    "warnings.filterwarnings('ignore')\n",
    "pd.set_option('precision', 2)\n",
    "pd.set_option('display.float_format', lambda x: f'{x:,.2f}')"
   ]
  },
  {
   "cell_type": "markdown",
   "id": "365748df",
   "metadata": {},
   "source": [
    "## Upload Data Base"
   ]
  },
  {
   "cell_type": "code",
   "execution_count": 4,
   "id": "265e145c",
   "metadata": {},
   "outputs": [],
   "source": [
    "query = '''\n",
    "\n",
    "select\n",
    "    ml.case_id,\n",
    "    ca.bin,\n",
    "    ca.brand,\n",
    "    ca.category,\n",
    "    rc.usd_amount,\n",
    "    rc.online_verdict,\n",
    "    cc.result,\n",
    "    case\n",
    "        when rc.online_verdict_reason like '%Positive%'then 1\n",
    "        else 0\n",
    "    end as flag_PU,\n",
    "    case\n",
    "        when id_chargeback is not null then 1\n",
    "        else 0\n",
    "    end as flag_cbk,\n",
    "    ml.pred_score,\n",
    "    (array_max(transform(siv.same_card.same_card.approved.transaction_hours, x -> cast(x as int))))/24 card_age_days\n",
    "\n",
    "from risk.risk_risk_case rc\n",
    "\n",
    "join \"dlocal-eu1-office-live-machine-learning\".\"saas_test_dataset_new_merchants_20211004\" ml\n",
    "    on ml.case_id = rc.case_id\n",
    "    \n",
    "left join risk.risk_card ca\n",
    "    on ca.card_id = rc.card_id\n",
    "\n",
    "left join risk.risk_risk_case_collect cc\n",
    "    on cc.case_id = rc.case_id\n",
    "\n",
    "left join default.merchant_data_pf md\n",
    "    on rc.merchant_reference = md.merchant_reference\n",
    "    and rc.country_code = md.country_code\n",
    "\n",
    "left join dl_db_master.unipay_chargebacks cbk \n",
    "    on rc.ticket_id = cbk.id_boleto\n",
    "    and cc.result='ACCEPT'\n",
    "\n",
    "left join \"datalake_lookout\".\"sherlock_initial\" si \n",
    "    on cast(rc.case_id as varchar) = si.\"data.input.transaction.case_id\"\n",
    "\n",
    "left join \"datalake_lookout\".\"sherlock_initial_velocities\" siv\n",
    "    on siv.sherlock_initial_id = si.id\n",
    "\n",
    "where rc.merchant_reference = '30630'\n",
    "    and rc.operation_type in('WITH_CVV', 'WITHOUT_CVV', 'TOKEN')\n",
    "    and rc.created_date between date '2021-04-17' and date '2021-09-15'\n",
    ";\n",
    "\n",
    "'''"
   ]
  },
  {
   "cell_type": "code",
   "execution_count": 5,
   "id": "1d84933d",
   "metadata": {},
   "outputs": [
    {
     "name": "stdout",
     "output_type": "stream",
     "text": [
      "CPU times: user 39.6 s, sys: 1.56 s, total: 41.2 s\n",
      "Wall time: 8min 13s\n"
     ]
    }
   ],
   "source": [
    "%%time\n",
    "\n",
    "df_original = wr.athena.read_sql_query(\n",
    "    sql=query,\n",
    "    database = 'risk',\n",
    "    ctas_approach=False,\n",
    "    encryption = 'SSE_KMS',\n",
    "    kms_key = 'arn:aws:kms:eu-west-1:671054319719:key/38274908-aebb-4807-8d53-bb6d7a475090',\n",
    "    workgroup = 'dlocal-eu1-office-live-sagemaker-workgroup',\n",
    "    s3_output = 's3://dlocal-eu1-office-live-sagemaker-aons/dev'\n",
    ")"
   ]
  },
  {
   "cell_type": "code",
   "execution_count": 6,
   "id": "f63d436f",
   "metadata": {},
   "outputs": [
    {
     "name": "stdout",
     "output_type": "stream",
     "text": [
      "shape ---> (1818507, 11)\n",
      "\n",
      "<class 'pandas.core.frame.DataFrame'>\n",
      "RangeIndex: 1818507 entries, 0 to 1818506\n",
      "Data columns (total 11 columns):\n",
      " #   Column          Dtype  \n",
      "---  ------          -----  \n",
      " 0   case_id         object \n",
      " 1   bin             string \n",
      " 2   brand           string \n",
      " 3   category        string \n",
      " 4   usd_amount      object \n",
      " 5   online_verdict  string \n",
      " 6   result          string \n",
      " 7   flag_PU         Int32  \n",
      " 8   flag_cbk        Int32  \n",
      " 9   pred_score      float32\n",
      " 10  card_age_days   Int32  \n",
      "dtypes: Int32(3), float32(1), object(2), string(5)\n",
      "memory usage: 130.1+ MB\n",
      "None\n"
     ]
    }
   ],
   "source": [
    "df_original['case_id'] = df_original.case_id.astype(str)\n",
    "\n",
    "print('shape --->', df_original.shape)\n",
    "print('')\n",
    "print(df_original.info())"
   ]
  },
  {
   "cell_type": "code",
   "execution_count": 7,
   "id": "834dbfe4",
   "metadata": {},
   "outputs": [
    {
     "data": {
      "text/html": [
       "<div>\n",
       "<style scoped>\n",
       "    .dataframe tbody tr th:only-of-type {\n",
       "        vertical-align: middle;\n",
       "    }\n",
       "\n",
       "    .dataframe tbody tr th {\n",
       "        vertical-align: top;\n",
       "    }\n",
       "\n",
       "    .dataframe thead th {\n",
       "        text-align: right;\n",
       "    }\n",
       "</style>\n",
       "<table border=\"1\" class=\"dataframe\">\n",
       "  <thead>\n",
       "    <tr style=\"text-align: right;\">\n",
       "      <th></th>\n",
       "      <th>case_id</th>\n",
       "      <th>bin</th>\n",
       "      <th>brand</th>\n",
       "      <th>category</th>\n",
       "      <th>usd_amount</th>\n",
       "      <th>online_verdict</th>\n",
       "      <th>result</th>\n",
       "      <th>flag_PU</th>\n",
       "      <th>flag_cbk</th>\n",
       "      <th>pred_score</th>\n",
       "      <th>card_age_days</th>\n",
       "    </tr>\n",
       "  </thead>\n",
       "  <tbody>\n",
       "    <tr>\n",
       "      <th>601619</th>\n",
       "      <td>995969814</td>\n",
       "      <td>550209</td>\n",
       "      <td>MC</td>\n",
       "      <td>GOLD</td>\n",
       "      <td>55.62</td>\n",
       "      <td>ACCEPT</td>\n",
       "      <td>REJECT</td>\n",
       "      <td>0</td>\n",
       "      <td>0</td>\n",
       "      <td>949.73</td>\n",
       "      <td>&lt;NA&gt;</td>\n",
       "    </tr>\n",
       "    <tr>\n",
       "      <th>520465</th>\n",
       "      <td>999817825</td>\n",
       "      <td>516292</td>\n",
       "      <td>MC</td>\n",
       "      <td>PLATINUM</td>\n",
       "      <td>6.73</td>\n",
       "      <td>ACCEPT</td>\n",
       "      <td>REJECT</td>\n",
       "      <td>1</td>\n",
       "      <td>0</td>\n",
       "      <td>806.15</td>\n",
       "      <td>29</td>\n",
       "    </tr>\n",
       "    <tr>\n",
       "      <th>1149542</th>\n",
       "      <td>837891199</td>\n",
       "      <td>498406</td>\n",
       "      <td>VI</td>\n",
       "      <td>PLATINUM</td>\n",
       "      <td>62.18</td>\n",
       "      <td>ACCEPT</td>\n",
       "      <td>ACCEPT</td>\n",
       "      <td>1</td>\n",
       "      <td>0</td>\n",
       "      <td>938.41</td>\n",
       "      <td>160</td>\n",
       "    </tr>\n",
       "    <tr>\n",
       "      <th>200313</th>\n",
       "      <td>650551042</td>\n",
       "      <td>550209</td>\n",
       "      <td>MC</td>\n",
       "      <td>GOLD</td>\n",
       "      <td>6.65</td>\n",
       "      <td>ACCEPT</td>\n",
       "      <td>REJECT</td>\n",
       "      <td>0</td>\n",
       "      <td>0</td>\n",
       "      <td>825.36</td>\n",
       "      <td>&lt;NA&gt;</td>\n",
       "    </tr>\n",
       "    <tr>\n",
       "      <th>234773</th>\n",
       "      <td>945878698</td>\n",
       "      <td>435087</td>\n",
       "      <td>VI</td>\n",
       "      <td>CORPORATE T&amp;E</td>\n",
       "      <td>1.11</td>\n",
       "      <td>ACCEPT</td>\n",
       "      <td>REJECT</td>\n",
       "      <td>0</td>\n",
       "      <td>0</td>\n",
       "      <td>126.13</td>\n",
       "      <td>&lt;NA&gt;</td>\n",
       "    </tr>\n",
       "    <tr>\n",
       "      <th>802708</th>\n",
       "      <td>580487078</td>\n",
       "      <td>552693</td>\n",
       "      <td>MC</td>\n",
       "      <td>BUSINESS</td>\n",
       "      <td>6.60</td>\n",
       "      <td>ACCEPT</td>\n",
       "      <td>REJECT</td>\n",
       "      <td>0</td>\n",
       "      <td>0</td>\n",
       "      <td>883.21</td>\n",
       "      <td>&lt;NA&gt;</td>\n",
       "    </tr>\n",
       "    <tr>\n",
       "      <th>1070058</th>\n",
       "      <td>766262396</td>\n",
       "      <td>550209</td>\n",
       "      <td>MC</td>\n",
       "      <td>GOLD</td>\n",
       "      <td>6.87</td>\n",
       "      <td>ACCEPT</td>\n",
       "      <td>REJECT</td>\n",
       "      <td>0</td>\n",
       "      <td>0</td>\n",
       "      <td>728.42</td>\n",
       "      <td>&lt;NA&gt;</td>\n",
       "    </tr>\n",
       "    <tr>\n",
       "      <th>1717629</th>\n",
       "      <td>713859111</td>\n",
       "      <td>550209</td>\n",
       "      <td>MC</td>\n",
       "      <td>GOLD</td>\n",
       "      <td>6.83</td>\n",
       "      <td>ACCEPT</td>\n",
       "      <td>REJECT</td>\n",
       "      <td>0</td>\n",
       "      <td>0</td>\n",
       "      <td>0.04</td>\n",
       "      <td>14</td>\n",
       "    </tr>\n",
       "    <tr>\n",
       "      <th>399442</th>\n",
       "      <td>788774448</td>\n",
       "      <td>523284</td>\n",
       "      <td>MC</td>\n",
       "      <td>STANDARD</td>\n",
       "      <td>8.50</td>\n",
       "      <td>ACCEPT</td>\n",
       "      <td>REJECT</td>\n",
       "      <td>0</td>\n",
       "      <td>0</td>\n",
       "      <td>884.58</td>\n",
       "      <td>&lt;NA&gt;</td>\n",
       "    </tr>\n",
       "    <tr>\n",
       "      <th>1797361</th>\n",
       "      <td>983667648</td>\n",
       "      <td>540105</td>\n",
       "      <td>MC</td>\n",
       "      <td>STANDARD</td>\n",
       "      <td>1.15</td>\n",
       "      <td>ACCEPT</td>\n",
       "      <td>REJECT</td>\n",
       "      <td>1</td>\n",
       "      <td>0</td>\n",
       "      <td>672.01</td>\n",
       "      <td>260</td>\n",
       "    </tr>\n",
       "  </tbody>\n",
       "</table>\n",
       "</div>"
      ],
      "text/plain": [
       "           case_id     bin brand       category usd_amount online_verdict  \\\n",
       "601619   995969814  550209    MC           GOLD      55.62         ACCEPT   \n",
       "520465   999817825  516292    MC       PLATINUM       6.73         ACCEPT   \n",
       "1149542  837891199  498406    VI       PLATINUM      62.18         ACCEPT   \n",
       "200313   650551042  550209    MC           GOLD       6.65         ACCEPT   \n",
       "234773   945878698  435087    VI  CORPORATE T&E       1.11         ACCEPT   \n",
       "802708   580487078  552693    MC       BUSINESS       6.60         ACCEPT   \n",
       "1070058  766262396  550209    MC           GOLD       6.87         ACCEPT   \n",
       "1717629  713859111  550209    MC           GOLD       6.83         ACCEPT   \n",
       "399442   788774448  523284    MC       STANDARD       8.50         ACCEPT   \n",
       "1797361  983667648  540105    MC       STANDARD       1.15         ACCEPT   \n",
       "\n",
       "         result  flag_PU  flag_cbk  pred_score  card_age_days  \n",
       "601619   REJECT        0         0      949.73           <NA>  \n",
       "520465   REJECT        1         0      806.15             29  \n",
       "1149542  ACCEPT        1         0      938.41            160  \n",
       "200313   REJECT        0         0      825.36           <NA>  \n",
       "234773   REJECT        0         0      126.13           <NA>  \n",
       "802708   REJECT        0         0      883.21           <NA>  \n",
       "1070058  REJECT        0         0      728.42           <NA>  \n",
       "1717629  REJECT        0         0        0.04             14  \n",
       "399442   REJECT        0         0      884.58           <NA>  \n",
       "1797361  REJECT        1         0      672.01            260  "
      ]
     },
     "execution_count": 7,
     "metadata": {},
     "output_type": "execute_result"
    }
   ],
   "source": [
    "df_original.sample(10)"
   ]
  },
  {
   "cell_type": "code",
   "execution_count": 8,
   "id": "8acfa325",
   "metadata": {},
   "outputs": [
    {
     "data": {
      "text/plain": [
       "online_verdict\n",
       "ACCEPT    1780333\n",
       "REJECT      38143\n",
       "dtype: int64"
      ]
     },
     "execution_count": 8,
     "metadata": {},
     "output_type": "execute_result"
    }
   ],
   "source": [
    "df_original.value_counts('online_verdict')"
   ]
  },
  {
   "cell_type": "code",
   "execution_count": 9,
   "id": "55933778",
   "metadata": {},
   "outputs": [
    {
     "data": {
      "text/plain": [
       "result\n",
       "REJECT       1025460\n",
       "ACCEPT        788766\n",
       "AUTHORIZE       4257\n",
       "dtype: int64"
      ]
     },
     "execution_count": 9,
     "metadata": {},
     "output_type": "execute_result"
    }
   ],
   "source": [
    "df_original.value_counts('result')"
   ]
  },
  {
   "cell_type": "code",
   "execution_count": 10,
   "id": "1485f7ee",
   "metadata": {},
   "outputs": [
    {
     "data": {
      "text/plain": [
       "flag_cbk\n",
       "0    1814190\n",
       "1       4317\n",
       "dtype: int64"
      ]
     },
     "execution_count": 10,
     "metadata": {},
     "output_type": "execute_result"
    }
   ],
   "source": [
    "df_original.value_counts('flag_cbk')"
   ]
  },
  {
   "cell_type": "code",
   "execution_count": 11,
   "id": "d4ae1362",
   "metadata": {},
   "outputs": [
    {
     "data": {
      "text/plain": [
       "flag_PU\n",
       "0    1411495\n",
       "1     407012\n",
       "dtype: int64"
      ]
     },
     "execution_count": 11,
     "metadata": {},
     "output_type": "execute_result"
    }
   ],
   "source": [
    "df_original.value_counts('flag_PU')"
   ]
  },
  {
   "cell_type": "markdown",
   "id": "0d5f11e6",
   "metadata": {},
   "source": [
    "## Cast usd_amount"
   ]
  },
  {
   "cell_type": "code",
   "execution_count": 12,
   "id": "7778b6c2",
   "metadata": {},
   "outputs": [
    {
     "data": {
      "text/plain": [
       "case_id            object\n",
       "bin                string\n",
       "brand              string\n",
       "category           string\n",
       "usd_amount         object\n",
       "online_verdict     string\n",
       "result             string\n",
       "flag_PU             Int32\n",
       "flag_cbk            Int32\n",
       "pred_score        float32\n",
       "card_age_days       Int32\n",
       "dtype: object"
      ]
     },
     "execution_count": 12,
     "metadata": {},
     "output_type": "execute_result"
    }
   ],
   "source": [
    "df_original.dtypes"
   ]
  },
  {
   "cell_type": "code",
   "execution_count": 13,
   "id": "5d38c3a2",
   "metadata": {},
   "outputs": [],
   "source": [
    "df_original=df_original.astype({'usd_amount': 'float32'})"
   ]
  },
  {
   "cell_type": "code",
   "execution_count": 14,
   "id": "68f07b1e",
   "metadata": {},
   "outputs": [
    {
     "data": {
      "text/plain": [
       "case_id            object\n",
       "bin                string\n",
       "brand              string\n",
       "category           string\n",
       "usd_amount        float32\n",
       "online_verdict     string\n",
       "result             string\n",
       "flag_PU             Int32\n",
       "flag_cbk            Int32\n",
       "pred_score        float32\n",
       "card_age_days       Int32\n",
       "dtype: object"
      ]
     },
     "execution_count": 14,
     "metadata": {},
     "output_type": "execute_result"
    }
   ],
   "source": [
    "df_original.dtypes"
   ]
  },
  {
   "cell_type": "markdown",
   "id": "73402a9c",
   "metadata": {},
   "source": [
    "## Score Ranges"
   ]
  },
  {
   "cell_type": "code",
   "execution_count": 15,
   "id": "072d03d7",
   "metadata": {},
   "outputs": [
    {
     "data": {
      "text/plain": [
       "Index(['case_id', 'bin', 'brand', 'category', 'usd_amount', 'online_verdict',\n",
       "       'result', 'flag_PU', 'flag_cbk', 'pred_score', 'card_age_days'],\n",
       "      dtype='object')"
      ]
     },
     "execution_count": 15,
     "metadata": {},
     "output_type": "execute_result"
    }
   ],
   "source": [
    "df_original.columns"
   ]
  },
  {
   "cell_type": "code",
   "execution_count": 16,
   "id": "e49a4dde",
   "metadata": {},
   "outputs": [],
   "source": [
    "df = df_original[['case_id', 'bin', 'brand', 'category', 'card_age_days', 'usd_amount', 'online_verdict',\n",
    "       'result', 'flag_PU', 'flag_cbk', 'pred_score']]"
   ]
  },
  {
   "cell_type": "code",
   "execution_count": 17,
   "id": "457d1a5f",
   "metadata": {},
   "outputs": [],
   "source": [
    "def agrupar_score_inhouse():\n",
    "    \n",
    "    values_list_inhouse = [0, 25, 50, 75, 100, 125, 150, 175, 200, 225, 250, 275, 300, 325, 350, 375, 400, 425, 450, 475, \n",
    "                           500, 525, 550, 575, 600, 625, 650, 675, 700, 725, 750, 775, 800, 825, 850, 875, 900, 925, 950, 975, 1000]\n",
    "\n",
    "    conditions_inhouse = []\n",
    "\n",
    "    for i in values_list_inhouse:\n",
    "        if i == 0:\n",
    "            condicion = (df['pred_score'] == 0)\n",
    "            conditions_inhouse.append(condicion)\n",
    "        else:\n",
    "            condicion = (df['pred_score'] < i)\n",
    "            conditions_inhouse.append(condicion)\n",
    "            \n",
    "    df['score_group'] = np.select(conditions_inhouse, values_list_inhouse)\n",
    "    \n",
    "agrupar_score_inhouse()"
   ]
  },
  {
   "cell_type": "code",
   "execution_count": 18,
   "id": "4159c3f7",
   "metadata": {},
   "outputs": [
    {
     "data": {
      "text/html": [
       "<div>\n",
       "<style scoped>\n",
       "    .dataframe tbody tr th:only-of-type {\n",
       "        vertical-align: middle;\n",
       "    }\n",
       "\n",
       "    .dataframe tbody tr th {\n",
       "        vertical-align: top;\n",
       "    }\n",
       "\n",
       "    .dataframe thead th {\n",
       "        text-align: right;\n",
       "    }\n",
       "</style>\n",
       "<table border=\"1\" class=\"dataframe\">\n",
       "  <thead>\n",
       "    <tr style=\"text-align: right;\">\n",
       "      <th></th>\n",
       "      <th>case_id</th>\n",
       "      <th>bin</th>\n",
       "      <th>brand</th>\n",
       "      <th>category</th>\n",
       "      <th>card_age_days</th>\n",
       "      <th>usd_amount</th>\n",
       "      <th>online_verdict</th>\n",
       "      <th>result</th>\n",
       "      <th>flag_PU</th>\n",
       "      <th>flag_cbk</th>\n",
       "      <th>pred_score</th>\n",
       "      <th>score_group</th>\n",
       "    </tr>\n",
       "  </thead>\n",
       "  <tbody>\n",
       "    <tr>\n",
       "      <th>0</th>\n",
       "      <td>1010891913</td>\n",
       "      <td>455181</td>\n",
       "      <td>VI</td>\n",
       "      <td>CLASSIC</td>\n",
       "      <td>92</td>\n",
       "      <td>6.68</td>\n",
       "      <td>ACCEPT</td>\n",
       "      <td>ACCEPT</td>\n",
       "      <td>1</td>\n",
       "      <td>0</td>\n",
       "      <td>0.15</td>\n",
       "      <td>25</td>\n",
       "    </tr>\n",
       "    <tr>\n",
       "      <th>1</th>\n",
       "      <td>999632517</td>\n",
       "      <td>230650</td>\n",
       "      <td>MC</td>\n",
       "      <td>GOLD</td>\n",
       "      <td>&lt;NA&gt;</td>\n",
       "      <td>1.16</td>\n",
       "      <td>ACCEPT</td>\n",
       "      <td>REJECT</td>\n",
       "      <td>0</td>\n",
       "      <td>0</td>\n",
       "      <td>264.93</td>\n",
       "      <td>275</td>\n",
       "    </tr>\n",
       "    <tr>\n",
       "      <th>2</th>\n",
       "      <td>696715251</td>\n",
       "      <td>535016</td>\n",
       "      <td>MC</td>\n",
       "      <td>STANDARD</td>\n",
       "      <td>69</td>\n",
       "      <td>1.18</td>\n",
       "      <td>ACCEPT</td>\n",
       "      <td>REJECT</td>\n",
       "      <td>0</td>\n",
       "      <td>0</td>\n",
       "      <td>138.50</td>\n",
       "      <td>150</td>\n",
       "    </tr>\n",
       "    <tr>\n",
       "      <th>3</th>\n",
       "      <td>688038256</td>\n",
       "      <td>553450</td>\n",
       "      <td>MC</td>\n",
       "      <td>STANDARD</td>\n",
       "      <td>&lt;NA&gt;</td>\n",
       "      <td>6.79</td>\n",
       "      <td>ACCEPT</td>\n",
       "      <td>ACCEPT</td>\n",
       "      <td>0</td>\n",
       "      <td>0</td>\n",
       "      <td>874.09</td>\n",
       "      <td>875</td>\n",
       "    </tr>\n",
       "    <tr>\n",
       "      <th>4</th>\n",
       "      <td>937560310</td>\n",
       "      <td>550209</td>\n",
       "      <td>MC</td>\n",
       "      <td>GOLD</td>\n",
       "      <td>&lt;NA&gt;</td>\n",
       "      <td>1.09</td>\n",
       "      <td>ACCEPT</td>\n",
       "      <td>REJECT</td>\n",
       "      <td>0</td>\n",
       "      <td>0</td>\n",
       "      <td>358.19</td>\n",
       "      <td>375</td>\n",
       "    </tr>\n",
       "  </tbody>\n",
       "</table>\n",
       "</div>"
      ],
      "text/plain": [
       "      case_id     bin brand  category  card_age_days  usd_amount  \\\n",
       "0  1010891913  455181    VI   CLASSIC             92        6.68   \n",
       "1   999632517  230650    MC      GOLD           <NA>        1.16   \n",
       "2   696715251  535016    MC  STANDARD             69        1.18   \n",
       "3   688038256  553450    MC  STANDARD           <NA>        6.79   \n",
       "4   937560310  550209    MC      GOLD           <NA>        1.09   \n",
       "\n",
       "  online_verdict  result  flag_PU  flag_cbk  pred_score  score_group  \n",
       "0         ACCEPT  ACCEPT        1         0        0.15           25  \n",
       "1         ACCEPT  REJECT        0         0      264.93          275  \n",
       "2         ACCEPT  REJECT        0         0      138.50          150  \n",
       "3         ACCEPT  ACCEPT        0         0      874.09          875  \n",
       "4         ACCEPT  REJECT        0         0      358.19          375  "
      ]
     },
     "execution_count": 18,
     "metadata": {},
     "output_type": "execute_result"
    }
   ],
   "source": [
    "df.head()"
   ]
  },
  {
   "cell_type": "markdown",
   "id": "bb8126c6",
   "metadata": {},
   "source": [
    "## Card Age Ranges"
   ]
  },
  {
   "cell_type": "code",
   "execution_count": 19,
   "id": "330709c3",
   "metadata": {},
   "outputs": [],
   "source": [
    "df['card_age_days'].fillna(0, inplace=True)"
   ]
  },
  {
   "cell_type": "code",
   "execution_count": 20,
   "id": "5864040c",
   "metadata": {},
   "outputs": [],
   "source": [
    "df['card_age_range'] = df.apply(lambda x:'>90' if x['card_age_days']>= 90 else('>30' if  x['card_age_days']>=30 else('>10' if  x['card_age_days']>=10 else('>2' if  x['card_age_days']>=2 else('<2' if  x['card_age_days']>0 else '0')))),axis=1)\n"
   ]
  },
  {
   "cell_type": "code",
   "execution_count": 21,
   "id": "f15f6bf6",
   "metadata": {},
   "outputs": [
    {
     "data": {
      "text/plain": [
       "card_age_range\n",
       "0      1066716\n",
       ">30     339634\n",
       ">90     330587\n",
       ">10      68207\n",
       ">2       11608\n",
       "<2        1755\n",
       "dtype: int64"
      ]
     },
     "execution_count": 21,
     "metadata": {},
     "output_type": "execute_result"
    }
   ],
   "source": [
    "df.value_counts('card_age_range')"
   ]
  },
  {
   "cell_type": "markdown",
   "id": "840bca78",
   "metadata": {},
   "source": [
    "## Filter Positive Users"
   ]
  },
  {
   "cell_type": "code",
   "execution_count": 22,
   "id": "f55be032",
   "metadata": {},
   "outputs": [
    {
     "data": {
      "text/plain": [
       "flag_PU\n",
       "0    1411495\n",
       "dtype: int64"
      ]
     },
     "execution_count": 22,
     "metadata": {},
     "output_type": "execute_result"
    }
   ],
   "source": [
    "df=df[df['flag_PU']==0]\n",
    "df.value_counts('flag_PU')"
   ]
  },
  {
   "cell_type": "code",
   "execution_count": 23,
   "id": "8bd60d9b",
   "metadata": {},
   "outputs": [],
   "source": [
    "df.drop(columns=['flag_PU'], inplace=True)"
   ]
  },
  {
   "cell_type": "code",
   "execution_count": 24,
   "id": "9937e872",
   "metadata": {},
   "outputs": [
    {
     "data": {
      "text/html": [
       "<div>\n",
       "<style scoped>\n",
       "    .dataframe tbody tr th:only-of-type {\n",
       "        vertical-align: middle;\n",
       "    }\n",
       "\n",
       "    .dataframe tbody tr th {\n",
       "        vertical-align: top;\n",
       "    }\n",
       "\n",
       "    .dataframe thead th {\n",
       "        text-align: right;\n",
       "    }\n",
       "</style>\n",
       "<table border=\"1\" class=\"dataframe\">\n",
       "  <thead>\n",
       "    <tr style=\"text-align: right;\">\n",
       "      <th></th>\n",
       "      <th>case_id</th>\n",
       "      <th>bin</th>\n",
       "      <th>brand</th>\n",
       "      <th>category</th>\n",
       "      <th>card_age_days</th>\n",
       "      <th>usd_amount</th>\n",
       "      <th>online_verdict</th>\n",
       "      <th>result</th>\n",
       "      <th>flag_cbk</th>\n",
       "      <th>pred_score</th>\n",
       "      <th>score_group</th>\n",
       "      <th>card_age_range</th>\n",
       "    </tr>\n",
       "  </thead>\n",
       "  <tbody>\n",
       "    <tr>\n",
       "      <th>1019879</th>\n",
       "      <td>934584739</td>\n",
       "      <td>496046</td>\n",
       "      <td>VI</td>\n",
       "      <td>BUSINESS</td>\n",
       "      <td>0</td>\n",
       "      <td>1.10</td>\n",
       "      <td>ACCEPT</td>\n",
       "      <td>REJECT</td>\n",
       "      <td>0</td>\n",
       "      <td>463.98</td>\n",
       "      <td>475</td>\n",
       "      <td>0</td>\n",
       "    </tr>\n",
       "    <tr>\n",
       "      <th>1353254</th>\n",
       "      <td>900252793</td>\n",
       "      <td>415274</td>\n",
       "      <td>VI</td>\n",
       "      <td>GOLD</td>\n",
       "      <td>98</td>\n",
       "      <td>1.14</td>\n",
       "      <td>ACCEPT</td>\n",
       "      <td>REJECT</td>\n",
       "      <td>0</td>\n",
       "      <td>359.97</td>\n",
       "      <td>375</td>\n",
       "      <td>&gt;90</td>\n",
       "    </tr>\n",
       "    <tr>\n",
       "      <th>380378</th>\n",
       "      <td>879390652</td>\n",
       "      <td>546479</td>\n",
       "      <td>MC</td>\n",
       "      <td>STANDARD</td>\n",
       "      <td>0</td>\n",
       "      <td>1.15</td>\n",
       "      <td>ACCEPT</td>\n",
       "      <td>REJECT</td>\n",
       "      <td>0</td>\n",
       "      <td>353.78</td>\n",
       "      <td>375</td>\n",
       "      <td>0</td>\n",
       "    </tr>\n",
       "    <tr>\n",
       "      <th>1243195</th>\n",
       "      <td>577503874</td>\n",
       "      <td>498431</td>\n",
       "      <td>VI</td>\n",
       "      <td>BUSINESS</td>\n",
       "      <td>0</td>\n",
       "      <td>8.29</td>\n",
       "      <td>ACCEPT</td>\n",
       "      <td>ACCEPT</td>\n",
       "      <td>0</td>\n",
       "      <td>792.95</td>\n",
       "      <td>800</td>\n",
       "      <td>0</td>\n",
       "    </tr>\n",
       "    <tr>\n",
       "      <th>93283</th>\n",
       "      <td>694725562</td>\n",
       "      <td>550209</td>\n",
       "      <td>MC</td>\n",
       "      <td>GOLD</td>\n",
       "      <td>0</td>\n",
       "      <td>6.84</td>\n",
       "      <td>ACCEPT</td>\n",
       "      <td>REJECT</td>\n",
       "      <td>0</td>\n",
       "      <td>682.10</td>\n",
       "      <td>700</td>\n",
       "      <td>0</td>\n",
       "    </tr>\n",
       "  </tbody>\n",
       "</table>\n",
       "</div>"
      ],
      "text/plain": [
       "           case_id     bin brand  category  card_age_days  usd_amount  \\\n",
       "1019879  934584739  496046    VI  BUSINESS              0        1.10   \n",
       "1353254  900252793  415274    VI      GOLD             98        1.14   \n",
       "380378   879390652  546479    MC  STANDARD              0        1.15   \n",
       "1243195  577503874  498431    VI  BUSINESS              0        8.29   \n",
       "93283    694725562  550209    MC      GOLD              0        6.84   \n",
       "\n",
       "        online_verdict  result  flag_cbk  pred_score  score_group  \\\n",
       "1019879         ACCEPT  REJECT         0      463.98          475   \n",
       "1353254         ACCEPT  REJECT         0      359.97          375   \n",
       "380378          ACCEPT  REJECT         0      353.78          375   \n",
       "1243195         ACCEPT  ACCEPT         0      792.95          800   \n",
       "93283           ACCEPT  REJECT         0      682.10          700   \n",
       "\n",
       "        card_age_range  \n",
       "1019879              0  \n",
       "1353254            >90  \n",
       "380378               0  \n",
       "1243195              0  \n",
       "93283                0  "
      ]
     },
     "execution_count": 24,
     "metadata": {},
     "output_type": "execute_result"
    }
   ],
   "source": [
    "df.sample(5)"
   ]
  },
  {
   "cell_type": "markdown",
   "id": "04bf2395",
   "metadata": {},
   "source": [
    "## Filter dlocal REJECT"
   ]
  },
  {
   "cell_type": "code",
   "execution_count": 25,
   "id": "c59f7ee5",
   "metadata": {},
   "outputs": [
    {
     "data": {
      "text/plain": [
       "online_verdict\n",
       "ACCEPT    1373321\n",
       "dtype: int64"
      ]
     },
     "execution_count": 25,
     "metadata": {},
     "output_type": "execute_result"
    }
   ],
   "source": [
    "df_1=df[df['online_verdict']=='ACCEPT']\n",
    "df_1.value_counts('online_verdict')"
   ]
  },
  {
   "cell_type": "code",
   "execution_count": 26,
   "id": "3a864bbf",
   "metadata": {},
   "outputs": [],
   "source": [
    "df.drop(columns=['online_verdict'], inplace=True)"
   ]
  },
  {
   "cell_type": "code",
   "execution_count": 27,
   "id": "080ab51c",
   "metadata": {},
   "outputs": [
    {
     "data": {
      "text/plain": [
       "Index(['case_id', 'bin', 'brand', 'category', 'card_age_days', 'usd_amount',\n",
       "       'result', 'flag_cbk', 'pred_score', 'score_group', 'card_age_range'],\n",
       "      dtype='object')"
      ]
     },
     "execution_count": 27,
     "metadata": {},
     "output_type": "execute_result"
    }
   ],
   "source": [
    "df.columns"
   ]
  },
  {
   "cell_type": "markdown",
   "id": "d043bffa",
   "metadata": {},
   "source": [
    "## Card Age"
   ]
  },
  {
   "cell_type": "code",
   "execution_count": 28,
   "id": "e54ba5fe",
   "metadata": {},
   "outputs": [],
   "source": [
    "df_1=df[['card_age_range','result','usd_amount']]"
   ]
  },
  {
   "cell_type": "code",
   "execution_count": 29,
   "id": "d842a639",
   "metadata": {},
   "outputs": [],
   "source": [
    "card_age = pd.pivot_table(df_1, values='usd_amount', index=['card_age_range'],\n",
    "                    columns=['result'], aggfunc=np.sum, fill_value=0)"
   ]
  },
  {
   "cell_type": "code",
   "execution_count": 30,
   "id": "c30d20b0",
   "metadata": {},
   "outputs": [
    {
     "data": {
      "text/html": [
       "<div>\n",
       "<style scoped>\n",
       "    .dataframe tbody tr th:only-of-type {\n",
       "        vertical-align: middle;\n",
       "    }\n",
       "\n",
       "    .dataframe tbody tr th {\n",
       "        vertical-align: top;\n",
       "    }\n",
       "\n",
       "    .dataframe thead th {\n",
       "        text-align: right;\n",
       "    }\n",
       "</style>\n",
       "<table border=\"1\" class=\"dataframe\">\n",
       "  <thead>\n",
       "    <tr style=\"text-align: right;\">\n",
       "      <th>result</th>\n",
       "      <th>ACCEPT</th>\n",
       "      <th>AUTHORIZE</th>\n",
       "      <th>REJECT</th>\n",
       "    </tr>\n",
       "    <tr>\n",
       "      <th>card_age_range</th>\n",
       "      <th></th>\n",
       "      <th></th>\n",
       "      <th></th>\n",
       "    </tr>\n",
       "  </thead>\n",
       "  <tbody>\n",
       "    <tr>\n",
       "      <th>0</th>\n",
       "      <td>4,983,215.50</td>\n",
       "      <td>19,199.34</td>\n",
       "      <td>9,011,740.00</td>\n",
       "    </tr>\n",
       "    <tr>\n",
       "      <th>&lt;2</th>\n",
       "      <td>8,880.96</td>\n",
       "      <td>12.49</td>\n",
       "      <td>6,732.50</td>\n",
       "    </tr>\n",
       "    <tr>\n",
       "      <th>&gt;10</th>\n",
       "      <td>297,211.38</td>\n",
       "      <td>1,071.77</td>\n",
       "      <td>252,782.17</td>\n",
       "    </tr>\n",
       "  </tbody>\n",
       "</table>\n",
       "</div>"
      ],
      "text/plain": [
       "result               ACCEPT  AUTHORIZE       REJECT\n",
       "card_age_range                                     \n",
       "0              4,983,215.50  19,199.34 9,011,740.00\n",
       "<2                 8,880.96      12.49     6,732.50\n",
       ">10              297,211.38   1,071.77   252,782.17"
      ]
     },
     "execution_count": 30,
     "metadata": {},
     "output_type": "execute_result"
    }
   ],
   "source": [
    "card_age.head(3)"
   ]
  },
  {
   "cell_type": "code",
   "execution_count": 31,
   "id": "f95f3eb9",
   "metadata": {},
   "outputs": [
    {
     "data": {
      "text/plain": [
       "<AxesSubplot:title={'center':'Score vs Others'}, xlabel='card_age_range', ylabel='USD [MM]'>"
      ]
     },
     "execution_count": 31,
     "metadata": {},
     "output_type": "execute_result"
    },
    {
     "data": {
      "image/png": "[encoded data removed]",
      "text/plain": [
       "<Figure size 720x360 with 1 Axes>"
      ]
     },
     "metadata": {
      "needs_background": "light"
     },
     "output_type": "display_data"
    }
   ],
   "source": [
    "card_age.plot(kind='bar',\n",
    "        title = 'Score vs Others',\n",
    "        ylabel = 'USD [MM]',\n",
    "        figsize = (10,5),\n",
    "        grid = True,\n",
    "        stacked = True)"
   ]
  },
  {
   "cell_type": "markdown",
   "id": "6eb24e91",
   "metadata": {},
   "source": [
    "## Filter Card Age Range"
   ]
  },
  {
   "cell_type": "code",
   "execution_count": 32,
   "id": "32d292d3",
   "metadata": {},
   "outputs": [
    {
     "data": {
      "text/plain": [
       "card_age_range\n",
       "0    946349\n",
       "dtype: int64"
      ]
     },
     "execution_count": 32,
     "metadata": {},
     "output_type": "execute_result"
    }
   ],
   "source": [
    "df_0=df[df['card_age_range']=='0']\n",
    "df_0.value_counts('card_age_range')"
   ]
  },
  {
   "cell_type": "markdown",
   "id": "68b15232",
   "metadata": {},
   "source": [
    "## Score vs Fianl Result"
   ]
  },
  {
   "cell_type": "code",
   "execution_count": 33,
   "id": "6ac3d78f",
   "metadata": {},
   "outputs": [],
   "source": [
    "df_1=df[['score_group','result','usd_amount']]"
   ]
  },
  {
   "cell_type": "code",
   "execution_count": 34,
   "id": "6eb11edc",
   "metadata": {},
   "outputs": [],
   "source": [
    "score_result = pd.pivot_table(df_1, values='usd_amount', index=['score_group'],\n",
    "                    columns=['result'], aggfunc=np.sum, fill_value=0)"
   ]
  },
  {
   "cell_type": "code",
   "execution_count": 35,
   "id": "dd89315d",
   "metadata": {},
   "outputs": [
    {
     "data": {
      "text/html": [
       "<div>\n",
       "<style scoped>\n",
       "    .dataframe tbody tr th:only-of-type {\n",
       "        vertical-align: middle;\n",
       "    }\n",
       "\n",
       "    .dataframe tbody tr th {\n",
       "        vertical-align: top;\n",
       "    }\n",
       "\n",
       "    .dataframe thead th {\n",
       "        text-align: right;\n",
       "    }\n",
       "</style>\n",
       "<table border=\"1\" class=\"dataframe\">\n",
       "  <thead>\n",
       "    <tr style=\"text-align: right;\">\n",
       "      <th>result</th>\n",
       "      <th>ACCEPT</th>\n",
       "      <th>AUTHORIZE</th>\n",
       "      <th>REJECT</th>\n",
       "    </tr>\n",
       "    <tr>\n",
       "      <th>score_group</th>\n",
       "      <th></th>\n",
       "      <th></th>\n",
       "      <th></th>\n",
       "    </tr>\n",
       "  </thead>\n",
       "  <tbody>\n",
       "    <tr>\n",
       "      <th>25</th>\n",
       "      <td>3,134,057.50</td>\n",
       "      <td>9,780.90</td>\n",
       "      <td>2,899,557.25</td>\n",
       "    </tr>\n",
       "    <tr>\n",
       "      <th>50</th>\n",
       "      <td>610.81</td>\n",
       "      <td>4.62</td>\n",
       "      <td>2,886.21</td>\n",
       "    </tr>\n",
       "    <tr>\n",
       "      <th>75</th>\n",
       "      <td>1,016.55</td>\n",
       "      <td>15.45</td>\n",
       "      <td>6,134.04</td>\n",
       "    </tr>\n",
       "    <tr>\n",
       "      <th>100</th>\n",
       "      <td>1,973.96</td>\n",
       "      <td>47.06</td>\n",
       "      <td>12,316.74</td>\n",
       "    </tr>\n",
       "  </tbody>\n",
       "</table>\n",
       "</div>"
      ],
      "text/plain": [
       "result            ACCEPT  AUTHORIZE       REJECT\n",
       "score_group                                     \n",
       "25          3,134,057.50   9,780.90 2,899,557.25\n",
       "50                610.81       4.62     2,886.21\n",
       "75              1,016.55      15.45     6,134.04\n",
       "100             1,973.96      47.06    12,316.74"
      ]
     },
     "execution_count": 35,
     "metadata": {},
     "output_type": "execute_result"
    }
   ],
   "source": [
    "score_result.head(4)"
   ]
  },
  {
   "cell_type": "code",
   "execution_count": 36,
   "id": "f6e2d814",
   "metadata": {},
   "outputs": [],
   "source": [
    "df0=df_0[['score_group','result','usd_amount']]\n",
    "\n",
    "score_result_0 = pd.pivot_table(df0, values='usd_amount', index=['score_group'],\n",
    "                    columns=['result'], aggfunc=np.sum, fill_value=0)"
   ]
  },
  {
   "cell_type": "code",
   "execution_count": 37,
   "id": "f6f20a91",
   "metadata": {},
   "outputs": [
    {
     "data": {
      "text/plain": [
       "<AxesSubplot:title={'center':'Scores vs App Fianl [0]'}, xlabel='score_group', ylabel='USD [MM]'>"
      ]
     },
     "execution_count": 37,
     "metadata": {},
     "output_type": "execute_result"
    },
    {
     "data": {
      "image/png": "[encoded data removed]",
      "text/plain": [
       "<Figure size 1080x360 with 1 Axes>"
      ]
     },
     "metadata": {
      "needs_background": "light"
     },
     "output_type": "display_data"
    },
    {
     "data": {
      "image/png": "[encoded data removed]",
      "text/plain": [
       "<Figure size 1080x360 with 1 Axes>"
      ]
     },
     "metadata": {
      "needs_background": "light"
     },
     "output_type": "display_data"
    }
   ],
   "source": [
    "score_result.plot(kind='bar',\n",
    "        title = 'Scores vs App Fianl',\n",
    "        ylabel = 'USD [MM]',\n",
    "        figsize = (15,5),\n",
    "        grid = True,\n",
    "        stacked = True)\n",
    "\n",
    "score_result_0.plot(kind='bar',\n",
    "        title = 'Scores vs App Fianl [0]',\n",
    "        ylabel = 'USD [MM]',\n",
    "        figsize = (15,5),\n",
    "        grid = True,\n",
    "        stacked = True)"
   ]
  },
  {
   "cell_type": "markdown",
   "id": "e799fb8a",
   "metadata": {},
   "source": [
    "## Card Brand"
   ]
  },
  {
   "cell_type": "code",
   "execution_count": 38,
   "id": "810acf89",
   "metadata": {},
   "outputs": [],
   "source": [
    "df_1=df[['brand','result','usd_amount']]"
   ]
  },
  {
   "cell_type": "code",
   "execution_count": 39,
   "id": "6323b576",
   "metadata": {},
   "outputs": [],
   "source": [
    "card_brand = pd.pivot_table(df_1, values='usd_amount', index=['brand'],\n",
    "                    columns=['result'], aggfunc=np.sum, fill_value=0)"
   ]
  },
  {
   "cell_type": "code",
   "execution_count": 40,
   "id": "2479973d",
   "metadata": {
    "scrolled": false
   },
   "outputs": [
    {
     "data": {
      "text/html": [
       "<div>\n",
       "<style scoped>\n",
       "    .dataframe tbody tr th:only-of-type {\n",
       "        vertical-align: middle;\n",
       "    }\n",
       "\n",
       "    .dataframe tbody tr th {\n",
       "        vertical-align: top;\n",
       "    }\n",
       "\n",
       "    .dataframe thead th {\n",
       "        text-align: right;\n",
       "    }\n",
       "</style>\n",
       "<table border=\"1\" class=\"dataframe\">\n",
       "  <thead>\n",
       "    <tr style=\"text-align: right;\">\n",
       "      <th>result</th>\n",
       "      <th>ACCEPT</th>\n",
       "      <th>AUTHORIZE</th>\n",
       "      <th>REJECT</th>\n",
       "    </tr>\n",
       "    <tr>\n",
       "      <th>brand</th>\n",
       "      <th></th>\n",
       "      <th></th>\n",
       "      <th></th>\n",
       "    </tr>\n",
       "  </thead>\n",
       "  <tbody>\n",
       "    <tr>\n",
       "      <th>AE</th>\n",
       "      <td>50,835.25</td>\n",
       "      <td>185.09</td>\n",
       "      <td>53,874.31</td>\n",
       "    </tr>\n",
       "    <tr>\n",
       "      <th>EL</th>\n",
       "      <td>93,598.30</td>\n",
       "      <td>375.43</td>\n",
       "      <td>193,867.34</td>\n",
       "    </tr>\n",
       "    <tr>\n",
       "      <th>HI</th>\n",
       "      <td>211.32</td>\n",
       "      <td>0.00</td>\n",
       "      <td>2,584.18</td>\n",
       "    </tr>\n",
       "    <tr>\n",
       "      <th>MC</th>\n",
       "      <td>4,975,834.00</td>\n",
       "      <td>18,896.54</td>\n",
       "      <td>7,643,346.50</td>\n",
       "    </tr>\n",
       "  </tbody>\n",
       "</table>\n",
       "</div>"
      ],
      "text/plain": [
       "result       ACCEPT  AUTHORIZE       REJECT\n",
       "brand                                      \n",
       "AE        50,835.25     185.09    53,874.31\n",
       "EL        93,598.30     375.43   193,867.34\n",
       "HI           211.32       0.00     2,584.18\n",
       "MC     4,975,834.00  18,896.54 7,643,346.50"
      ]
     },
     "execution_count": 40,
     "metadata": {},
     "output_type": "execute_result"
    }
   ],
   "source": [
    "card_brand.head(4)"
   ]
  },
  {
   "cell_type": "code",
   "execution_count": 41,
   "id": "720793d1",
   "metadata": {},
   "outputs": [],
   "source": [
    "df0=df_0[['brand','result','usd_amount']]\n",
    "\n",
    "card_brand_0 = pd.pivot_table(df0, values='usd_amount', index=['brand'],\n",
    "                    columns=['result'], aggfunc=np.sum, fill_value=0)"
   ]
  },
  {
   "cell_type": "code",
   "execution_count": 42,
   "id": "0f1ae9f2",
   "metadata": {},
   "outputs": [
    {
     "data": {
      "text/plain": [
       "<AxesSubplot:title={'center':'App Final vs Brand [0]'}, xlabel='brand', ylabel='USD [MM]'>"
      ]
     },
     "execution_count": 42,
     "metadata": {},
     "output_type": "execute_result"
    },
    {
     "data": {
      "image/png": "[encoded data removed]",
      "text/plain": [
       "<Figure size 720x360 with 1 Axes>"
      ]
     },
     "metadata": {
      "needs_background": "light"
     },
     "output_type": "display_data"
    },
    {
     "data": {
      "image/png": "[encoded data removed]",
      "text/plain": [
       "<Figure size 720x360 with 1 Axes>"
      ]
     },
     "metadata": {
      "needs_background": "light"
     },
     "output_type": "display_data"
    }
   ],
   "source": [
    "card_brand.plot(kind='bar',\n",
    "        title = 'App Final vs Brand',\n",
    "        ylabel = 'USD [MM]',\n",
    "        figsize = (10,5),\n",
    "        grid = True,\n",
    "        stacked = True)\n",
    "\n",
    "card_brand_0.plot(kind='bar',\n",
    "        title = 'App Final vs Brand [0]',\n",
    "        ylabel = 'USD [MM]',\n",
    "        figsize = (10,5),\n",
    "        grid = True,\n",
    "        stacked = True)"
   ]
  },
  {
   "cell_type": "markdown",
   "id": "2e1ac635",
   "metadata": {},
   "source": [
    "## Card Category"
   ]
  },
  {
   "cell_type": "code",
   "execution_count": 43,
   "id": "65534147",
   "metadata": {},
   "outputs": [],
   "source": [
    "df_1=df[['category','result','usd_amount']]"
   ]
  },
  {
   "cell_type": "code",
   "execution_count": 44,
   "id": "4c9f6c1d",
   "metadata": {},
   "outputs": [
    {
     "data": {
      "text/html": [
       "<div>\n",
       "<style scoped>\n",
       "    .dataframe tbody tr th:only-of-type {\n",
       "        vertical-align: middle;\n",
       "    }\n",
       "\n",
       "    .dataframe tbody tr th {\n",
       "        vertical-align: top;\n",
       "    }\n",
       "\n",
       "    .dataframe thead th {\n",
       "        text-align: right;\n",
       "    }\n",
       "</style>\n",
       "<table border=\"1\" class=\"dataframe\">\n",
       "  <thead>\n",
       "    <tr style=\"text-align: right;\">\n",
       "      <th></th>\n",
       "      <th>category</th>\n",
       "      <th>result</th>\n",
       "      <th>usd_amount</th>\n",
       "    </tr>\n",
       "  </thead>\n",
       "  <tbody>\n",
       "    <tr>\n",
       "      <th>1</th>\n",
       "      <td>GOLD</td>\n",
       "      <td>REJECT</td>\n",
       "      <td>1.16</td>\n",
       "    </tr>\n",
       "    <tr>\n",
       "      <th>2</th>\n",
       "      <td>STANDARD</td>\n",
       "      <td>REJECT</td>\n",
       "      <td>1.18</td>\n",
       "    </tr>\n",
       "    <tr>\n",
       "      <th>3</th>\n",
       "      <td>STANDARD</td>\n",
       "      <td>ACCEPT</td>\n",
       "      <td>6.79</td>\n",
       "    </tr>\n",
       "  </tbody>\n",
       "</table>\n",
       "</div>"
      ],
      "text/plain": [
       "   category  result  usd_amount\n",
       "1      GOLD  REJECT        1.16\n",
       "2  STANDARD  REJECT        1.18\n",
       "3  STANDARD  ACCEPT        6.79"
      ]
     },
     "execution_count": 44,
     "metadata": {},
     "output_type": "execute_result"
    }
   ],
   "source": [
    "df_1.head(3)"
   ]
  },
  {
   "cell_type": "code",
   "execution_count": 45,
   "id": "9ef4cd6a",
   "metadata": {},
   "outputs": [],
   "source": [
    "table = pd.pivot_table(df_1, values='usd_amount', index=['category'],\n",
    "                    columns=['result'], aggfunc=np.sum, fill_value=0)"
   ]
  },
  {
   "cell_type": "code",
   "execution_count": 46,
   "id": "24c6a210",
   "metadata": {},
   "outputs": [
    {
     "data": {
      "text/html": [
       "<div>\n",
       "<style scoped>\n",
       "    .dataframe tbody tr th:only-of-type {\n",
       "        vertical-align: middle;\n",
       "    }\n",
       "\n",
       "    .dataframe tbody tr th {\n",
       "        vertical-align: top;\n",
       "    }\n",
       "\n",
       "    .dataframe thead th {\n",
       "        text-align: right;\n",
       "    }\n",
       "</style>\n",
       "<table border=\"1\" class=\"dataframe\">\n",
       "  <thead>\n",
       "    <tr style=\"text-align: right;\">\n",
       "      <th>result</th>\n",
       "      <th>ACCEPT</th>\n",
       "      <th>AUTHORIZE</th>\n",
       "      <th>REJECT</th>\n",
       "    </tr>\n",
       "    <tr>\n",
       "      <th>category</th>\n",
       "      <th></th>\n",
       "      <th></th>\n",
       "      <th></th>\n",
       "    </tr>\n",
       "  </thead>\n",
       "  <tbody>\n",
       "    <tr>\n",
       "      <th>ACQUIRER ONLY</th>\n",
       "      <td>0.00</td>\n",
       "      <td>0.00</td>\n",
       "      <td>50.94</td>\n",
       "    </tr>\n",
       "    <tr>\n",
       "      <th>ALIMENTACAO</th>\n",
       "      <td>0.00</td>\n",
       "      <td>0.00</td>\n",
       "      <td>1.15</td>\n",
       "    </tr>\n",
       "    <tr>\n",
       "      <th>B2B</th>\n",
       "      <td>0.00</td>\n",
       "      <td>0.00</td>\n",
       "      <td>6.78</td>\n",
       "    </tr>\n",
       "    <tr>\n",
       "      <th>BASIC</th>\n",
       "      <td>0.00</td>\n",
       "      <td>0.00</td>\n",
       "      <td>2.31</td>\n",
       "    </tr>\n",
       "  </tbody>\n",
       "</table>\n",
       "</div>"
      ],
      "text/plain": [
       "result         ACCEPT  AUTHORIZE  REJECT\n",
       "category                                \n",
       "ACQUIRER ONLY    0.00       0.00   50.94\n",
       "ALIMENTACAO      0.00       0.00    1.15\n",
       "B2B              0.00       0.00    6.78\n",
       "BASIC            0.00       0.00    2.31"
      ]
     },
     "execution_count": 46,
     "metadata": {},
     "output_type": "execute_result"
    }
   ],
   "source": [
    "table.head(4)"
   ]
  },
  {
   "cell_type": "code",
   "execution_count": 47,
   "id": "f937c89d",
   "metadata": {},
   "outputs": [
    {
     "data": {
      "text/plain": [
       "<AxesSubplot:title={'center':'App Final vs Category'}, xlabel='category', ylabel='USD [MM]'>"
      ]
     },
     "execution_count": 47,
     "metadata": {},
     "output_type": "execute_result"
    },
    {
     "data": {
      "image/png": "[encoded data removed]",
      "text/plain": [
       "<Figure size 1440x720 with 1 Axes>"
      ]
     },
     "metadata": {
      "needs_background": "light"
     },
     "output_type": "display_data"
    }
   ],
   "source": [
    "table.plot(kind='bar',\n",
    "        title = 'App Final vs Category',\n",
    "        ylabel = 'USD [MM]',\n",
    "        figsize = (20,10),\n",
    "        grid = True,\n",
    "        stacked = True)"
   ]
  },
  {
   "cell_type": "markdown",
   "id": "908730d5",
   "metadata": {},
   "source": [
    "## Filter Classic Cards"
   ]
  },
  {
   "cell_type": "code",
   "execution_count": 48,
   "id": "e8e3f5ce",
   "metadata": {},
   "outputs": [
    {
     "data": {
      "text/plain": [
       "Index(['case_id', 'bin', 'brand', 'category', 'card_age_days', 'usd_amount',\n",
       "       'result', 'flag_cbk', 'pred_score', 'score_group', 'card_age_range'],\n",
       "      dtype='object')"
      ]
     },
     "execution_count": 48,
     "metadata": {},
     "output_type": "execute_result"
    }
   ],
   "source": [
    "df.columns"
   ]
  },
  {
   "cell_type": "code",
   "execution_count": 49,
   "id": "1fabac92",
   "metadata": {},
   "outputs": [
    {
     "data": {
      "text/plain": [
       "category\n",
       "CLASSIC    189507\n",
       "dtype: int64"
      ]
     },
     "execution_count": 49,
     "metadata": {},
     "output_type": "execute_result"
    }
   ],
   "source": [
    "df_1=df[df['category']=='CLASSIC']\n",
    "df_1.value_counts('category')"
   ]
  },
  {
   "cell_type": "code",
   "execution_count": 50,
   "id": "312d9b96",
   "metadata": {},
   "outputs": [],
   "source": [
    "df_1=df_1[['score_group','result','usd_amount']]"
   ]
  },
  {
   "cell_type": "code",
   "execution_count": 51,
   "id": "5bb97068",
   "metadata": {},
   "outputs": [],
   "source": [
    "classic = pd.pivot_table(df_1, values='usd_amount', index=['score_group'],\n",
    "                    columns=['result'], aggfunc=np.sum, fill_value=0)"
   ]
  },
  {
   "cell_type": "code",
   "execution_count": 52,
   "id": "54fc1bcd",
   "metadata": {},
   "outputs": [
    {
     "data": {
      "text/html": [
       "<div>\n",
       "<style scoped>\n",
       "    .dataframe tbody tr th:only-of-type {\n",
       "        vertical-align: middle;\n",
       "    }\n",
       "\n",
       "    .dataframe tbody tr th {\n",
       "        vertical-align: top;\n",
       "    }\n",
       "\n",
       "    .dataframe thead th {\n",
       "        text-align: right;\n",
       "    }\n",
       "</style>\n",
       "<table border=\"1\" class=\"dataframe\">\n",
       "  <thead>\n",
       "    <tr style=\"text-align: right;\">\n",
       "      <th>result</th>\n",
       "      <th>ACCEPT</th>\n",
       "      <th>AUTHORIZE</th>\n",
       "      <th>REJECT</th>\n",
       "    </tr>\n",
       "    <tr>\n",
       "      <th>score_group</th>\n",
       "      <th></th>\n",
       "      <th></th>\n",
       "      <th></th>\n",
       "    </tr>\n",
       "  </thead>\n",
       "  <tbody>\n",
       "    <tr>\n",
       "      <th>25</th>\n",
       "      <td>377,102.84</td>\n",
       "      <td>1,171.85</td>\n",
       "      <td>414,058.03</td>\n",
       "    </tr>\n",
       "    <tr>\n",
       "      <th>50</th>\n",
       "      <td>21.22</td>\n",
       "      <td>0.00</td>\n",
       "      <td>400.82</td>\n",
       "    </tr>\n",
       "    <tr>\n",
       "      <th>75</th>\n",
       "      <td>37.18</td>\n",
       "      <td>3.45</td>\n",
       "      <td>1,229.14</td>\n",
       "    </tr>\n",
       "  </tbody>\n",
       "</table>\n",
       "</div>"
      ],
      "text/plain": [
       "result          ACCEPT  AUTHORIZE     REJECT\n",
       "score_group                                 \n",
       "25          377,102.84   1,171.85 414,058.03\n",
       "50               21.22       0.00     400.82\n",
       "75               37.18       3.45   1,229.14"
      ]
     },
     "execution_count": 52,
     "metadata": {},
     "output_type": "execute_result"
    }
   ],
   "source": [
    "classic.head(3)"
   ]
  },
  {
   "cell_type": "code",
   "execution_count": 53,
   "id": "d481044f",
   "metadata": {},
   "outputs": [],
   "source": [
    "df0=df_0[df_0['category']=='CLASSIC']\n",
    "\n",
    "df0=df0[['score_group','result','usd_amount']]\n",
    "\n",
    "classic_0 = pd.pivot_table(df0, values='usd_amount', index=['score_group'],\n",
    "                    columns=['result'], aggfunc=np.sum, fill_value=0)"
   ]
  },
  {
   "cell_type": "code",
   "execution_count": 54,
   "id": "78ed89b2",
   "metadata": {},
   "outputs": [
    {
     "data": {
      "text/plain": [
       "<AxesSubplot:title={'center':'Score vs Classic [0]'}, xlabel='score_group', ylabel='USD'>"
      ]
     },
     "execution_count": 54,
     "metadata": {},
     "output_type": "execute_result"
    },
    {
     "data": {
      "image/png": "[encoded data removed]",
      "text/plain": [
       "<Figure size 1080x360 with 1 Axes>"
      ]
     },
     "metadata": {
      "needs_background": "light"
     },
     "output_type": "display_data"
    },
    {
     "data": {
      "image/png": "[encoded data removed]",
      "text/plain": [
       "<Figure size 1080x360 with 1 Axes>"
      ]
     },
     "metadata": {
      "needs_background": "light"
     },
     "output_type": "display_data"
    }
   ],
   "source": [
    "classic.plot(kind='bar',\n",
    "        title = 'Score vs Classic',\n",
    "        ylabel = 'USD',\n",
    "        figsize = (15,5),\n",
    "        grid = True,\n",
    "        stacked = True)\n",
    "\n",
    "classic_0.plot(kind='bar',\n",
    "        title = 'Score vs Classic [0]',\n",
    "        ylabel = 'USD',\n",
    "        figsize = (15,5),\n",
    "        grid = True,\n",
    "        stacked = True)"
   ]
  },
  {
   "cell_type": "markdown",
   "id": "a77dcd32",
   "metadata": {},
   "source": [
    "## Filter Gold Cards"
   ]
  },
  {
   "cell_type": "code",
   "execution_count": 55,
   "id": "79c2452a",
   "metadata": {},
   "outputs": [
    {
     "data": {
      "text/plain": [
       "category\n",
       "GOLD    589197\n",
       "dtype: int64"
      ]
     },
     "execution_count": 55,
     "metadata": {},
     "output_type": "execute_result"
    }
   ],
   "source": [
    "df_1=df[df['category']=='GOLD']\n",
    "df_1.value_counts('category')"
   ]
  },
  {
   "cell_type": "code",
   "execution_count": 56,
   "id": "c0272f59",
   "metadata": {},
   "outputs": [],
   "source": [
    "df_1=df_1[['score_group','result','usd_amount']]"
   ]
  },
  {
   "cell_type": "code",
   "execution_count": 57,
   "id": "1ee694a9",
   "metadata": {},
   "outputs": [],
   "source": [
    "gold = pd.pivot_table(df_1, values='usd_amount', index=['score_group'],\n",
    "                    columns=['result'], aggfunc=np.sum, fill_value=0)"
   ]
  },
  {
   "cell_type": "code",
   "execution_count": 58,
   "id": "4b6f4cca",
   "metadata": {},
   "outputs": [
    {
     "data": {
      "text/html": [
       "<div>\n",
       "<style scoped>\n",
       "    .dataframe tbody tr th:only-of-type {\n",
       "        vertical-align: middle;\n",
       "    }\n",
       "\n",
       "    .dataframe tbody tr th {\n",
       "        vertical-align: top;\n",
       "    }\n",
       "\n",
       "    .dataframe thead th {\n",
       "        text-align: right;\n",
       "    }\n",
       "</style>\n",
       "<table border=\"1\" class=\"dataframe\">\n",
       "  <thead>\n",
       "    <tr style=\"text-align: right;\">\n",
       "      <th>result</th>\n",
       "      <th>ACCEPT</th>\n",
       "      <th>AUTHORIZE</th>\n",
       "      <th>REJECT</th>\n",
       "    </tr>\n",
       "    <tr>\n",
       "      <th>score_group</th>\n",
       "      <th></th>\n",
       "      <th></th>\n",
       "      <th></th>\n",
       "    </tr>\n",
       "  </thead>\n",
       "  <tbody>\n",
       "    <tr>\n",
       "      <th>25</th>\n",
       "      <td>1,159,979.00</td>\n",
       "      <td>3,890.91</td>\n",
       "      <td>1,236,840.25</td>\n",
       "    </tr>\n",
       "    <tr>\n",
       "      <th>50</th>\n",
       "      <td>323.45</td>\n",
       "      <td>1.15</td>\n",
       "      <td>1,273.64</td>\n",
       "    </tr>\n",
       "    <tr>\n",
       "      <th>75</th>\n",
       "      <td>496.58</td>\n",
       "      <td>5.54</td>\n",
       "      <td>2,372.86</td>\n",
       "    </tr>\n",
       "  </tbody>\n",
       "</table>\n",
       "</div>"
      ],
      "text/plain": [
       "result            ACCEPT  AUTHORIZE       REJECT\n",
       "score_group                                     \n",
       "25          1,159,979.00   3,890.91 1,236,840.25\n",
       "50                323.45       1.15     1,273.64\n",
       "75                496.58       5.54     2,372.86"
      ]
     },
     "execution_count": 58,
     "metadata": {},
     "output_type": "execute_result"
    }
   ],
   "source": [
    "gold.head(3)"
   ]
  },
  {
   "cell_type": "code",
   "execution_count": 59,
   "id": "7ac2a2d0",
   "metadata": {},
   "outputs": [],
   "source": [
    "df0=df_0[df_0['category']=='GOLD']\n",
    "\n",
    "df0=df0[['score_group','result','usd_amount']]\n",
    "\n",
    "gold_0 = pd.pivot_table(df0, values='usd_amount', index=['score_group'],\n",
    "                    columns=['result'], aggfunc=np.sum, fill_value=0)"
   ]
  },
  {
   "cell_type": "code",
   "execution_count": 60,
   "id": "11a4f197",
   "metadata": {},
   "outputs": [
    {
     "data": {
      "text/plain": [
       "<AxesSubplot:title={'center':'Score vs Gold [0]'}, xlabel='score_group', ylabel='USD'>"
      ]
     },
     "execution_count": 60,
     "metadata": {},
     "output_type": "execute_result"
    },
    {
     "data": {
      "image/png": "[encoded data removed]",
      "text/plain": [
       "<Figure size 1080x360 with 1 Axes>"
      ]
     },
     "metadata": {
      "needs_background": "light"
     },
     "output_type": "display_data"
    },
    {
     "data": {
      "image/png": "[encoded data removed]",
      "text/plain": [
       "<Figure size 1080x360 with 1 Axes>"
      ]
     },
     "metadata": {
      "needs_background": "light"
     },
     "output_type": "display_data"
    }
   ],
   "source": [
    "gold.plot(kind='bar',\n",
    "        title = 'Score vs Gold',\n",
    "        ylabel = 'USD',\n",
    "        figsize = (15,5),\n",
    "        grid = True,\n",
    "        stacked = True)\n",
    "\n",
    "gold_0.plot(kind='bar',\n",
    "        title = 'Score vs Gold [0]',\n",
    "        ylabel = 'USD',\n",
    "        figsize = (15,5),\n",
    "        grid = True,\n",
    "        stacked = True)"
   ]
  },
  {
   "cell_type": "markdown",
   "id": "f073fa4f",
   "metadata": {},
   "source": [
    "## Filter Standard Cards"
   ]
  },
  {
   "cell_type": "code",
   "execution_count": 79,
   "id": "f8604c79",
   "metadata": {},
   "outputs": [
    {
     "data": {
      "text/plain": [
       "category\n",
       "STANDARD    178749\n",
       "dtype: int64"
      ]
     },
     "execution_count": 79,
     "metadata": {},
     "output_type": "execute_result"
    }
   ],
   "source": [
    "df_1=df[df['category']=='STANDARD']\n",
    "df_1.value_counts('category')"
   ]
  },
  {
   "cell_type": "code",
   "execution_count": 80,
   "id": "f17b80d5",
   "metadata": {},
   "outputs": [],
   "source": [
    "df_1=df_1[['score_group','result','usd_amount']]"
   ]
  },
  {
   "cell_type": "code",
   "execution_count": 81,
   "id": "d71a8926",
   "metadata": {},
   "outputs": [],
   "source": [
    "standar = pd.pivot_table(df_1, values='usd_amount', index=['score_group'],\n",
    "                    columns=['result'], aggfunc=np.sum, fill_value=0)"
   ]
  },
  {
   "cell_type": "code",
   "execution_count": 82,
   "id": "a0ce458f",
   "metadata": {},
   "outputs": [
    {
     "data": {
      "text/html": [
       "<div>\n",
       "<style scoped>\n",
       "    .dataframe tbody tr th:only-of-type {\n",
       "        vertical-align: middle;\n",
       "    }\n",
       "\n",
       "    .dataframe tbody tr th {\n",
       "        vertical-align: top;\n",
       "    }\n",
       "\n",
       "    .dataframe thead th {\n",
       "        text-align: right;\n",
       "    }\n",
       "</style>\n",
       "<table border=\"1\" class=\"dataframe\">\n",
       "  <thead>\n",
       "    <tr style=\"text-align: right;\">\n",
       "      <th>result</th>\n",
       "      <th>ACCEPT</th>\n",
       "      <th>AUTHORIZE</th>\n",
       "      <th>REJECT</th>\n",
       "    </tr>\n",
       "    <tr>\n",
       "      <th>score_group</th>\n",
       "      <th></th>\n",
       "      <th></th>\n",
       "      <th></th>\n",
       "    </tr>\n",
       "  </thead>\n",
       "  <tbody>\n",
       "    <tr>\n",
       "      <th>25</th>\n",
       "      <td>387,339.84</td>\n",
       "      <td>1,180.98</td>\n",
       "      <td>346,256.78</td>\n",
       "    </tr>\n",
       "    <tr>\n",
       "      <th>50</th>\n",
       "      <td>7.58</td>\n",
       "      <td>1.15</td>\n",
       "      <td>246.51</td>\n",
       "    </tr>\n",
       "    <tr>\n",
       "      <th>75</th>\n",
       "      <td>74.94</td>\n",
       "      <td>0.00</td>\n",
       "      <td>387.82</td>\n",
       "    </tr>\n",
       "  </tbody>\n",
       "</table>\n",
       "</div>"
      ],
      "text/plain": [
       "result          ACCEPT  AUTHORIZE     REJECT\n",
       "score_group                                 \n",
       "25          387,339.84   1,180.98 346,256.78\n",
       "50                7.58       1.15     246.51\n",
       "75               74.94       0.00     387.82"
      ]
     },
     "execution_count": 82,
     "metadata": {},
     "output_type": "execute_result"
    }
   ],
   "source": [
    "standar.head(3)"
   ]
  },
  {
   "cell_type": "code",
   "execution_count": 83,
   "id": "04f7c304",
   "metadata": {},
   "outputs": [],
   "source": [
    "df0=df_0[df_0['category']=='STANDARD']\n",
    "\n",
    "df0=df0[['score_group','result','usd_amount']]\n",
    "\n",
    "standar_0 = pd.pivot_table(df0, values='usd_amount', index=['score_group'],\n",
    "                    columns=['result'], aggfunc=np.sum, fill_value=0)"
   ]
  },
  {
   "cell_type": "code",
   "execution_count": 84,
   "id": "35f0363c",
   "metadata": {},
   "outputs": [
    {
     "data": {
      "text/plain": [
       "<AxesSubplot:title={'center':'Score vs Standar [0]'}, xlabel='score_group', ylabel='USD'>"
      ]
     },
     "execution_count": 84,
     "metadata": {},
     "output_type": "execute_result"
    },
    {
     "data": {
      "image/png": "[encoded data removed]",
      "text/plain": [
       "<Figure size 1080x360 with 1 Axes>"
      ]
     },
     "metadata": {
      "needs_background": "light"
     },
     "output_type": "display_data"
    },
    {
     "data": {
      "image/png": "[encoded data removed]",
      "text/plain": [
       "<Figure size 1080x360 with 1 Axes>"
      ]
     },
     "metadata": {
      "needs_background": "light"
     },
     "output_type": "display_data"
    }
   ],
   "source": [
    "standar.plot(kind='bar',\n",
    "        title = 'Score vs Standar',\n",
    "        ylabel = 'USD',\n",
    "        figsize = (15,5),\n",
    "        grid = True,\n",
    "        stacked = True)\n",
    "\n",
    "standar_0.plot(kind='bar',\n",
    "        title = 'Score vs Standar [0]',\n",
    "        ylabel = 'USD',\n",
    "        figsize = (15,5),\n",
    "        grid = True,\n",
    "        stacked = True)"
   ]
  },
  {
   "cell_type": "markdown",
   "id": "4f584f41",
   "metadata": {},
   "source": [
    "## Filter Corporate T&E Cards"
   ]
  },
  {
   "cell_type": "code",
   "execution_count": 85,
   "id": "b91b267e",
   "metadata": {},
   "outputs": [
    {
     "data": {
      "text/plain": [
       "category\n",
       "CORPORATE T&E    39507\n",
       "dtype: int64"
      ]
     },
     "execution_count": 85,
     "metadata": {},
     "output_type": "execute_result"
    }
   ],
   "source": [
    "df_1=df[df['category']=='CORPORATE T&E']\n",
    "df_1.value_counts('category')"
   ]
  },
  {
   "cell_type": "code",
   "execution_count": 86,
   "id": "90f4f44b",
   "metadata": {},
   "outputs": [],
   "source": [
    "df_1=df_1[['score_group','result','usd_amount']]"
   ]
  },
  {
   "cell_type": "code",
   "execution_count": 87,
   "id": "6ba54555",
   "metadata": {},
   "outputs": [],
   "source": [
    "corporate = pd.pivot_table(df_1, values='usd_amount', index=['score_group'],\n",
    "                    columns=['result'], aggfunc=np.sum, fill_value=0)"
   ]
  },
  {
   "cell_type": "code",
   "execution_count": 88,
   "id": "5d8c47cd",
   "metadata": {
    "scrolled": true
   },
   "outputs": [
    {
     "data": {
      "text/html": [
       "<div>\n",
       "<style scoped>\n",
       "    .dataframe tbody tr th:only-of-type {\n",
       "        vertical-align: middle;\n",
       "    }\n",
       "\n",
       "    .dataframe tbody tr th {\n",
       "        vertical-align: top;\n",
       "    }\n",
       "\n",
       "    .dataframe thead th {\n",
       "        text-align: right;\n",
       "    }\n",
       "</style>\n",
       "<table border=\"1\" class=\"dataframe\">\n",
       "  <thead>\n",
       "    <tr style=\"text-align: right;\">\n",
       "      <th>result</th>\n",
       "      <th>ACCEPT</th>\n",
       "      <th>AUTHORIZE</th>\n",
       "      <th>REJECT</th>\n",
       "    </tr>\n",
       "    <tr>\n",
       "      <th>score_group</th>\n",
       "      <th></th>\n",
       "      <th></th>\n",
       "      <th></th>\n",
       "    </tr>\n",
       "  </thead>\n",
       "  <tbody>\n",
       "    <tr>\n",
       "      <th>25</th>\n",
       "      <td>31,021.72</td>\n",
       "      <td>74.07</td>\n",
       "      <td>117,068.96</td>\n",
       "    </tr>\n",
       "    <tr>\n",
       "      <th>50</th>\n",
       "      <td>1.85</td>\n",
       "      <td>0.00</td>\n",
       "      <td>151.06</td>\n",
       "    </tr>\n",
       "    <tr>\n",
       "      <th>75</th>\n",
       "      <td>20.26</td>\n",
       "      <td>4.12</td>\n",
       "      <td>576.46</td>\n",
       "    </tr>\n",
       "  </tbody>\n",
       "</table>\n",
       "</div>"
      ],
      "text/plain": [
       "result         ACCEPT  AUTHORIZE     REJECT\n",
       "score_group                                \n",
       "25          31,021.72      74.07 117,068.96\n",
       "50               1.85       0.00     151.06\n",
       "75              20.26       4.12     576.46"
      ]
     },
     "execution_count": 88,
     "metadata": {},
     "output_type": "execute_result"
    }
   ],
   "source": [
    "corporate.head(3)"
   ]
  },
  {
   "cell_type": "code",
   "execution_count": 89,
   "id": "6594d3ab",
   "metadata": {},
   "outputs": [],
   "source": [
    "df0=df_0[df_0['category']=='CORPORATE T&E']\n",
    "\n",
    "df0=df0[['score_group','result','usd_amount']]\n",
    "\n",
    "corporate_0 = pd.pivot_table(df0, values='usd_amount', index=['score_group'],\n",
    "                    columns=['result'], aggfunc=np.sum, fill_value=0)"
   ]
  },
  {
   "cell_type": "code",
   "execution_count": 90,
   "id": "756389de",
   "metadata": {},
   "outputs": [
    {
     "data": {
      "text/plain": [
       "<AxesSubplot:title={'center':'Score vs Corporate T&E [0]'}, xlabel='score_group', ylabel='USD'>"
      ]
     },
     "execution_count": 90,
     "metadata": {},
     "output_type": "execute_result"
    },
    {
     "data": {
      "image/png": "[encoded data removed]",
      "text/plain": [
       "<Figure size 1080x360 with 1 Axes>"
      ]
     },
     "metadata": {
      "needs_background": "light"
     },
     "output_type": "display_data"
    },
    {
     "data": {
      "image/png": "[encoded data removed]",
      "text/plain": [
       "<Figure size 1080x360 with 1 Axes>"
      ]
     },
     "metadata": {
      "needs_background": "light"
     },
     "output_type": "display_data"
    }
   ],
   "source": [
    "corporate.plot(kind='bar',\n",
    "        title = 'Score vs Corporate T&E',\n",
    "        ylabel = 'USD',\n",
    "        figsize = (15,5),\n",
    "        grid = True,\n",
    "        stacked = True)\n",
    "\n",
    "corporate_0.plot(kind='bar',\n",
    "        title = 'Score vs Corporate T&E [0]',\n",
    "        ylabel = 'USD',\n",
    "        figsize = (15,5),\n",
    "        grid = True,\n",
    "        stacked = True)"
   ]
  },
  {
   "cell_type": "markdown",
   "id": "5b3e683b",
   "metadata": {},
   "source": [
    "## Filter Others"
   ]
  },
  {
   "cell_type": "code",
   "execution_count": 91,
   "id": "e5be75f6",
   "metadata": {},
   "outputs": [
    {
     "data": {
      "text/plain": [
       "category\n",
       "BUSINESS                              47046\n",
       "CORPORATE T&E                         39507\n",
       "PREPAID                               16995\n",
       "MICRO BUSINESS                         7985\n",
       "MULTIPLE                               6628\n",
       "ELO Mais                               4718\n",
       "PREPAID BUSINESS                       4045\n",
       "Corporate                              2314\n",
       "MIXED PRODUCT                          2123\n",
       "EXECUTIVE BUSINESS                     1968\n",
       "BUSINESS ENHANCED                      1872\n",
       "PERSONAL PLATINUM CHARGE               1781\n",
       "Basic                                  1391\n",
       "Nanquim                                 798\n",
       "CORPORATE                               784\n",
       "Grafite                                 654\n",
       "PERSONAL GOLD CHARGE                    514\n",
       "PERSONAL BLUE REVOLVE                   473\n",
       "PERSONAL GREEN CHARGE                   423\n",
       "CORPORATE PURCHASING                    337\n",
       "CORPORATE EXECUTIVE                     317\n",
       "ELECTRON                                279\n",
       "PERSONAL REVOLVE                        271\n",
       "PERSONAL GREEN REVOLVE                  266\n",
       "PURCHASING                              256\n",
       "PERSONAL GOLD REVOLVE                   217\n",
       "PREPAID RELOADABLE                      173\n",
       "PERSONAL PLATINUM REVOLVE               172\n",
       "ENHANCED                                155\n",
       "WORLD                                   106\n",
       "PREPAID CORPORATE T&E                    90\n",
       "PREPAID PLATINUM TRAVEL                  73\n",
       "PERSONAL                                 66\n",
       "GOVERNMENT CORPORATE T&E                 60\n",
       "CORPORATE GREEN CHARGE                   54\n",
       "ACQUIRER ONLY                            46\n",
       "WORLD ELITE                              34\n",
       "CENTRAL TRAVEL SOLUTIONS LAND            29\n",
       "PREPAID HSA NON-SUBSTANTIATED            28\n",
       "TITANIUM                                 25\n",
       "PURCHASING WITH FLEET                    14\n",
       "WORLD ELITE FOR BUSINESS                 12\n",
       "WORLD BUSINESS                           11\n",
       "CORPORATE FLEET                           9\n",
       "WORLD FOR BUSINESS                        9\n",
       "GIFT                                      8\n",
       "WORLD BLACK                               8\n",
       "UNEMBOSSED                                7\n",
       "FLEET                                     6\n",
       "B2B                                       6\n",
       "COMPANY                                   6\n",
       "OPEN CHARGE                               6\n",
       "PROFESSIONAL                              6\n",
       "ELECTRONIC                                6\n",
       "PREPAID PLATINUM                          5\n",
       "PREPAID PAYROLL                           4\n",
       "GOLD/PLATINUM                             4\n",
       "PREPAID FLEX BENEFIT                      3\n",
       "COMMERCIAL TRANSPORT                      2\n",
       "DISTRIBUTION                              2\n",
       "REWARDS                                   2\n",
       "BASIC                                     2\n",
       "PREFERRED BUSINESS                        2\n",
       "UHNW                                      2\n",
       "PREPAID WORKPLACE B2B                     2\n",
       "PREPAID COMMERCIAL PAYMENT ACCOUNT        2\n",
       "PREPAID GOVERNMENT                        2\n",
       "MIXED BIN                                 2\n",
       "PRIVATE LABEL                             1\n",
       "OTHER                                     1\n",
       "ALIMENTACAO                               1\n",
       "PREMIUM                                   1\n",
       "PREPAID COMMERCIAL TRANSPORT              1\n",
       "BUSINESS SIGNATURE                        1\n",
       "PERSONAL CHARGE                           1\n",
       "CCSG US CONSUMER REVOLVE                  1\n",
       "CENTRAL TRAVEL SOLUTIONS AIR              1\n",
       "PREPAID HEALTHCARE                        1\n",
       "PERSONAL BLACK CHARGE                     1\n",
       "CONSUMER CHARGE                           1\n",
       "GOLD/CORPORATE                            1\n",
       "VIRTUAL                                   1\n",
       "PREPAID HEALTHCARE NON-TAX                1\n",
       "ISIC STUDENT                              1\n",
       "INFINITE/SIGNATURE                        1\n",
       "STANDARD/WORLD                            1\n",
       "PREPAID PRIVATE LABEL STANDARD            1\n",
       "DEFERRED DEBIT                            1\n",
       "GSA PURCHASING                            1\n",
       "PREPAID STUDENT                           1\n",
       "GOVERNMENT COMMERCIAL                     1\n",
       "PLATINUM/WORLD/STANDARD                   1\n",
       "dtype: int64"
      ]
     },
     "execution_count": 91,
     "metadata": {},
     "output_type": "execute_result"
    }
   ],
   "source": [
    "df_1=df[df['category']!='CLASSIC']\n",
    "df_1=df_1[df_1['category']!='GOLD']\n",
    "df_1=df_1[df_1['category']!='STANDARD']\n",
    "df_1=df_1[df_1['category']!='PLATINUM']\n",
    "df_1=df_1[df_1['category']!='BLACK']\n",
    "df_1=df_1[df_1['category']!='INFINITE']\n",
    "df_1=df_1[df_1['category']!='SIGNATURE']\n",
    "df_1.value_counts('category')"
   ]
  },
  {
   "cell_type": "code",
   "execution_count": 92,
   "id": "7f65d1cb",
   "metadata": {},
   "outputs": [],
   "source": [
    "df_1=df_1[['score_group','result','usd_amount']]"
   ]
  },
  {
   "cell_type": "code",
   "execution_count": 93,
   "id": "bb1a4148",
   "metadata": {},
   "outputs": [],
   "source": [
    "others = pd.pivot_table(df_1, values='usd_amount', index=['score_group'],\n",
    "                    columns=['result'], aggfunc=np.sum, fill_value=0)"
   ]
  },
  {
   "cell_type": "code",
   "execution_count": 94,
   "id": "b0961c03",
   "metadata": {},
   "outputs": [
    {
     "data": {
      "text/html": [
       "<div>\n",
       "<style scoped>\n",
       "    .dataframe tbody tr th:only-of-type {\n",
       "        vertical-align: middle;\n",
       "    }\n",
       "\n",
       "    .dataframe tbody tr th {\n",
       "        vertical-align: top;\n",
       "    }\n",
       "\n",
       "    .dataframe thead th {\n",
       "        text-align: right;\n",
       "    }\n",
       "</style>\n",
       "<table border=\"1\" class=\"dataframe\">\n",
       "  <thead>\n",
       "    <tr style=\"text-align: right;\">\n",
       "      <th>result</th>\n",
       "      <th>ACCEPT</th>\n",
       "      <th>AUTHORIZE</th>\n",
       "      <th>REJECT</th>\n",
       "    </tr>\n",
       "    <tr>\n",
       "      <th>score_group</th>\n",
       "      <th></th>\n",
       "      <th></th>\n",
       "      <th></th>\n",
       "    </tr>\n",
       "  </thead>\n",
       "  <tbody>\n",
       "    <tr>\n",
       "      <th>25</th>\n",
       "      <td>299,482.97</td>\n",
       "      <td>1,162.26</td>\n",
       "      <td>322,853.44</td>\n",
       "    </tr>\n",
       "    <tr>\n",
       "      <th>50</th>\n",
       "      <td>16.18</td>\n",
       "      <td>0.00</td>\n",
       "      <td>319.36</td>\n",
       "    </tr>\n",
       "    <tr>\n",
       "      <th>75</th>\n",
       "      <td>29.13</td>\n",
       "      <td>5.28</td>\n",
       "      <td>687.17</td>\n",
       "    </tr>\n",
       "  </tbody>\n",
       "</table>\n",
       "</div>"
      ],
      "text/plain": [
       "result          ACCEPT  AUTHORIZE     REJECT\n",
       "score_group                                 \n",
       "25          299,482.97   1,162.26 322,853.44\n",
       "50               16.18       0.00     319.36\n",
       "75               29.13       5.28     687.17"
      ]
     },
     "execution_count": 94,
     "metadata": {},
     "output_type": "execute_result"
    }
   ],
   "source": [
    "others.head(3)"
   ]
  },
  {
   "cell_type": "code",
   "execution_count": 95,
   "id": "ae20ac06",
   "metadata": {},
   "outputs": [],
   "source": [
    "df0=df_0[df_0['category']!='CLASSIC']\n",
    "df0=df0[df0['category']!='GOLD']\n",
    "df0=df0[df0['category']!='STANDARD']\n",
    "df0=df0[df0['category']!='PLATINUM']\n",
    "df0=df0[df0['category']!='BLACK']\n",
    "df0=df0[df0['category']!='INFINITE']\n",
    "df0=df0[df0['category']!='SIGNATURE']\n",
    "\n",
    "df0=df0[['score_group','result','usd_amount']]\n",
    "\n",
    "others_0 = pd.pivot_table(df0, values='usd_amount', index=['score_group'],\n",
    "                    columns=['result'], aggfunc=np.sum, fill_value=0)"
   ]
  },
  {
   "cell_type": "code",
   "execution_count": 97,
   "id": "76463708",
   "metadata": {},
   "outputs": [
    {
     "data": {
      "text/plain": [
       "<AxesSubplot:title={'center':'Score vs Others [0]'}, xlabel='score_group', ylabel='USD'>"
      ]
     },
     "execution_count": 97,
     "metadata": {},
     "output_type": "execute_result"
    },
    {
     "data": {
      "image/png": "[encoded data removed]",
      "text/plain": [
       "<Figure size 1080x360 with 1 Axes>"
      ]
     },
     "metadata": {
      "needs_background": "light"
     },
     "output_type": "display_data"
    },
    {
     "data": {
      "image/png": "[encoded data removed]",
      "text/plain": [
       "<Figure size 1080x360 with 1 Axes>"
      ]
     },
     "metadata": {
      "needs_background": "light"
     },
     "output_type": "display_data"
    }
   ],
   "source": [
    "others.plot(kind='bar',\n",
    "        title = 'Score vs Others',\n",
    "        ylabel = 'USD',\n",
    "        figsize = (15,5),\n",
    "        grid = True,\n",
    "        stacked = True)\n",
    "\n",
    "others_0.plot(kind='bar',\n",
    "        title = 'Score vs Others [0]',\n",
    "        ylabel = 'USD',\n",
    "        figsize = (15,5),\n",
    "        grid = True,\n",
    "        stacked = True)"
   ]
  },
  {
   "cell_type": "code",
   "execution_count": null,
   "id": "529a0973",
   "metadata": {},
   "outputs": [],
   "source": []
  },
  {
   "cell_type": "code",
   "execution_count": null,
   "id": "a0096981",
   "metadata": {},
   "outputs": [],
   "source": []
  },
  {
   "cell_type": "code",
   "execution_count": null,
   "id": "9657e36a",
   "metadata": {},
   "outputs": [],
   "source": []
  },
  {
   "cell_type": "code",
   "execution_count": null,
   "id": "26b0b34e",
   "metadata": {},
   "outputs": [],
   "source": []
  },
  {
   "cell_type": "code",
   "execution_count": null,
   "id": "f53806c7",
   "metadata": {},
   "outputs": [],
   "source": []
  },
  {
   "cell_type": "code",
   "execution_count": null,
   "id": "3c4d5102",
   "metadata": {},
   "outputs": [],
   "source": []
  },
  {
   "cell_type": "markdown",
   "id": "6ff7227e",
   "metadata": {},
   "source": [
    "## BINs Classic Cards"
   ]
  },
  {
   "cell_type": "code",
   "execution_count": 58,
   "id": "c0115d90",
   "metadata": {},
   "outputs": [
    {
     "data": {
      "text/plain": [
       "Index(['case_id', 'bin', 'brand', 'category', 'usd_amount', 'result',\n",
       "       'flag_cbk', 'pred_score', 'score_group'],\n",
       "      dtype='object')"
      ]
     },
     "execution_count": 58,
     "metadata": {},
     "output_type": "execute_result"
    }
   ],
   "source": [
    "df.columns"
   ]
  },
  {
   "cell_type": "code",
   "execution_count": 60,
   "id": "e35fdf34",
   "metadata": {},
   "outputs": [
    {
     "data": {
      "text/plain": [
       "category\n",
       "CLASSIC    189507\n",
       "dtype: int64"
      ]
     },
     "execution_count": 60,
     "metadata": {},
     "output_type": "execute_result"
    }
   ],
   "source": [
    "df_1=df[df['category']=='CLASSIC']\n",
    "df_1.value_counts('category')"
   ]
  },
  {
   "cell_type": "code",
   "execution_count": 61,
   "id": "eb0946de",
   "metadata": {},
   "outputs": [],
   "source": [
    "df_1=df[['bin','result','usd_amount']]"
   ]
  },
  {
   "cell_type": "code",
   "execution_count": 62,
   "id": "7418a6e2",
   "metadata": {},
   "outputs": [],
   "source": [
    "table = pd.pivot_table(df_1, values='usd_amount', index=['bin'],\n",
    "                    columns=['result'], aggfunc=np.sum, fill_value=0)"
   ]
  },
  {
   "cell_type": "code",
   "execution_count": 63,
   "id": "7c778700",
   "metadata": {},
   "outputs": [
    {
     "data": {
      "text/html": [
       "<div>\n",
       "<style scoped>\n",
       "    .dataframe tbody tr th:only-of-type {\n",
       "        vertical-align: middle;\n",
       "    }\n",
       "\n",
       "    .dataframe tbody tr th {\n",
       "        vertical-align: top;\n",
       "    }\n",
       "\n",
       "    .dataframe thead th {\n",
       "        text-align: right;\n",
       "    }\n",
       "</style>\n",
       "<table border=\"1\" class=\"dataframe\">\n",
       "  <thead>\n",
       "    <tr style=\"text-align: right;\">\n",
       "      <th>result</th>\n",
       "      <th>ACCEPT</th>\n",
       "      <th>AUTHORIZE</th>\n",
       "      <th>REJECT</th>\n",
       "    </tr>\n",
       "    <tr>\n",
       "      <th>bin</th>\n",
       "      <th></th>\n",
       "      <th></th>\n",
       "      <th></th>\n",
       "    </tr>\n",
       "  </thead>\n",
       "  <tbody>\n",
       "    <tr>\n",
       "      <th>222738</th>\n",
       "      <td>0.00</td>\n",
       "      <td>0.00</td>\n",
       "      <td>1.16</td>\n",
       "    </tr>\n",
       "    <tr>\n",
       "      <th>222746</th>\n",
       "      <td>0.00</td>\n",
       "      <td>0.00</td>\n",
       "      <td>0.99</td>\n",
       "    </tr>\n",
       "    <tr>\n",
       "      <th>222763</th>\n",
       "      <td>15,884.25</td>\n",
       "      <td>56.40</td>\n",
       "      <td>34,509.30</td>\n",
       "    </tr>\n",
       "  </tbody>\n",
       "</table>\n",
       "</div>"
      ],
      "text/plain": [
       "result    ACCEPT  AUTHORIZE    REJECT\n",
       "bin                                  \n",
       "222738      0.00       0.00      1.16\n",
       "222746      0.00       0.00      0.99\n",
       "222763 15,884.25      56.40 34,509.30"
      ]
     },
     "execution_count": 63,
     "metadata": {},
     "output_type": "execute_result"
    }
   ],
   "source": [
    "table.head(3)"
   ]
  },
  {
   "cell_type": "markdown",
   "id": "b556d19e",
   "metadata": {},
   "source": [
    "## Pivote Table BIN"
   ]
  },
  {
   "cell_type": "code",
   "execution_count": 65,
   "id": "e60446ca",
   "metadata": {},
   "outputs": [],
   "source": [
    "df_1=df[['bin','result','usd_amount']]"
   ]
  },
  {
   "cell_type": "code",
   "execution_count": 66,
   "id": "c8e123cd",
   "metadata": {},
   "outputs": [
    {
     "data": {
      "text/html": [
       "<div>\n",
       "<style scoped>\n",
       "    .dataframe tbody tr th:only-of-type {\n",
       "        vertical-align: middle;\n",
       "    }\n",
       "\n",
       "    .dataframe tbody tr th {\n",
       "        vertical-align: top;\n",
       "    }\n",
       "\n",
       "    .dataframe thead th {\n",
       "        text-align: right;\n",
       "    }\n",
       "</style>\n",
       "<table border=\"1\" class=\"dataframe\">\n",
       "  <thead>\n",
       "    <tr style=\"text-align: right;\">\n",
       "      <th></th>\n",
       "      <th>bin</th>\n",
       "      <th>result</th>\n",
       "      <th>usd_amount</th>\n",
       "    </tr>\n",
       "  </thead>\n",
       "  <tbody>\n",
       "    <tr>\n",
       "      <th>0</th>\n",
       "      <td>474525</td>\n",
       "      <td>REJECT</td>\n",
       "      <td>1.98</td>\n",
       "    </tr>\n",
       "    <tr>\n",
       "      <th>1</th>\n",
       "      <td>544891</td>\n",
       "      <td>REJECT</td>\n",
       "      <td>71.05</td>\n",
       "    </tr>\n",
       "    <tr>\n",
       "      <th>2</th>\n",
       "      <td>516306</td>\n",
       "      <td>REJECT</td>\n",
       "      <td>1.18</td>\n",
       "    </tr>\n",
       "    <tr>\n",
       "      <th>3</th>\n",
       "      <td>453211</td>\n",
       "      <td>ACCEPT</td>\n",
       "      <td>6.66</td>\n",
       "    </tr>\n",
       "  </tbody>\n",
       "</table>\n",
       "</div>"
      ],
      "text/plain": [
       "      bin  result  usd_amount\n",
       "0  474525  REJECT        1.98\n",
       "1  544891  REJECT       71.05\n",
       "2  516306  REJECT        1.18\n",
       "3  453211  ACCEPT        6.66"
      ]
     },
     "execution_count": 66,
     "metadata": {},
     "output_type": "execute_result"
    }
   ],
   "source": [
    "df_1.head(4)"
   ]
  },
  {
   "cell_type": "code",
   "execution_count": 67,
   "id": "a3bc538c",
   "metadata": {},
   "outputs": [],
   "source": [
    "table = pd.pivot_table(df_1, values='usd_amount', index=['bin'],\n",
    "                    columns=['result'], aggfunc=np.sum, fill_value=0)"
   ]
  },
  {
   "cell_type": "code",
   "execution_count": 68,
   "id": "1efd3db3",
   "metadata": {},
   "outputs": [
    {
     "data": {
      "text/html": [
       "<div>\n",
       "<style scoped>\n",
       "    .dataframe tbody tr th:only-of-type {\n",
       "        vertical-align: middle;\n",
       "    }\n",
       "\n",
       "    .dataframe tbody tr th {\n",
       "        vertical-align: top;\n",
       "    }\n",
       "\n",
       "    .dataframe thead th {\n",
       "        text-align: right;\n",
       "    }\n",
       "</style>\n",
       "<table border=\"1\" class=\"dataframe\">\n",
       "  <thead>\n",
       "    <tr style=\"text-align: right;\">\n",
       "      <th>result</th>\n",
       "      <th>ACCEPT</th>\n",
       "      <th>AUTHORIZE</th>\n",
       "      <th>REJECT</th>\n",
       "    </tr>\n",
       "    <tr>\n",
       "      <th>bin</th>\n",
       "      <th></th>\n",
       "      <th></th>\n",
       "      <th></th>\n",
       "    </tr>\n",
       "  </thead>\n",
       "  <tbody>\n",
       "    <tr>\n",
       "      <th>222738</th>\n",
       "      <td>0.00</td>\n",
       "      <td>0.00</td>\n",
       "      <td>1.16</td>\n",
       "    </tr>\n",
       "    <tr>\n",
       "      <th>222746</th>\n",
       "      <td>0.00</td>\n",
       "      <td>0.00</td>\n",
       "      <td>0.99</td>\n",
       "    </tr>\n",
       "    <tr>\n",
       "      <th>222763</th>\n",
       "      <td>15,884.25</td>\n",
       "      <td>56.40</td>\n",
       "      <td>34,509.30</td>\n",
       "    </tr>\n",
       "    <tr>\n",
       "      <th>222768</th>\n",
       "      <td>0.00</td>\n",
       "      <td>0.00</td>\n",
       "      <td>2.28</td>\n",
       "    </tr>\n",
       "  </tbody>\n",
       "</table>\n",
       "</div>"
      ],
      "text/plain": [
       "result    ACCEPT  AUTHORIZE    REJECT\n",
       "bin                                  \n",
       "222738      0.00       0.00      1.16\n",
       "222746      0.00       0.00      0.99\n",
       "222763 15,884.25      56.40 34,509.30\n",
       "222768      0.00       0.00      2.28"
      ]
     },
     "execution_count": 68,
     "metadata": {},
     "output_type": "execute_result"
    }
   ],
   "source": [
    "table.head(4)"
   ]
  },
  {
   "cell_type": "code",
   "execution_count": null,
   "id": "603fb81b",
   "metadata": {},
   "outputs": [],
   "source": []
  },
  {
   "cell_type": "code",
   "execution_count": null,
   "id": "19d66780",
   "metadata": {},
   "outputs": [],
   "source": []
  }
 ],
 "metadata": {
  "kernelspec": {
   "display_name": "conda_python3",
   "language": "python",
   "name": "conda_python3"
  },
  "language_info": {
   "codemirror_mode": {
    "name": "ipython",
    "version": 3
   },
   "file_extension": ".py",
   "mimetype": "text/x-python",
   "name": "python",
   "nbconvert_exporter": "python",
   "pygments_lexer": "ipython3",
   "version": "3.6.13"
  }
 },
 "nbformat": 4,
 "nbformat_minor": 5
}
